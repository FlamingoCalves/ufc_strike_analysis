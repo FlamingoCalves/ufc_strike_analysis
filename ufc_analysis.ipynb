{
 "cells": [
  {
   "cell_type": "markdown",
   "metadata": {},
   "source": [
    "# UFC Fight Analysis: Exploring Striking Trends Across Weight Classes\n",
    "\n",
    "## Context and Purpose\n",
    "The Ultimate Fighting Championship (UFC) has seen substantial evolution since its inception, emerging as a key platform for mixed martial arts (MMA). In this project, I delve into the striking patterns observed in UFC fights, aiming to uncover insights into how fighting styles and strategies vary across weight classes and over time. The analysis is centered around several key questions to unravel the dynamics of striking in MMA:\n",
    "\n",
    "1. Which weight class strikes the most on average, and what is the variability per weight class?\n",
    "2. Which fighters get struck the most on average?\n",
    "3. How many strikes does it take to knock fighters out, on average per weight class?\n",
    "4. Do fighters strike more now than they did in the past?\n",
    "\n",
    "## Methodology\n",
    "Utilizing a dataset of UFC fights, I conducted a comprehensive analysis of striking data. The dataset includes detailed fight records, such as the number of significant strikes landed, weight class, fight outcome, and fighter statistics. My approach involved data wrangling, exploratory data analysis, and visualization using Python libraries like Pandas, Numpy and Plotly. Each question was addressed through specific statistical and graphical techniques, illustrating the striking trends and patterns in UFC.\n",
    "\n",
    "## Key Findings\n",
    "A summary of some intriguing insights from my analysis:\n",
    "\n",
    "- **Striking Frequency by Weight Class**: Lighter weight classes tend to have a higher average striking rate compared to heavier weight classes, indicating a negative correlation between striking frequency and weight class. This suggests a more agile and fast-paced fighting style in the lighter divisions.\n",
    "- **Strikes and Fighter Records**: Fighters with lower win-loss records tend to be struck more often, implying that more skilled or elite fighters typically absorb fewer strikes. This trend highlights the significance of defense and evasiveness at higher competition levels.\n",
    "- **Knockouts and Weight Classes**: It generally takes fewer strikes to knock out heavier fighters, likely due to the increased power of strikes in these weight classes. This aligns with the understanding that heavier fighters possess greater knockout power.\n",
    "- **Striking Trends Over Time**: There has been a noticeable increase in the number of strikes thrown in UFC fights over the years. This could be attributed to various factors, including the introduction of female fighters, the addition of smaller weight classes, and the evolution of rules and safety measures in the sport.\n",
    "\n",
    "This analysis offers a comprehensive view of striking trends in the UFC, providing valuable insights for fans, analysts, and practitioners of MMA."
   ]
  },
  {
   "cell_type": "code",
   "execution_count": 56,
   "metadata": {},
   "outputs": [
    {
     "name": "stdout",
     "output_type": "stream",
     "text": [
      "(7417, 18)\n"
     ]
    },
    {
     "data": {
      "text/html": [
       "<div>\n",
       "<style scoped>\n",
       "    .dataframe tbody tr th:only-of-type {\n",
       "        vertical-align: middle;\n",
       "    }\n",
       "\n",
       "    .dataframe tbody tr th {\n",
       "        vertical-align: top;\n",
       "    }\n",
       "\n",
       "    .dataframe thead th {\n",
       "        text-align: right;\n",
       "    }\n",
       "</style>\n",
       "<table border=\"1\" class=\"dataframe\">\n",
       "  <thead>\n",
       "    <tr style=\"text-align: right;\">\n",
       "      <th></th>\n",
       "      <th>Location</th>\n",
       "      <th>Fighter 1</th>\n",
       "      <th>Fighter 2</th>\n",
       "      <th>Fighter_1_KD</th>\n",
       "      <th>Fighter_2_KD</th>\n",
       "      <th>Fighter_1_STR</th>\n",
       "      <th>Fighter_2_STR</th>\n",
       "      <th>Fighter_1_TD</th>\n",
       "      <th>Fighter_2_TD</th>\n",
       "      <th>Fighter_1_SUB</th>\n",
       "      <th>Fighter_2_SUB</th>\n",
       "      <th>Weight_Class</th>\n",
       "      <th>Method</th>\n",
       "      <th>Round</th>\n",
       "      <th>Time</th>\n",
       "      <th>Event Name</th>\n",
       "      <th>Date</th>\n",
       "      <th>Winner</th>\n",
       "    </tr>\n",
       "  </thead>\n",
       "  <tbody>\n",
       "    <tr>\n",
       "      <th>0</th>\n",
       "      <td>Austin, Texas, USA</td>\n",
       "      <td>Arman Tsarukyan</td>\n",
       "      <td>Beneil Dariush</td>\n",
       "      <td>1.0</td>\n",
       "      <td>0.0</td>\n",
       "      <td>8.0</td>\n",
       "      <td>2.0</td>\n",
       "      <td>0.0</td>\n",
       "      <td>0.0</td>\n",
       "      <td>0.0</td>\n",
       "      <td>0.0</td>\n",
       "      <td>Lightweight</td>\n",
       "      <td>KO/TKO Punch</td>\n",
       "      <td>1.0</td>\n",
       "      <td>1:04</td>\n",
       "      <td>UFC Fight Night</td>\n",
       "      <td>2-Dec-23</td>\n",
       "      <td>Arman Tsarukyan</td>\n",
       "    </tr>\n",
       "    <tr>\n",
       "      <th>1</th>\n",
       "      <td>Austin, Texas, USA</td>\n",
       "      <td>Jalin Turner</td>\n",
       "      <td>Bobby Green</td>\n",
       "      <td>1.0</td>\n",
       "      <td>0.0</td>\n",
       "      <td>33.0</td>\n",
       "      <td>15.0</td>\n",
       "      <td>0.0</td>\n",
       "      <td>0.0</td>\n",
       "      <td>0.0</td>\n",
       "      <td>0.0</td>\n",
       "      <td>Lightweight</td>\n",
       "      <td>KO/TKO Punches</td>\n",
       "      <td>1.0</td>\n",
       "      <td>2:49</td>\n",
       "      <td>UFC Fight Night</td>\n",
       "      <td>2-Dec-23</td>\n",
       "      <td>Jalin Turner</td>\n",
       "    </tr>\n",
       "    <tr>\n",
       "      <th>2</th>\n",
       "      <td>Austin, Texas, USA</td>\n",
       "      <td>Deiveson Figueiredo</td>\n",
       "      <td>Rob Font</td>\n",
       "      <td>0.0</td>\n",
       "      <td>0.0</td>\n",
       "      <td>45.0</td>\n",
       "      <td>46.0</td>\n",
       "      <td>4.0</td>\n",
       "      <td>0.0</td>\n",
       "      <td>0.0</td>\n",
       "      <td>0.0</td>\n",
       "      <td>Bantamweight</td>\n",
       "      <td>U-DEC</td>\n",
       "      <td>3.0</td>\n",
       "      <td>5:00</td>\n",
       "      <td>UFC Fight Night</td>\n",
       "      <td>2-Dec-23</td>\n",
       "      <td>Deiveson Figueiredo</td>\n",
       "    </tr>\n",
       "    <tr>\n",
       "      <th>3</th>\n",
       "      <td>Austin, Texas, USA</td>\n",
       "      <td>Sean Brady</td>\n",
       "      <td>Kelvin Gastelum</td>\n",
       "      <td>0.0</td>\n",
       "      <td>0.0</td>\n",
       "      <td>14.0</td>\n",
       "      <td>18.0</td>\n",
       "      <td>5.0</td>\n",
       "      <td>0.0</td>\n",
       "      <td>3.0</td>\n",
       "      <td>0.0</td>\n",
       "      <td>Welterweight</td>\n",
       "      <td>SUB Kimura</td>\n",
       "      <td>3.0</td>\n",
       "      <td>1:43</td>\n",
       "      <td>UFC Fight Night</td>\n",
       "      <td>2-Dec-23</td>\n",
       "      <td>Sean Brady</td>\n",
       "    </tr>\n",
       "    <tr>\n",
       "      <th>4</th>\n",
       "      <td>Austin, Texas, USA</td>\n",
       "      <td>Joaquim Silva</td>\n",
       "      <td>Clay Guida</td>\n",
       "      <td>0.0</td>\n",
       "      <td>0.0</td>\n",
       "      <td>46.0</td>\n",
       "      <td>43.0</td>\n",
       "      <td>2.0</td>\n",
       "      <td>2.0</td>\n",
       "      <td>2.0</td>\n",
       "      <td>0.0</td>\n",
       "      <td>Lightweight</td>\n",
       "      <td>U-DEC</td>\n",
       "      <td>3.0</td>\n",
       "      <td>5:00</td>\n",
       "      <td>UFC Fight Night</td>\n",
       "      <td>2-Dec-23</td>\n",
       "      <td>Joaquim Silva</td>\n",
       "    </tr>\n",
       "  </tbody>\n",
       "</table>\n",
       "</div>"
      ],
      "text/plain": [
       "             Location            Fighter 1        Fighter 2  Fighter_1_KD  \\\n",
       "0  Austin, Texas, USA      Arman Tsarukyan   Beneil Dariush           1.0   \n",
       "1  Austin, Texas, USA         Jalin Turner      Bobby Green           1.0   \n",
       "2  Austin, Texas, USA  Deiveson Figueiredo         Rob Font           0.0   \n",
       "3  Austin, Texas, USA           Sean Brady  Kelvin Gastelum           0.0   \n",
       "4  Austin, Texas, USA        Joaquim Silva       Clay Guida           0.0   \n",
       "\n",
       "   Fighter_2_KD  Fighter_1_STR  Fighter_2_STR  Fighter_1_TD  Fighter_2_TD  \\\n",
       "0           0.0            8.0            2.0           0.0           0.0   \n",
       "1           0.0           33.0           15.0           0.0           0.0   \n",
       "2           0.0           45.0           46.0           4.0           0.0   \n",
       "3           0.0           14.0           18.0           5.0           0.0   \n",
       "4           0.0           46.0           43.0           2.0           2.0   \n",
       "\n",
       "   Fighter_1_SUB  Fighter_2_SUB  Weight_Class          Method  Round  Time  \\\n",
       "0            0.0            0.0   Lightweight    KO/TKO Punch    1.0  1:04   \n",
       "1            0.0            0.0   Lightweight  KO/TKO Punches    1.0  2:49   \n",
       "2            0.0            0.0  Bantamweight           U-DEC    3.0  5:00   \n",
       "3            3.0            0.0  Welterweight      SUB Kimura    3.0  1:43   \n",
       "4            2.0            0.0   Lightweight           U-DEC    3.0  5:00   \n",
       "\n",
       "        Event Name      Date               Winner  \n",
       "0  UFC Fight Night  2-Dec-23      Arman Tsarukyan  \n",
       "1  UFC Fight Night  2-Dec-23         Jalin Turner  \n",
       "2  UFC Fight Night  2-Dec-23  Deiveson Figueiredo  \n",
       "3  UFC Fight Night  2-Dec-23           Sean Brady  \n",
       "4  UFC Fight Night  2-Dec-23        Joaquim Silva  "
      ]
     },
     "metadata": {},
     "output_type": "display_data"
    }
   ],
   "source": [
    "#Imports\n",
    "import pandas as pd\n",
    "import numpy as np\n",
    "import matplotlib.pyplot as plt\n",
    "import matplotlib.colors as mcolors\n",
    "import seaborn as sns\n",
    "import warnings\n",
    "import colorsys\n",
    "import plotly.express as px\n",
    "\n",
    "#Read in data and check shape\n",
    "df = pd.read_csv('ufc.csv')\n",
    "print(df.shape)\n",
    "display(df.head())\n",
    "\n",
    "#pd.set_option('display.max_columns', None)\n",
    "#pd.set_option('display.max_rows', None)"
   ]
  },
  {
   "cell_type": "code",
   "execution_count": 57,
   "metadata": {},
   "outputs": [
    {
     "name": "stdout",
     "output_type": "stream",
     "text": [
      "Location         0\n",
      "Fighter 1        0\n",
      "Fighter 2        0\n",
      "Fighter_1_KD     0\n",
      "Fighter_2_KD     0\n",
      "Fighter_1_STR    0\n",
      "Fighter_2_STR    0\n",
      "Fighter_1_TD     0\n",
      "Fighter_2_TD     0\n",
      "Fighter_1_SUB    0\n",
      "Fighter_2_SUB    0\n",
      "Weight_Class     0\n",
      "Method           0\n",
      "Round            0\n",
      "Time             0\n",
      "Event Name       0\n",
      "Date             0\n",
      "Winner           0\n",
      "dtype: int64\n",
      "\n",
      "Location          object\n",
      "Fighter 1         object\n",
      "Fighter 2         object\n",
      "Fighter_1_KD     float64\n",
      "Fighter_2_KD     float64\n",
      "Fighter_1_STR    float64\n",
      "Fighter_2_STR    float64\n",
      "Fighter_1_TD     float64\n",
      "Fighter_2_TD     float64\n",
      "Fighter_1_SUB    float64\n",
      "Fighter_2_SUB    float64\n",
      "Weight_Class      object\n",
      "Method            object\n",
      "Round            float64\n",
      "Time              object\n",
      "Event Name        object\n",
      "Date              object\n",
      "Winner            object\n",
      "dtype: object\n",
      "\n",
      "       Fighter_1_KD  Fighter_2_KD  Fighter_1_STR  Fighter_2_STR  Fighter_1_TD  \\\n",
      "count   7412.000000   7412.000000    7412.000000    7412.000000   7412.000000   \n",
      "mean       0.366972      0.063546      43.123314      28.561657      1.452105   \n",
      "std        0.607362      0.268197      34.396949      26.934822      1.981019   \n",
      "min        0.000000      0.000000       0.000000       0.000000      0.000000   \n",
      "25%        0.000000      0.000000      17.000000       8.000000      0.000000   \n",
      "50%        0.000000      0.000000      36.000000      22.000000      1.000000   \n",
      "75%        1.000000      0.000000      61.000000      41.000000      2.000000   \n",
      "max        5.000000      3.000000     445.000000     271.000000     21.000000   \n",
      "\n",
      "       Fighter_2_TD  Fighter_1_SUB  Fighter_2_SUB        Round  \n",
      "count   7412.000000    7412.000000    7412.000000  7412.000000  \n",
      "mean       0.666352       0.532110       0.250540     2.338505  \n",
      "std        1.186660       0.939354       0.689156     1.013716  \n",
      "min        0.000000       0.000000       0.000000     1.000000  \n",
      "25%        0.000000       0.000000       0.000000     1.000000  \n",
      "50%        0.000000       0.000000       0.000000     3.000000  \n",
      "75%        1.000000       1.000000       0.000000     3.000000  \n",
      "max       11.000000      10.000000       7.000000     5.000000  \n",
      "\n",
      "0\n"
     ]
    },
    {
     "data": {
      "text/html": [
       "<div>\n",
       "<style scoped>\n",
       "    .dataframe tbody tr th:only-of-type {\n",
       "        vertical-align: middle;\n",
       "    }\n",
       "\n",
       "    .dataframe tbody tr th {\n",
       "        vertical-align: top;\n",
       "    }\n",
       "\n",
       "    .dataframe thead th {\n",
       "        text-align: right;\n",
       "    }\n",
       "</style>\n",
       "<table border=\"1\" class=\"dataframe\">\n",
       "  <thead>\n",
       "    <tr style=\"text-align: right;\">\n",
       "      <th></th>\n",
       "      <th>Location</th>\n",
       "      <th>Fighter 1</th>\n",
       "      <th>Fighter 2</th>\n",
       "      <th>Fighter_1_KD</th>\n",
       "      <th>Fighter_2_KD</th>\n",
       "      <th>Fighter_1_STR</th>\n",
       "      <th>Fighter_2_STR</th>\n",
       "      <th>Fighter_1_TD</th>\n",
       "      <th>Fighter_2_TD</th>\n",
       "      <th>Fighter_1_SUB</th>\n",
       "      <th>Fighter_2_SUB</th>\n",
       "      <th>Weight_Class</th>\n",
       "      <th>Method</th>\n",
       "      <th>Round</th>\n",
       "      <th>Time</th>\n",
       "      <th>Event Name</th>\n",
       "      <th>Date</th>\n",
       "      <th>Winner</th>\n",
       "    </tr>\n",
       "  </thead>\n",
       "  <tbody>\n",
       "  </tbody>\n",
       "</table>\n",
       "</div>"
      ],
      "text/plain": [
       "Empty DataFrame\n",
       "Columns: [Location, Fighter 1, Fighter 2, Fighter_1_KD, Fighter_2_KD, Fighter_1_STR, Fighter_2_STR, Fighter_1_TD, Fighter_2_TD, Fighter_1_SUB, Fighter_2_SUB, Weight_Class, Method, Round, Time, Event Name, Date, Winner]\n",
       "Index: []"
      ]
     },
     "metadata": {},
     "output_type": "display_data"
    }
   ],
   "source": [
    "df.dropna(subset='Fighter 2', inplace=True)\n",
    "df.dropna(subset='Date', inplace=True)\n",
    "\n",
    "#Check for null values, data types, and duplicates\n",
    "print(df.isnull().sum())\n",
    "print()\n",
    "print(df.dtypes)\n",
    "print()\n",
    "print(df.describe())\n",
    "print()\n",
    "print(df.duplicated().sum())\n",
    "\n",
    "# Find and display duplicates\n",
    "duplicates = df[df.duplicated()]\n",
    "display(duplicates)"
   ]
  },
  {
   "cell_type": "markdown",
   "metadata": {},
   "source": [
    "## 1. Which weight class strikes the most on average, and what is the variability per weight class?"
   ]
  },
  {
   "cell_type": "code",
   "execution_count": 88,
   "metadata": {},
   "outputs": [
    {
     "name": "stderr",
     "output_type": "stream",
     "text": [
      "/Users/jevan/Documents/python_projects/ufc_events/ufc_venv/lib/python3.9/site-packages/plotly/express/_core.py:2065: FutureWarning:\n",
      "\n",
      "When grouping with a length-1 list-like, you will need to pass a length-1 tuple to get_group in a future version of pandas. Pass `(name,)` instead of `name` to silence this warning.\n",
      "\n"
     ]
    },
    {
     "data": {
      "application/vnd.plotly.v1+json": {
       "config": {
        "plotlyServerURL": "https://plot.ly"
       },
       "data": [
        {
         "alignmentgroup": "True",
         "hovertemplate": "Total_STR=%{x}<br>Weight_Class=%{y}<extra></extra>",
         "legendgroup": "",
         "marker": {
          "color": "rgb(255, 128, 128)",
          "pattern": {
           "shape": ""
          }
         },
         "name": "",
         "offsetgroup": "",
         "orientation": "h",
         "showlegend": false,
         "textposition": "auto",
         "type": "bar",
         "x": [
          13.598039215686274
         ],
         "xaxis": "x",
         "y": [
          "Open Weight"
         ],
         "yaxis": "y"
        },
        {
         "alignmentgroup": "True",
         "hovertemplate": "Total_STR=%{x}<br>Weight_Class=%{y}<extra></extra>",
         "legendgroup": "",
         "marker": {
          "color": "rgb(255, 108, 108)",
          "pattern": {
           "shape": ""
          }
         },
         "name": "",
         "offsetgroup": "",
         "orientation": "h",
         "showlegend": false,
         "textposition": "auto",
         "type": "bar",
         "x": [
          27
         ],
         "xaxis": "x",
         "y": [
          "Super Heavyweight"
         ],
         "yaxis": "y"
        },
        {
         "alignmentgroup": "True",
         "hovertemplate": "Total_STR=%{x}<br>Weight_Class=%{y}<extra></extra>",
         "legendgroup": "",
         "marker": {
          "color": "rgb(255, 66, 66)",
          "pattern": {
           "shape": ""
          }
         },
         "name": "",
         "offsetgroup": "",
         "orientation": "h",
         "showlegend": false,
         "textposition": "auto",
         "type": "bar",
         "x": [
          56.76315789473684
         ],
         "xaxis": "x",
         "y": [
          "Heavyweight"
         ],
         "yaxis": "y"
        },
        {
         "alignmentgroup": "True",
         "hovertemplate": "Total_STR=%{x}<br>Weight_Class=%{y}<extra></extra>",
         "legendgroup": "",
         "marker": {
          "color": "rgb(255, 59, 59)",
          "pattern": {
           "shape": ""
          }
         },
         "name": "",
         "offsetgroup": "",
         "orientation": "h",
         "showlegend": false,
         "textposition": "auto",
         "type": "bar",
         "x": [
          61.9201213346815
         ],
         "xaxis": "x",
         "y": [
          "Middleweight"
         ],
         "yaxis": "y"
        },
        {
         "alignmentgroup": "True",
         "hovertemplate": "Total_STR=%{x}<br>Weight_Class=%{y}<extra></extra>",
         "legendgroup": "",
         "marker": {
          "color": "rgb(255, 57, 57)",
          "pattern": {
           "shape": ""
          }
         },
         "name": "",
         "offsetgroup": "",
         "orientation": "h",
         "showlegend": false,
         "textposition": "auto",
         "type": "bar",
         "x": [
          63.22541603630862
         ],
         "xaxis": "x",
         "y": [
          "Light Heavyweight"
         ],
         "yaxis": "y"
        },
        {
         "alignmentgroup": "True",
         "hovertemplate": "Total_STR=%{x}<br>Weight_Class=%{y}<extra></extra>",
         "legendgroup": "",
         "marker": {
          "color": "rgb(255, 48, 48)",
          "pattern": {
           "shape": ""
          }
         },
         "name": "",
         "offsetgroup": "",
         "orientation": "h",
         "showlegend": false,
         "textposition": "auto",
         "type": "bar",
         "x": [
          69.12965838509317
         ],
         "xaxis": "x",
         "y": [
          "Lightweight"
         ],
         "yaxis": "y"
        },
        {
         "alignmentgroup": "True",
         "hovertemplate": "Total_STR=%{x}<br>Weight_Class=%{y}<extra></extra>",
         "legendgroup": "",
         "marker": {
          "color": "rgb(255, 47, 47)",
          "pattern": {
           "shape": ""
          }
         },
         "name": "",
         "offsetgroup": "",
         "orientation": "h",
         "showlegend": false,
         "textposition": "auto",
         "type": "bar",
         "x": [
          70.12349639133922
         ],
         "xaxis": "x",
         "y": [
          "Welterweight"
         ],
         "yaxis": "y"
        },
        {
         "alignmentgroup": "True",
         "hovertemplate": "Total_STR=%{x}<br>Weight_Class=%{y}<extra></extra>",
         "legendgroup": "",
         "marker": {
          "color": "rgb(255, 40, 40)",
          "pattern": {
           "shape": ""
          }
         },
         "name": "",
         "offsetgroup": "",
         "orientation": "h",
         "showlegend": false,
         "textposition": "auto",
         "type": "bar",
         "x": [
          74.75
         ],
         "xaxis": "x",
         "y": [
          "Flyweight"
         ],
         "yaxis": "y"
        },
        {
         "alignmentgroup": "True",
         "hovertemplate": "Total_STR=%{x}<br>Weight_Class=%{y}<extra></extra>",
         "legendgroup": "",
         "marker": {
          "color": "rgb(255, 32, 32)",
          "pattern": {
           "shape": ""
          }
         },
         "name": "",
         "offsetgroup": "",
         "orientation": "h",
         "showlegend": false,
         "textposition": "auto",
         "type": "bar",
         "x": [
          80.47709320695103
         ],
         "xaxis": "x",
         "y": [
          "Bantamweight"
         ],
         "yaxis": "y"
        },
        {
         "alignmentgroup": "True",
         "hovertemplate": "Total_STR=%{x}<br>Weight_Class=%{y}<extra></extra>",
         "legendgroup": "",
         "marker": {
          "color": "rgb(255, 26, 26)",
          "pattern": {
           "shape": ""
          }
         },
         "name": "",
         "offsetgroup": "",
         "orientation": "h",
         "showlegend": false,
         "textposition": "auto",
         "type": "bar",
         "x": [
          84.83661971830986
         ],
         "xaxis": "x",
         "y": [
          "Featherweight"
         ],
         "yaxis": "y"
        },
        {
         "alignmentgroup": "True",
         "hovertemplate": "Total_STR=%{x}<br>Weight_Class=%{y}<extra></extra>",
         "legendgroup": "",
         "marker": {
          "color": "rgb(255, 21, 21)",
          "pattern": {
           "shape": ""
          }
         },
         "name": "",
         "offsetgroup": "",
         "orientation": "h",
         "showlegend": false,
         "textposition": "auto",
         "type": "bar",
         "x": [
          88.16923076923077
         ],
         "xaxis": "x",
         "y": [
          "Catch Weight"
         ],
         "yaxis": "y"
        },
        {
         "alignmentgroup": "True",
         "hovertemplate": "Total_STR=%{x}<br>Weight_Class=%{y}<extra></extra>",
         "legendgroup": "",
         "marker": {
          "color": "rgb(255, 19, 19)",
          "pattern": {
           "shape": ""
          }
         },
         "name": "",
         "offsetgroup": "",
         "orientation": "h",
         "showlegend": false,
         "textposition": "auto",
         "type": "bar",
         "x": [
          89.75862068965517
         ],
         "xaxis": "x",
         "y": [
          "Women's Featherweight"
         ],
         "yaxis": "y"
        },
        {
         "alignmentgroup": "True",
         "hovertemplate": "Total_STR=%{x}<br>Weight_Class=%{y}<extra></extra>",
         "legendgroup": "",
         "marker": {
          "color": "rgb(255, 16, 16)",
          "pattern": {
           "shape": ""
          }
         },
         "name": "",
         "offsetgroup": "",
         "orientation": "h",
         "showlegend": false,
         "textposition": "auto",
         "type": "bar",
         "x": [
          91.6082474226804
         ],
         "xaxis": "x",
         "y": [
          "Women's Bantamweight"
         ],
         "yaxis": "y"
        },
        {
         "alignmentgroup": "True",
         "hovertemplate": "Total_STR=%{x}<br>Weight_Class=%{y}<extra></extra>",
         "legendgroup": "",
         "marker": {
          "color": "rgb(255, 1, 1)",
          "pattern": {
           "shape": ""
          }
         },
         "name": "",
         "offsetgroup": "",
         "orientation": "h",
         "showlegend": false,
         "textposition": "auto",
         "type": "bar",
         "x": [
          102.18947368421053
         ],
         "xaxis": "x",
         "y": [
          "Women's Strawweight"
         ],
         "yaxis": "y"
        },
        {
         "alignmentgroup": "True",
         "hovertemplate": "Total_STR=%{x}<br>Weight_Class=%{y}<extra></extra>",
         "legendgroup": "",
         "marker": {
          "color": "rgb(255, 0, 0)",
          "pattern": {
           "shape": ""
          }
         },
         "name": "",
         "offsetgroup": "",
         "orientation": "h",
         "showlegend": false,
         "textposition": "auto",
         "type": "bar",
         "x": [
          103.05188679245283
         ],
         "xaxis": "x",
         "y": [
          "Women's Flyweight"
         ],
         "yaxis": "y"
        }
       ],
       "layout": {
        "barmode": "relative",
        "legend": {
         "tracegroupgap": 0
        },
        "showlegend": false,
        "template": {
         "data": {
          "bar": [
           {
            "error_x": {
             "color": "#f2f5fa"
            },
            "error_y": {
             "color": "#f2f5fa"
            },
            "marker": {
             "line": {
              "color": "rgb(17,17,17)",
              "width": 0.5
             },
             "pattern": {
              "fillmode": "overlay",
              "size": 10,
              "solidity": 0.2
             }
            },
            "type": "bar"
           }
          ],
          "barpolar": [
           {
            "marker": {
             "line": {
              "color": "rgb(17,17,17)",
              "width": 0.5
             },
             "pattern": {
              "fillmode": "overlay",
              "size": 10,
              "solidity": 0.2
             }
            },
            "type": "barpolar"
           }
          ],
          "carpet": [
           {
            "aaxis": {
             "endlinecolor": "#A2B1C6",
             "gridcolor": "#506784",
             "linecolor": "#506784",
             "minorgridcolor": "#506784",
             "startlinecolor": "#A2B1C6"
            },
            "baxis": {
             "endlinecolor": "#A2B1C6",
             "gridcolor": "#506784",
             "linecolor": "#506784",
             "minorgridcolor": "#506784",
             "startlinecolor": "#A2B1C6"
            },
            "type": "carpet"
           }
          ],
          "choropleth": [
           {
            "colorbar": {
             "outlinewidth": 0,
             "ticks": ""
            },
            "type": "choropleth"
           }
          ],
          "contour": [
           {
            "colorbar": {
             "outlinewidth": 0,
             "ticks": ""
            },
            "colorscale": [
             [
              0,
              "#0d0887"
             ],
             [
              0.1111111111111111,
              "#46039f"
             ],
             [
              0.2222222222222222,
              "#7201a8"
             ],
             [
              0.3333333333333333,
              "#9c179e"
             ],
             [
              0.4444444444444444,
              "#bd3786"
             ],
             [
              0.5555555555555556,
              "#d8576b"
             ],
             [
              0.6666666666666666,
              "#ed7953"
             ],
             [
              0.7777777777777778,
              "#fb9f3a"
             ],
             [
              0.8888888888888888,
              "#fdca26"
             ],
             [
              1,
              "#f0f921"
             ]
            ],
            "type": "contour"
           }
          ],
          "contourcarpet": [
           {
            "colorbar": {
             "outlinewidth": 0,
             "ticks": ""
            },
            "type": "contourcarpet"
           }
          ],
          "heatmap": [
           {
            "colorbar": {
             "outlinewidth": 0,
             "ticks": ""
            },
            "colorscale": [
             [
              0,
              "#0d0887"
             ],
             [
              0.1111111111111111,
              "#46039f"
             ],
             [
              0.2222222222222222,
              "#7201a8"
             ],
             [
              0.3333333333333333,
              "#9c179e"
             ],
             [
              0.4444444444444444,
              "#bd3786"
             ],
             [
              0.5555555555555556,
              "#d8576b"
             ],
             [
              0.6666666666666666,
              "#ed7953"
             ],
             [
              0.7777777777777778,
              "#fb9f3a"
             ],
             [
              0.8888888888888888,
              "#fdca26"
             ],
             [
              1,
              "#f0f921"
             ]
            ],
            "type": "heatmap"
           }
          ],
          "heatmapgl": [
           {
            "colorbar": {
             "outlinewidth": 0,
             "ticks": ""
            },
            "colorscale": [
             [
              0,
              "#0d0887"
             ],
             [
              0.1111111111111111,
              "#46039f"
             ],
             [
              0.2222222222222222,
              "#7201a8"
             ],
             [
              0.3333333333333333,
              "#9c179e"
             ],
             [
              0.4444444444444444,
              "#bd3786"
             ],
             [
              0.5555555555555556,
              "#d8576b"
             ],
             [
              0.6666666666666666,
              "#ed7953"
             ],
             [
              0.7777777777777778,
              "#fb9f3a"
             ],
             [
              0.8888888888888888,
              "#fdca26"
             ],
             [
              1,
              "#f0f921"
             ]
            ],
            "type": "heatmapgl"
           }
          ],
          "histogram": [
           {
            "marker": {
             "pattern": {
              "fillmode": "overlay",
              "size": 10,
              "solidity": 0.2
             }
            },
            "type": "histogram"
           }
          ],
          "histogram2d": [
           {
            "colorbar": {
             "outlinewidth": 0,
             "ticks": ""
            },
            "colorscale": [
             [
              0,
              "#0d0887"
             ],
             [
              0.1111111111111111,
              "#46039f"
             ],
             [
              0.2222222222222222,
              "#7201a8"
             ],
             [
              0.3333333333333333,
              "#9c179e"
             ],
             [
              0.4444444444444444,
              "#bd3786"
             ],
             [
              0.5555555555555556,
              "#d8576b"
             ],
             [
              0.6666666666666666,
              "#ed7953"
             ],
             [
              0.7777777777777778,
              "#fb9f3a"
             ],
             [
              0.8888888888888888,
              "#fdca26"
             ],
             [
              1,
              "#f0f921"
             ]
            ],
            "type": "histogram2d"
           }
          ],
          "histogram2dcontour": [
           {
            "colorbar": {
             "outlinewidth": 0,
             "ticks": ""
            },
            "colorscale": [
             [
              0,
              "#0d0887"
             ],
             [
              0.1111111111111111,
              "#46039f"
             ],
             [
              0.2222222222222222,
              "#7201a8"
             ],
             [
              0.3333333333333333,
              "#9c179e"
             ],
             [
              0.4444444444444444,
              "#bd3786"
             ],
             [
              0.5555555555555556,
              "#d8576b"
             ],
             [
              0.6666666666666666,
              "#ed7953"
             ],
             [
              0.7777777777777778,
              "#fb9f3a"
             ],
             [
              0.8888888888888888,
              "#fdca26"
             ],
             [
              1,
              "#f0f921"
             ]
            ],
            "type": "histogram2dcontour"
           }
          ],
          "mesh3d": [
           {
            "colorbar": {
             "outlinewidth": 0,
             "ticks": ""
            },
            "type": "mesh3d"
           }
          ],
          "parcoords": [
           {
            "line": {
             "colorbar": {
              "outlinewidth": 0,
              "ticks": ""
             }
            },
            "type": "parcoords"
           }
          ],
          "pie": [
           {
            "automargin": true,
            "type": "pie"
           }
          ],
          "scatter": [
           {
            "marker": {
             "line": {
              "color": "#283442"
             }
            },
            "type": "scatter"
           }
          ],
          "scatter3d": [
           {
            "line": {
             "colorbar": {
              "outlinewidth": 0,
              "ticks": ""
             }
            },
            "marker": {
             "colorbar": {
              "outlinewidth": 0,
              "ticks": ""
             }
            },
            "type": "scatter3d"
           }
          ],
          "scattercarpet": [
           {
            "marker": {
             "colorbar": {
              "outlinewidth": 0,
              "ticks": ""
             }
            },
            "type": "scattercarpet"
           }
          ],
          "scattergeo": [
           {
            "marker": {
             "colorbar": {
              "outlinewidth": 0,
              "ticks": ""
             }
            },
            "type": "scattergeo"
           }
          ],
          "scattergl": [
           {
            "marker": {
             "line": {
              "color": "#283442"
             }
            },
            "type": "scattergl"
           }
          ],
          "scattermapbox": [
           {
            "marker": {
             "colorbar": {
              "outlinewidth": 0,
              "ticks": ""
             }
            },
            "type": "scattermapbox"
           }
          ],
          "scatterpolar": [
           {
            "marker": {
             "colorbar": {
              "outlinewidth": 0,
              "ticks": ""
             }
            },
            "type": "scatterpolar"
           }
          ],
          "scatterpolargl": [
           {
            "marker": {
             "colorbar": {
              "outlinewidth": 0,
              "ticks": ""
             }
            },
            "type": "scatterpolargl"
           }
          ],
          "scatterternary": [
           {
            "marker": {
             "colorbar": {
              "outlinewidth": 0,
              "ticks": ""
             }
            },
            "type": "scatterternary"
           }
          ],
          "surface": [
           {
            "colorbar": {
             "outlinewidth": 0,
             "ticks": ""
            },
            "colorscale": [
             [
              0,
              "#0d0887"
             ],
             [
              0.1111111111111111,
              "#46039f"
             ],
             [
              0.2222222222222222,
              "#7201a8"
             ],
             [
              0.3333333333333333,
              "#9c179e"
             ],
             [
              0.4444444444444444,
              "#bd3786"
             ],
             [
              0.5555555555555556,
              "#d8576b"
             ],
             [
              0.6666666666666666,
              "#ed7953"
             ],
             [
              0.7777777777777778,
              "#fb9f3a"
             ],
             [
              0.8888888888888888,
              "#fdca26"
             ],
             [
              1,
              "#f0f921"
             ]
            ],
            "type": "surface"
           }
          ],
          "table": [
           {
            "cells": {
             "fill": {
              "color": "#506784"
             },
             "line": {
              "color": "rgb(17,17,17)"
             }
            },
            "header": {
             "fill": {
              "color": "#2a3f5f"
             },
             "line": {
              "color": "rgb(17,17,17)"
             }
            },
            "type": "table"
           }
          ]
         },
         "layout": {
          "annotationdefaults": {
           "arrowcolor": "#f2f5fa",
           "arrowhead": 0,
           "arrowwidth": 1
          },
          "autotypenumbers": "strict",
          "coloraxis": {
           "colorbar": {
            "outlinewidth": 0,
            "ticks": ""
           }
          },
          "colorscale": {
           "diverging": [
            [
             0,
             "#8e0152"
            ],
            [
             0.1,
             "#c51b7d"
            ],
            [
             0.2,
             "#de77ae"
            ],
            [
             0.3,
             "#f1b6da"
            ],
            [
             0.4,
             "#fde0ef"
            ],
            [
             0.5,
             "#f7f7f7"
            ],
            [
             0.6,
             "#e6f5d0"
            ],
            [
             0.7,
             "#b8e186"
            ],
            [
             0.8,
             "#7fbc41"
            ],
            [
             0.9,
             "#4d9221"
            ],
            [
             1,
             "#276419"
            ]
           ],
           "sequential": [
            [
             0,
             "#0d0887"
            ],
            [
             0.1111111111111111,
             "#46039f"
            ],
            [
             0.2222222222222222,
             "#7201a8"
            ],
            [
             0.3333333333333333,
             "#9c179e"
            ],
            [
             0.4444444444444444,
             "#bd3786"
            ],
            [
             0.5555555555555556,
             "#d8576b"
            ],
            [
             0.6666666666666666,
             "#ed7953"
            ],
            [
             0.7777777777777778,
             "#fb9f3a"
            ],
            [
             0.8888888888888888,
             "#fdca26"
            ],
            [
             1,
             "#f0f921"
            ]
           ],
           "sequentialminus": [
            [
             0,
             "#0d0887"
            ],
            [
             0.1111111111111111,
             "#46039f"
            ],
            [
             0.2222222222222222,
             "#7201a8"
            ],
            [
             0.3333333333333333,
             "#9c179e"
            ],
            [
             0.4444444444444444,
             "#bd3786"
            ],
            [
             0.5555555555555556,
             "#d8576b"
            ],
            [
             0.6666666666666666,
             "#ed7953"
            ],
            [
             0.7777777777777778,
             "#fb9f3a"
            ],
            [
             0.8888888888888888,
             "#fdca26"
            ],
            [
             1,
             "#f0f921"
            ]
           ]
          },
          "colorway": [
           "#636efa",
           "#EF553B",
           "#00cc96",
           "#ab63fa",
           "#FFA15A",
           "#19d3f3",
           "#FF6692",
           "#B6E880",
           "#FF97FF",
           "#FECB52"
          ],
          "font": {
           "color": "#f2f5fa"
          },
          "geo": {
           "bgcolor": "rgb(17,17,17)",
           "lakecolor": "rgb(17,17,17)",
           "landcolor": "rgb(17,17,17)",
           "showlakes": true,
           "showland": true,
           "subunitcolor": "#506784"
          },
          "hoverlabel": {
           "align": "left"
          },
          "hovermode": "closest",
          "mapbox": {
           "style": "dark"
          },
          "paper_bgcolor": "rgb(17,17,17)",
          "plot_bgcolor": "rgb(17,17,17)",
          "polar": {
           "angularaxis": {
            "gridcolor": "#506784",
            "linecolor": "#506784",
            "ticks": ""
           },
           "bgcolor": "rgb(17,17,17)",
           "radialaxis": {
            "gridcolor": "#506784",
            "linecolor": "#506784",
            "ticks": ""
           }
          },
          "scene": {
           "xaxis": {
            "backgroundcolor": "rgb(17,17,17)",
            "gridcolor": "#506784",
            "gridwidth": 2,
            "linecolor": "#506784",
            "showbackground": true,
            "ticks": "",
            "zerolinecolor": "#C8D4E3"
           },
           "yaxis": {
            "backgroundcolor": "rgb(17,17,17)",
            "gridcolor": "#506784",
            "gridwidth": 2,
            "linecolor": "#506784",
            "showbackground": true,
            "ticks": "",
            "zerolinecolor": "#C8D4E3"
           },
           "zaxis": {
            "backgroundcolor": "rgb(17,17,17)",
            "gridcolor": "#506784",
            "gridwidth": 2,
            "linecolor": "#506784",
            "showbackground": true,
            "ticks": "",
            "zerolinecolor": "#C8D4E3"
           }
          },
          "shapedefaults": {
           "line": {
            "color": "#f2f5fa"
           }
          },
          "sliderdefaults": {
           "bgcolor": "#C8D4E3",
           "bordercolor": "rgb(17,17,17)",
           "borderwidth": 1,
           "tickwidth": 0
          },
          "ternary": {
           "aaxis": {
            "gridcolor": "#506784",
            "linecolor": "#506784",
            "ticks": ""
           },
           "baxis": {
            "gridcolor": "#506784",
            "linecolor": "#506784",
            "ticks": ""
           },
           "bgcolor": "rgb(17,17,17)",
           "caxis": {
            "gridcolor": "#506784",
            "linecolor": "#506784",
            "ticks": ""
           }
          },
          "title": {
           "x": 0.05
          },
          "updatemenudefaults": {
           "bgcolor": "#506784",
           "borderwidth": 0
          },
          "xaxis": {
           "automargin": true,
           "gridcolor": "#283442",
           "linecolor": "#506784",
           "ticks": "",
           "title": {
            "standoff": 15
           },
           "zerolinecolor": "#283442",
           "zerolinewidth": 2
          },
          "yaxis": {
           "automargin": true,
           "gridcolor": "#283442",
           "linecolor": "#506784",
           "ticks": "",
           "title": {
            "standoff": 15
           },
           "zerolinecolor": "#283442",
           "zerolinewidth": 2
          }
         }
        },
        "title": {
         "font": {
          "size": 20
         },
         "text": "Average Significant Strikes Landed per Weight Class",
         "x": 0.5
        },
        "xaxis": {
         "anchor": "y",
         "domain": [
          0,
          1
         ],
         "title": {
          "text": "Average Significant Strikes"
         }
        },
        "yaxis": {
         "anchor": "x",
         "domain": [
          0,
          1
         ],
         "title": {
          "text": "Weight Class"
         }
        }
       }
      }
     },
     "metadata": {},
     "output_type": "display_data"
    },
    {
     "data": {
      "text/html": [
       "<div>\n",
       "<style scoped>\n",
       "    .dataframe tbody tr th:only-of-type {\n",
       "        vertical-align: middle;\n",
       "    }\n",
       "\n",
       "    .dataframe tbody tr th {\n",
       "        vertical-align: top;\n",
       "    }\n",
       "\n",
       "    .dataframe thead th {\n",
       "        text-align: right;\n",
       "    }\n",
       "</style>\n",
       "<table border=\"1\" class=\"dataframe\">\n",
       "  <thead>\n",
       "    <tr style=\"text-align: right;\">\n",
       "      <th></th>\n",
       "      <th>Weight_Class</th>\n",
       "      <th>Total_STR</th>\n",
       "    </tr>\n",
       "  </thead>\n",
       "  <tbody>\n",
       "    <tr>\n",
       "      <th>14</th>\n",
       "      <td>Women's Flyweight</td>\n",
       "      <td>103.051887</td>\n",
       "    </tr>\n",
       "    <tr>\n",
       "      <th>13</th>\n",
       "      <td>Women's Strawweight</td>\n",
       "      <td>102.189474</td>\n",
       "    </tr>\n",
       "    <tr>\n",
       "      <th>12</th>\n",
       "      <td>Women's Bantamweight</td>\n",
       "      <td>91.608247</td>\n",
       "    </tr>\n",
       "    <tr>\n",
       "      <th>11</th>\n",
       "      <td>Women's Featherweight</td>\n",
       "      <td>89.758621</td>\n",
       "    </tr>\n",
       "    <tr>\n",
       "      <th>10</th>\n",
       "      <td>Catch Weight</td>\n",
       "      <td>88.169231</td>\n",
       "    </tr>\n",
       "    <tr>\n",
       "      <th>9</th>\n",
       "      <td>Featherweight</td>\n",
       "      <td>84.836620</td>\n",
       "    </tr>\n",
       "    <tr>\n",
       "      <th>8</th>\n",
       "      <td>Bantamweight</td>\n",
       "      <td>80.477093</td>\n",
       "    </tr>\n",
       "    <tr>\n",
       "      <th>7</th>\n",
       "      <td>Flyweight</td>\n",
       "      <td>74.750000</td>\n",
       "    </tr>\n",
       "    <tr>\n",
       "      <th>6</th>\n",
       "      <td>Welterweight</td>\n",
       "      <td>70.123496</td>\n",
       "    </tr>\n",
       "    <tr>\n",
       "      <th>5</th>\n",
       "      <td>Lightweight</td>\n",
       "      <td>69.129658</td>\n",
       "    </tr>\n",
       "    <tr>\n",
       "      <th>4</th>\n",
       "      <td>Light Heavyweight</td>\n",
       "      <td>63.225416</td>\n",
       "    </tr>\n",
       "    <tr>\n",
       "      <th>3</th>\n",
       "      <td>Middleweight</td>\n",
       "      <td>61.920121</td>\n",
       "    </tr>\n",
       "    <tr>\n",
       "      <th>2</th>\n",
       "      <td>Heavyweight</td>\n",
       "      <td>56.763158</td>\n",
       "    </tr>\n",
       "    <tr>\n",
       "      <th>1</th>\n",
       "      <td>Super Heavyweight</td>\n",
       "      <td>27.000000</td>\n",
       "    </tr>\n",
       "    <tr>\n",
       "      <th>0</th>\n",
       "      <td>Open Weight</td>\n",
       "      <td>13.598039</td>\n",
       "    </tr>\n",
       "  </tbody>\n",
       "</table>\n",
       "</div>"
      ],
      "text/plain": [
       "             Weight_Class   Total_STR\n",
       "14      Women's Flyweight  103.051887\n",
       "13    Women's Strawweight  102.189474\n",
       "12   Women's Bantamweight   91.608247\n",
       "11  Women's Featherweight   89.758621\n",
       "10           Catch Weight   88.169231\n",
       "9           Featherweight   84.836620\n",
       "8            Bantamweight   80.477093\n",
       "7               Flyweight   74.750000\n",
       "6            Welterweight   70.123496\n",
       "5             Lightweight   69.129658\n",
       "4       Light Heavyweight   63.225416\n",
       "3            Middleweight   61.920121\n",
       "2             Heavyweight   56.763158\n",
       "1       Super Heavyweight   27.000000\n",
       "0             Open Weight   13.598039"
      ]
     },
     "execution_count": 88,
     "metadata": {},
     "output_type": "execute_result"
    }
   ],
   "source": [
    "def get_gradient_colors(dataframe, value_column, color_start=(1, 0, 0), color_end=None):\n",
    "    \"\"\"\n",
    "    Generate gradient colors for a dataframe column.\n",
    "    \n",
    "    :param dataframe: Pandas DataFrame containing the data.\n",
    "    :param value_column: The name of the column to base the gradient on.\n",
    "    :param color_start: The starting color for the gradient as an HSV tuple.\n",
    "    :param color_end: The ending color for the gradient as an HSV tuple. If None, a single-color gradient is used.\n",
    "    :return: List of gradient colors.\n",
    "    \"\"\"\n",
    "    min_value = dataframe[value_column].min()\n",
    "    max_value = dataframe[value_column].max()\n",
    "\n",
    "    def interpolate_color(value, color1, color2=None):\n",
    "        \"\"\" Interpolate between two colors in HSV space \"\"\"\n",
    "        if color2 is None:\n",
    "            color2 = color1\n",
    "        normalized = (value - min_value) / (max_value - min_value)\n",
    "        interpolated_color = [color1[i] + (color2[i] - color1[i]) * normalized for i in range(3)]\n",
    "        return colorsys.hsv_to_rgb(*interpolated_color)\n",
    "    \n",
    "    gradient_colors = [\n",
    "        interpolate_color(value, color_start, color_end) for value in dataframe[value_column]\n",
    "    ]\n",
    "    return ['rgb({:.0f}, {:.0f}, {:.0f})'.format(r * 255, g * 255, b * 255) for r, g, b in gradient_colors]\n",
    "\n",
    "# Combining the strikes data for each match\n",
    "df['Total_STR'] = df['Fighter_1_STR'] + df['Fighter_2_STR']\n",
    "\n",
    "# Grouping by weight class and calculating the average significant strikes\n",
    "average_strikes_per_class = df.groupby('Weight_Class')['Total_STR'].mean().sort_values(ascending=True).reset_index()\n",
    "\n",
    "# Adding a column with the gradient colors using the get_gradient_colors function\n",
    "average_strikes_per_class['Color'] = get_gradient_colors(average_strikes_per_class, 'Total_STR', color_start=(0, 0.5, 1), color_end=(0, 1, 1))\n",
    "\n",
    "# Creating a bar plot with Plotly, setting the colors for each bar\n",
    "fig = px.bar(average_strikes_per_class, \n",
    "             x=average_strikes_per_class['Total_STR'], \n",
    "             y=average_strikes_per_class['Weight_Class'],\n",
    "             orientation='h', \n",
    "             color='Color',\n",
    "             color_discrete_map=\"identity\",\n",
    "             labels={'x': 'Average Significant Strikes', 'index': 'Weight Class'},\n",
    "             title='Average Significant Strikes Landed per Weight Class')\n",
    "\n",
    "\n",
    "# Customize the layout\n",
    "fig.update_layout(showlegend=False, template='plotly_dark', title_x=0.5, title_font_size=20, xaxis=dict(title='Average Significant Strikes'),\n",
    "    yaxis=dict(title='Weight Class'))\n",
    "\n",
    "# Show the plot\n",
    "fig.show()\n",
    "\n",
    "# Display the dataframe\n",
    "average_strikes_per_class[['Weight_Class','Total_STR']].sort_values(by='Total_STR', ascending=False)"
   ]
  },
  {
   "cell_type": "markdown",
   "metadata": {},
   "source": [
    "!['Average Significant Strikes'](average_strikes.png)\n"
   ]
  },
  {
   "cell_type": "code",
   "execution_count": 86,
   "metadata": {},
   "outputs": [
    {
     "name": "stderr",
     "output_type": "stream",
     "text": [
      "/Users/jevan/Documents/python_projects/ufc_events/ufc_venv/lib/python3.9/site-packages/plotly/express/_core.py:2065: FutureWarning:\n",
      "\n",
      "When grouping with a length-1 list-like, you will need to pass a length-1 tuple to get_group in a future version of pandas. Pass `(name,)` instead of `name` to silence this warning.\n",
      "\n"
     ]
    },
    {
     "data": {
      "application/vnd.plotly.v1+json": {
       "config": {
        "plotlyServerURL": "https://plot.ly"
       },
       "data": [
        {
         "alignmentgroup": "True",
         "hovertemplate": "Total_STR=%{x}<br>Weight_Class=%{y}<extra></extra>",
         "legendgroup": "",
         "marker": {
          "color": "rgb(255, 235, 128)",
          "pattern": {
           "shape": ""
          }
         },
         "name": "",
         "offsetgroup": "",
         "orientation": "h",
         "showlegend": false,
         "textposition": "auto",
         "type": "bar",
         "x": [
          13.545127949442326
         ],
         "xaxis": "x",
         "y": [
          "Open Weight"
         ],
         "yaxis": "y"
        },
        {
         "alignmentgroup": "True",
         "hovertemplate": "Total_STR=%{x}<br>Weight_Class=%{y}<extra></extra>",
         "legendgroup": "",
         "marker": {
          "color": "rgb(255, 220, 38)",
          "pattern": {
           "shape": ""
          }
         },
         "name": "",
         "offsetgroup": "",
         "orientation": "h",
         "showlegend": false,
         "textposition": "auto",
         "type": "bar",
         "x": [
          50.637481613077995
         ],
         "xaxis": "x",
         "y": [
          "Middleweight"
         ],
         "yaxis": "y"
        },
        {
         "alignmentgroup": "True",
         "hovertemplate": "Total_STR=%{x}<br>Weight_Class=%{y}<extra></extra>",
         "legendgroup": "",
         "marker": {
          "color": "rgb(255, 220, 37)",
          "pattern": {
           "shape": ""
          }
         },
         "name": "",
         "offsetgroup": "",
         "orientation": "h",
         "showlegend": false,
         "textposition": "auto",
         "type": "bar",
         "x": [
          51.0210192895007
         ],
         "xaxis": "x",
         "y": [
          "Heavyweight"
         ],
         "yaxis": "y"
        },
        {
         "alignmentgroup": "True",
         "hovertemplate": "Total_STR=%{x}<br>Weight_Class=%{y}<extra></extra>",
         "legendgroup": "",
         "marker": {
          "color": "rgb(255, 220, 36)",
          "pattern": {
           "shape": ""
          }
         },
         "name": "",
         "offsetgroup": "",
         "orientation": "h",
         "showlegend": false,
         "textposition": "auto",
         "type": "bar",
         "x": [
          51.29158199304618
         ],
         "xaxis": "x",
         "y": [
          "Light Heavyweight"
         ],
         "yaxis": "y"
        },
        {
         "alignmentgroup": "True",
         "hovertemplate": "Total_STR=%{x}<br>Weight_Class=%{y}<extra></extra>",
         "legendgroup": "",
         "marker": {
          "color": "rgb(255, 220, 34)",
          "pattern": {
           "shape": ""
          }
         },
         "name": "",
         "offsetgroup": "",
         "orientation": "h",
         "showlegend": false,
         "textposition": "auto",
         "type": "bar",
         "x": [
          52.30256091066197
         ],
         "xaxis": "x",
         "y": [
          "Flyweight"
         ],
         "yaxis": "y"
        },
        {
         "alignmentgroup": "True",
         "hovertemplate": "Total_STR=%{x}<br>Weight_Class=%{y}<extra></extra>",
         "legendgroup": "",
         "marker": {
          "color": "rgb(255, 219, 31)",
          "pattern": {
           "shape": ""
          }
         },
         "name": "",
         "offsetgroup": "",
         "orientation": "h",
         "showlegend": false,
         "textposition": "auto",
         "type": "bar",
         "x": [
          53.44044712143609
         ],
         "xaxis": "x",
         "y": [
          "Lightweight"
         ],
         "yaxis": "y"
        },
        {
         "alignmentgroup": "True",
         "hovertemplate": "Total_STR=%{x}<br>Weight_Class=%{y}<extra></extra>",
         "legendgroup": "",
         "marker": {
          "color": "rgb(255, 218, 22)",
          "pattern": {
           "shape": ""
          }
         },
         "name": "",
         "offsetgroup": "",
         "orientation": "h",
         "showlegend": false,
         "textposition": "auto",
         "type": "bar",
         "x": [
          57.3104313277198
         ],
         "xaxis": "x",
         "y": [
          "Welterweight"
         ],
         "yaxis": "y"
        },
        {
         "alignmentgroup": "True",
         "hovertemplate": "Total_STR=%{x}<br>Weight_Class=%{y}<extra></extra>",
         "legendgroup": "",
         "marker": {
          "color": "rgb(255, 217, 18)",
          "pattern": {
           "shape": ""
          }
         },
         "name": "",
         "offsetgroup": "",
         "orientation": "h",
         "showlegend": false,
         "textposition": "auto",
         "type": "bar",
         "x": [
          58.97990858634525
         ],
         "xaxis": "x",
         "y": [
          "Bantamweight"
         ],
         "yaxis": "y"
        },
        {
         "alignmentgroup": "True",
         "hovertemplate": "Total_STR=%{x}<br>Weight_Class=%{y}<extra></extra>",
         "legendgroup": "",
         "marker": {
          "color": "rgb(255, 216, 13)",
          "pattern": {
           "shape": ""
          }
         },
         "name": "",
         "offsetgroup": "",
         "orientation": "h",
         "showlegend": false,
         "textposition": "auto",
         "type": "bar",
         "x": [
          61.04140388803654
         ],
         "xaxis": "x",
         "y": [
          "Women's Bantamweight"
         ],
         "yaxis": "y"
        },
        {
         "alignmentgroup": "True",
         "hovertemplate": "Total_STR=%{x}<br>Weight_Class=%{y}<extra></extra>",
         "legendgroup": "",
         "marker": {
          "color": "rgb(255, 215, 7)",
          "pattern": {
           "shape": ""
          }
         },
         "name": "",
         "offsetgroup": "",
         "orientation": "h",
         "showlegend": false,
         "textposition": "auto",
         "type": "bar",
         "x": [
          63.56080057282263
         ],
         "xaxis": "x",
         "y": [
          "Women's Featherweight"
         ],
         "yaxis": "y"
        },
        {
         "alignmentgroup": "True",
         "hovertemplate": "Total_STR=%{x}<br>Weight_Class=%{y}<extra></extra>",
         "legendgroup": "",
         "marker": {
          "color": "rgb(255, 215, 4)",
          "pattern": {
           "shape": ""
          }
         },
         "name": "",
         "offsetgroup": "",
         "orientation": "h",
         "showlegend": false,
         "textposition": "auto",
         "type": "bar",
         "x": [
          64.80334848179687
         ],
         "xaxis": "x",
         "y": [
          "Featherweight"
         ],
         "yaxis": "y"
        },
        {
         "alignmentgroup": "True",
         "hovertemplate": "Total_STR=%{x}<br>Weight_Class=%{y}<extra></extra>",
         "legendgroup": "",
         "marker": {
          "color": "rgb(255, 214, 1)",
          "pattern": {
           "shape": ""
          }
         },
         "name": "",
         "offsetgroup": "",
         "orientation": "h",
         "showlegend": false,
         "textposition": "auto",
         "type": "bar",
         "x": [
          65.99445270976598
         ],
         "xaxis": "x",
         "y": [
          "Catch Weight"
         ],
         "yaxis": "y"
        },
        {
         "alignmentgroup": "True",
         "hovertemplate": "Total_STR=%{x}<br>Weight_Class=%{y}<extra></extra>",
         "legendgroup": "",
         "marker": {
          "color": "rgb(255, 214, 0)",
          "pattern": {
           "shape": ""
          }
         },
         "name": "",
         "offsetgroup": "",
         "orientation": "h",
         "showlegend": false,
         "textposition": "auto",
         "type": "bar",
         "x": [
          66.24664631573366,
          66.35387865641452
         ],
         "xaxis": "x",
         "y": [
          "Women's Flyweight",
          "Women's Strawweight"
         ],
         "yaxis": "y"
        }
       ],
       "layout": {
        "barmode": "relative",
        "legend": {
         "tracegroupgap": 0
        },
        "showlegend": false,
        "template": {
         "data": {
          "bar": [
           {
            "error_x": {
             "color": "#f2f5fa"
            },
            "error_y": {
             "color": "#f2f5fa"
            },
            "marker": {
             "line": {
              "color": "rgb(17,17,17)",
              "width": 0.5
             },
             "pattern": {
              "fillmode": "overlay",
              "size": 10,
              "solidity": 0.2
             }
            },
            "type": "bar"
           }
          ],
          "barpolar": [
           {
            "marker": {
             "line": {
              "color": "rgb(17,17,17)",
              "width": 0.5
             },
             "pattern": {
              "fillmode": "overlay",
              "size": 10,
              "solidity": 0.2
             }
            },
            "type": "barpolar"
           }
          ],
          "carpet": [
           {
            "aaxis": {
             "endlinecolor": "#A2B1C6",
             "gridcolor": "#506784",
             "linecolor": "#506784",
             "minorgridcolor": "#506784",
             "startlinecolor": "#A2B1C6"
            },
            "baxis": {
             "endlinecolor": "#A2B1C6",
             "gridcolor": "#506784",
             "linecolor": "#506784",
             "minorgridcolor": "#506784",
             "startlinecolor": "#A2B1C6"
            },
            "type": "carpet"
           }
          ],
          "choropleth": [
           {
            "colorbar": {
             "outlinewidth": 0,
             "ticks": ""
            },
            "type": "choropleth"
           }
          ],
          "contour": [
           {
            "colorbar": {
             "outlinewidth": 0,
             "ticks": ""
            },
            "colorscale": [
             [
              0,
              "#0d0887"
             ],
             [
              0.1111111111111111,
              "#46039f"
             ],
             [
              0.2222222222222222,
              "#7201a8"
             ],
             [
              0.3333333333333333,
              "#9c179e"
             ],
             [
              0.4444444444444444,
              "#bd3786"
             ],
             [
              0.5555555555555556,
              "#d8576b"
             ],
             [
              0.6666666666666666,
              "#ed7953"
             ],
             [
              0.7777777777777778,
              "#fb9f3a"
             ],
             [
              0.8888888888888888,
              "#fdca26"
             ],
             [
              1,
              "#f0f921"
             ]
            ],
            "type": "contour"
           }
          ],
          "contourcarpet": [
           {
            "colorbar": {
             "outlinewidth": 0,
             "ticks": ""
            },
            "type": "contourcarpet"
           }
          ],
          "heatmap": [
           {
            "colorbar": {
             "outlinewidth": 0,
             "ticks": ""
            },
            "colorscale": [
             [
              0,
              "#0d0887"
             ],
             [
              0.1111111111111111,
              "#46039f"
             ],
             [
              0.2222222222222222,
              "#7201a8"
             ],
             [
              0.3333333333333333,
              "#9c179e"
             ],
             [
              0.4444444444444444,
              "#bd3786"
             ],
             [
              0.5555555555555556,
              "#d8576b"
             ],
             [
              0.6666666666666666,
              "#ed7953"
             ],
             [
              0.7777777777777778,
              "#fb9f3a"
             ],
             [
              0.8888888888888888,
              "#fdca26"
             ],
             [
              1,
              "#f0f921"
             ]
            ],
            "type": "heatmap"
           }
          ],
          "heatmapgl": [
           {
            "colorbar": {
             "outlinewidth": 0,
             "ticks": ""
            },
            "colorscale": [
             [
              0,
              "#0d0887"
             ],
             [
              0.1111111111111111,
              "#46039f"
             ],
             [
              0.2222222222222222,
              "#7201a8"
             ],
             [
              0.3333333333333333,
              "#9c179e"
             ],
             [
              0.4444444444444444,
              "#bd3786"
             ],
             [
              0.5555555555555556,
              "#d8576b"
             ],
             [
              0.6666666666666666,
              "#ed7953"
             ],
             [
              0.7777777777777778,
              "#fb9f3a"
             ],
             [
              0.8888888888888888,
              "#fdca26"
             ],
             [
              1,
              "#f0f921"
             ]
            ],
            "type": "heatmapgl"
           }
          ],
          "histogram": [
           {
            "marker": {
             "pattern": {
              "fillmode": "overlay",
              "size": 10,
              "solidity": 0.2
             }
            },
            "type": "histogram"
           }
          ],
          "histogram2d": [
           {
            "colorbar": {
             "outlinewidth": 0,
             "ticks": ""
            },
            "colorscale": [
             [
              0,
              "#0d0887"
             ],
             [
              0.1111111111111111,
              "#46039f"
             ],
             [
              0.2222222222222222,
              "#7201a8"
             ],
             [
              0.3333333333333333,
              "#9c179e"
             ],
             [
              0.4444444444444444,
              "#bd3786"
             ],
             [
              0.5555555555555556,
              "#d8576b"
             ],
             [
              0.6666666666666666,
              "#ed7953"
             ],
             [
              0.7777777777777778,
              "#fb9f3a"
             ],
             [
              0.8888888888888888,
              "#fdca26"
             ],
             [
              1,
              "#f0f921"
             ]
            ],
            "type": "histogram2d"
           }
          ],
          "histogram2dcontour": [
           {
            "colorbar": {
             "outlinewidth": 0,
             "ticks": ""
            },
            "colorscale": [
             [
              0,
              "#0d0887"
             ],
             [
              0.1111111111111111,
              "#46039f"
             ],
             [
              0.2222222222222222,
              "#7201a8"
             ],
             [
              0.3333333333333333,
              "#9c179e"
             ],
             [
              0.4444444444444444,
              "#bd3786"
             ],
             [
              0.5555555555555556,
              "#d8576b"
             ],
             [
              0.6666666666666666,
              "#ed7953"
             ],
             [
              0.7777777777777778,
              "#fb9f3a"
             ],
             [
              0.8888888888888888,
              "#fdca26"
             ],
             [
              1,
              "#f0f921"
             ]
            ],
            "type": "histogram2dcontour"
           }
          ],
          "mesh3d": [
           {
            "colorbar": {
             "outlinewidth": 0,
             "ticks": ""
            },
            "type": "mesh3d"
           }
          ],
          "parcoords": [
           {
            "line": {
             "colorbar": {
              "outlinewidth": 0,
              "ticks": ""
             }
            },
            "type": "parcoords"
           }
          ],
          "pie": [
           {
            "automargin": true,
            "type": "pie"
           }
          ],
          "scatter": [
           {
            "marker": {
             "line": {
              "color": "#283442"
             }
            },
            "type": "scatter"
           }
          ],
          "scatter3d": [
           {
            "line": {
             "colorbar": {
              "outlinewidth": 0,
              "ticks": ""
             }
            },
            "marker": {
             "colorbar": {
              "outlinewidth": 0,
              "ticks": ""
             }
            },
            "type": "scatter3d"
           }
          ],
          "scattercarpet": [
           {
            "marker": {
             "colorbar": {
              "outlinewidth": 0,
              "ticks": ""
             }
            },
            "type": "scattercarpet"
           }
          ],
          "scattergeo": [
           {
            "marker": {
             "colorbar": {
              "outlinewidth": 0,
              "ticks": ""
             }
            },
            "type": "scattergeo"
           }
          ],
          "scattergl": [
           {
            "marker": {
             "line": {
              "color": "#283442"
             }
            },
            "type": "scattergl"
           }
          ],
          "scattermapbox": [
           {
            "marker": {
             "colorbar": {
              "outlinewidth": 0,
              "ticks": ""
             }
            },
            "type": "scattermapbox"
           }
          ],
          "scatterpolar": [
           {
            "marker": {
             "colorbar": {
              "outlinewidth": 0,
              "ticks": ""
             }
            },
            "type": "scatterpolar"
           }
          ],
          "scatterpolargl": [
           {
            "marker": {
             "colorbar": {
              "outlinewidth": 0,
              "ticks": ""
             }
            },
            "type": "scatterpolargl"
           }
          ],
          "scatterternary": [
           {
            "marker": {
             "colorbar": {
              "outlinewidth": 0,
              "ticks": ""
             }
            },
            "type": "scatterternary"
           }
          ],
          "surface": [
           {
            "colorbar": {
             "outlinewidth": 0,
             "ticks": ""
            },
            "colorscale": [
             [
              0,
              "#0d0887"
             ],
             [
              0.1111111111111111,
              "#46039f"
             ],
             [
              0.2222222222222222,
              "#7201a8"
             ],
             [
              0.3333333333333333,
              "#9c179e"
             ],
             [
              0.4444444444444444,
              "#bd3786"
             ],
             [
              0.5555555555555556,
              "#d8576b"
             ],
             [
              0.6666666666666666,
              "#ed7953"
             ],
             [
              0.7777777777777778,
              "#fb9f3a"
             ],
             [
              0.8888888888888888,
              "#fdca26"
             ],
             [
              1,
              "#f0f921"
             ]
            ],
            "type": "surface"
           }
          ],
          "table": [
           {
            "cells": {
             "fill": {
              "color": "#506784"
             },
             "line": {
              "color": "rgb(17,17,17)"
             }
            },
            "header": {
             "fill": {
              "color": "#2a3f5f"
             },
             "line": {
              "color": "rgb(17,17,17)"
             }
            },
            "type": "table"
           }
          ]
         },
         "layout": {
          "annotationdefaults": {
           "arrowcolor": "#f2f5fa",
           "arrowhead": 0,
           "arrowwidth": 1
          },
          "autotypenumbers": "strict",
          "coloraxis": {
           "colorbar": {
            "outlinewidth": 0,
            "ticks": ""
           }
          },
          "colorscale": {
           "diverging": [
            [
             0,
             "#8e0152"
            ],
            [
             0.1,
             "#c51b7d"
            ],
            [
             0.2,
             "#de77ae"
            ],
            [
             0.3,
             "#f1b6da"
            ],
            [
             0.4,
             "#fde0ef"
            ],
            [
             0.5,
             "#f7f7f7"
            ],
            [
             0.6,
             "#e6f5d0"
            ],
            [
             0.7,
             "#b8e186"
            ],
            [
             0.8,
             "#7fbc41"
            ],
            [
             0.9,
             "#4d9221"
            ],
            [
             1,
             "#276419"
            ]
           ],
           "sequential": [
            [
             0,
             "#0d0887"
            ],
            [
             0.1111111111111111,
             "#46039f"
            ],
            [
             0.2222222222222222,
             "#7201a8"
            ],
            [
             0.3333333333333333,
             "#9c179e"
            ],
            [
             0.4444444444444444,
             "#bd3786"
            ],
            [
             0.5555555555555556,
             "#d8576b"
            ],
            [
             0.6666666666666666,
             "#ed7953"
            ],
            [
             0.7777777777777778,
             "#fb9f3a"
            ],
            [
             0.8888888888888888,
             "#fdca26"
            ],
            [
             1,
             "#f0f921"
            ]
           ],
           "sequentialminus": [
            [
             0,
             "#0d0887"
            ],
            [
             0.1111111111111111,
             "#46039f"
            ],
            [
             0.2222222222222222,
             "#7201a8"
            ],
            [
             0.3333333333333333,
             "#9c179e"
            ],
            [
             0.4444444444444444,
             "#bd3786"
            ],
            [
             0.5555555555555556,
             "#d8576b"
            ],
            [
             0.6666666666666666,
             "#ed7953"
            ],
            [
             0.7777777777777778,
             "#fb9f3a"
            ],
            [
             0.8888888888888888,
             "#fdca26"
            ],
            [
             1,
             "#f0f921"
            ]
           ]
          },
          "colorway": [
           "#636efa",
           "#EF553B",
           "#00cc96",
           "#ab63fa",
           "#FFA15A",
           "#19d3f3",
           "#FF6692",
           "#B6E880",
           "#FF97FF",
           "#FECB52"
          ],
          "font": {
           "color": "#f2f5fa"
          },
          "geo": {
           "bgcolor": "rgb(17,17,17)",
           "lakecolor": "rgb(17,17,17)",
           "landcolor": "rgb(17,17,17)",
           "showlakes": true,
           "showland": true,
           "subunitcolor": "#506784"
          },
          "hoverlabel": {
           "align": "left"
          },
          "hovermode": "closest",
          "mapbox": {
           "style": "dark"
          },
          "paper_bgcolor": "rgb(17,17,17)",
          "plot_bgcolor": "rgb(17,17,17)",
          "polar": {
           "angularaxis": {
            "gridcolor": "#506784",
            "linecolor": "#506784",
            "ticks": ""
           },
           "bgcolor": "rgb(17,17,17)",
           "radialaxis": {
            "gridcolor": "#506784",
            "linecolor": "#506784",
            "ticks": ""
           }
          },
          "scene": {
           "xaxis": {
            "backgroundcolor": "rgb(17,17,17)",
            "gridcolor": "#506784",
            "gridwidth": 2,
            "linecolor": "#506784",
            "showbackground": true,
            "ticks": "",
            "zerolinecolor": "#C8D4E3"
           },
           "yaxis": {
            "backgroundcolor": "rgb(17,17,17)",
            "gridcolor": "#506784",
            "gridwidth": 2,
            "linecolor": "#506784",
            "showbackground": true,
            "ticks": "",
            "zerolinecolor": "#C8D4E3"
           },
           "zaxis": {
            "backgroundcolor": "rgb(17,17,17)",
            "gridcolor": "#506784",
            "gridwidth": 2,
            "linecolor": "#506784",
            "showbackground": true,
            "ticks": "",
            "zerolinecolor": "#C8D4E3"
           }
          },
          "shapedefaults": {
           "line": {
            "color": "#f2f5fa"
           }
          },
          "sliderdefaults": {
           "bgcolor": "#C8D4E3",
           "bordercolor": "rgb(17,17,17)",
           "borderwidth": 1,
           "tickwidth": 0
          },
          "ternary": {
           "aaxis": {
            "gridcolor": "#506784",
            "linecolor": "#506784",
            "ticks": ""
           },
           "baxis": {
            "gridcolor": "#506784",
            "linecolor": "#506784",
            "ticks": ""
           },
           "bgcolor": "rgb(17,17,17)",
           "caxis": {
            "gridcolor": "#506784",
            "linecolor": "#506784",
            "ticks": ""
           }
          },
          "title": {
           "x": 0.05
          },
          "updatemenudefaults": {
           "bgcolor": "#506784",
           "borderwidth": 0
          },
          "xaxis": {
           "automargin": true,
           "gridcolor": "#283442",
           "linecolor": "#506784",
           "ticks": "",
           "title": {
            "standoff": 15
           },
           "zerolinecolor": "#283442",
           "zerolinewidth": 2
          },
          "yaxis": {
           "automargin": true,
           "gridcolor": "#283442",
           "linecolor": "#506784",
           "ticks": "",
           "title": {
            "standoff": 15
           },
           "zerolinecolor": "#283442",
           "zerolinewidth": 2
          }
         }
        },
        "title": {
         "font": {
          "size": 20
         },
         "text": "Standard Deviation of Significant Strikes Landed per Weight Class",
         "x": 0.5
        },
        "xaxis": {
         "anchor": "y",
         "domain": [
          0,
          1
         ],
         "title": {
          "text": "Standard Deviation of Significant Strikes"
         }
        },
        "yaxis": {
         "anchor": "x",
         "domain": [
          0,
          1
         ],
         "title": {
          "text": "Weight Class"
         }
        }
       }
      }
     },
     "metadata": {},
     "output_type": "display_data"
    },
    {
     "data": {
      "text/html": [
       "<div>\n",
       "<style scoped>\n",
       "    .dataframe tbody tr th:only-of-type {\n",
       "        vertical-align: middle;\n",
       "    }\n",
       "\n",
       "    .dataframe tbody tr th {\n",
       "        vertical-align: top;\n",
       "    }\n",
       "\n",
       "    .dataframe thead th {\n",
       "        text-align: right;\n",
       "    }\n",
       "</style>\n",
       "<table border=\"1\" class=\"dataframe\">\n",
       "  <thead>\n",
       "    <tr style=\"text-align: right;\">\n",
       "      <th></th>\n",
       "      <th>Weight_Class</th>\n",
       "      <th>Total_STR</th>\n",
       "    </tr>\n",
       "  </thead>\n",
       "  <tbody>\n",
       "    <tr>\n",
       "      <th>13</th>\n",
       "      <td>Women's Strawweight</td>\n",
       "      <td>66.353879</td>\n",
       "    </tr>\n",
       "    <tr>\n",
       "      <th>12</th>\n",
       "      <td>Women's Flyweight</td>\n",
       "      <td>66.246646</td>\n",
       "    </tr>\n",
       "    <tr>\n",
       "      <th>11</th>\n",
       "      <td>Catch Weight</td>\n",
       "      <td>65.994453</td>\n",
       "    </tr>\n",
       "    <tr>\n",
       "      <th>10</th>\n",
       "      <td>Featherweight</td>\n",
       "      <td>64.803348</td>\n",
       "    </tr>\n",
       "    <tr>\n",
       "      <th>9</th>\n",
       "      <td>Women's Featherweight</td>\n",
       "      <td>63.560801</td>\n",
       "    </tr>\n",
       "    <tr>\n",
       "      <th>8</th>\n",
       "      <td>Women's Bantamweight</td>\n",
       "      <td>61.041404</td>\n",
       "    </tr>\n",
       "    <tr>\n",
       "      <th>7</th>\n",
       "      <td>Bantamweight</td>\n",
       "      <td>58.979909</td>\n",
       "    </tr>\n",
       "    <tr>\n",
       "      <th>6</th>\n",
       "      <td>Welterweight</td>\n",
       "      <td>57.310431</td>\n",
       "    </tr>\n",
       "    <tr>\n",
       "      <th>5</th>\n",
       "      <td>Lightweight</td>\n",
       "      <td>53.440447</td>\n",
       "    </tr>\n",
       "    <tr>\n",
       "      <th>4</th>\n",
       "      <td>Flyweight</td>\n",
       "      <td>52.302561</td>\n",
       "    </tr>\n",
       "    <tr>\n",
       "      <th>3</th>\n",
       "      <td>Light Heavyweight</td>\n",
       "      <td>51.291582</td>\n",
       "    </tr>\n",
       "    <tr>\n",
       "      <th>2</th>\n",
       "      <td>Heavyweight</td>\n",
       "      <td>51.021019</td>\n",
       "    </tr>\n",
       "    <tr>\n",
       "      <th>1</th>\n",
       "      <td>Middleweight</td>\n",
       "      <td>50.637482</td>\n",
       "    </tr>\n",
       "    <tr>\n",
       "      <th>0</th>\n",
       "      <td>Open Weight</td>\n",
       "      <td>13.545128</td>\n",
       "    </tr>\n",
       "  </tbody>\n",
       "</table>\n",
       "</div>"
      ],
      "text/plain": [
       "             Weight_Class  Total_STR\n",
       "13    Women's Strawweight  66.353879\n",
       "12      Women's Flyweight  66.246646\n",
       "11           Catch Weight  65.994453\n",
       "10          Featherweight  64.803348\n",
       "9   Women's Featherweight  63.560801\n",
       "8    Women's Bantamweight  61.041404\n",
       "7            Bantamweight  58.979909\n",
       "6            Welterweight  57.310431\n",
       "5             Lightweight  53.440447\n",
       "4               Flyweight  52.302561\n",
       "3       Light Heavyweight  51.291582\n",
       "2             Heavyweight  51.021019\n",
       "1            Middleweight  50.637482\n",
       "0             Open Weight  13.545128"
      ]
     },
     "execution_count": 86,
     "metadata": {},
     "output_type": "execute_result"
    }
   ],
   "source": [
    "# Calculating the standard deviation of significant strikes within each weight class\n",
    "std_strikes_per_class = df.copy().groupby('Weight_Class')['Total_STR'].std().sort_values(ascending=True).reset_index().dropna()\n",
    "\n",
    "#Creating a color column using the get_gradient_colors function\n",
    "std_strikes_per_class['Color'] = get_gradient_colors(std_strikes_per_class, 'Total_STR', color_start=(0.14, 0.5, 1), color_end=(0.14, 1, 1))\n",
    "\n",
    "# Creating a bar plot with Plotly, setting the colors for each bar\n",
    "fig = px.bar(std_strikes_per_class, \n",
    "             x=std_strikes_per_class['Total_STR'], \n",
    "             y=std_strikes_per_class['Weight_Class'],\n",
    "             orientation='h', \n",
    "             color='Color',\n",
    "             color_discrete_map=\"identity\",\n",
    "             labels={'x': 'Standard Deviation of Significant Strikes', 'index': 'Weight Class'},\n",
    "             title='Standard Deviation of Significant Strikes Landed per Weight Class')\n",
    "\n",
    "\n",
    "# Customize the layout\n",
    "fig.update_layout(showlegend=False, template='plotly_dark', title_x=0.5, title_font_size=20, xaxis=dict(title='Standard Deviation of Significant Strikes'),\n",
    "    yaxis=dict(title='Weight Class'))\n",
    "\n",
    "# Show the plot\n",
    "fig.show()\n",
    "\n",
    "# Display the dataframe\n",
    "std_strikes_per_class[['Weight_Class','Total_STR']].sort_values(by='Total_STR', ascending=False)"
   ]
  },
  {
   "cell_type": "markdown",
   "metadata": {},
   "source": [
    "#### Super Heavyweight: NaN (not enough data for a reliable measure)\n",
    "!['Average Significant Strikes'](std_plot.png)\n"
   ]
  },
  {
   "cell_type": "markdown",
   "metadata": {},
   "source": [
    "## 2. Which fighters get struck the most on average?"
   ]
  },
  {
   "cell_type": "code",
   "execution_count": 133,
   "metadata": {},
   "outputs": [
    {
     "name": "stderr",
     "output_type": "stream",
     "text": [
      "/Users/jevan/Documents/python_projects/ufc_events/ufc_venv/lib/python3.9/site-packages/plotly/express/_core.py:2065: FutureWarning:\n",
      "\n",
      "When grouping with a length-1 list-like, you will need to pass a length-1 tuple to get_group in a future version of pandas. Pass `(name,)` instead of `name` to silence this warning.\n",
      "\n"
     ]
    },
    {
     "data": {
      "application/vnd.plotly.v1+json": {
       "config": {
        "plotlyServerURL": "https://plot.ly"
       },
       "data": [
        {
         "alignmentgroup": "True",
         "hovertemplate": "Absorbed_STR=%{x}<br>Fighter=%{y}<extra></extra>",
         "legendgroup": "",
         "marker": {
          "color": "rgb(0, 0, 0)",
          "pattern": {
           "shape": ""
          }
         },
         "name": "",
         "offsetgroup": "",
         "orientation": "h",
         "showlegend": false,
         "textposition": "auto",
         "type": "bar",
         "x": [
          101.66666666666667
         ],
         "xaxis": "x",
         "y": [
          "Ange Loosa"
         ],
         "yaxis": "y"
        },
        {
         "alignmentgroup": "True",
         "hovertemplate": "Absorbed_STR=%{x}<br>Fighter=%{y}<extra></extra>",
         "legendgroup": "",
         "marker": {
          "color": "rgb(3, 0, 0)",
          "pattern": {
           "shape": ""
          }
         },
         "name": "",
         "offsetgroup": "",
         "orientation": "h",
         "showlegend": false,
         "textposition": "auto",
         "type": "bar",
         "x": [
          102.5
         ],
         "xaxis": "x",
         "y": [
          "Rolando Bedoya"
         ],
         "yaxis": "y"
        },
        {
         "alignmentgroup": "True",
         "hovertemplate": "Absorbed_STR=%{x}<br>Fighter=%{y}<extra></extra>",
         "legendgroup": "",
         "marker": {
          "color": "rgb(5, 0, 0)",
          "pattern": {
           "shape": ""
          }
         },
         "name": "",
         "offsetgroup": "",
         "orientation": "h",
         "showlegend": false,
         "textposition": "auto",
         "type": "bar",
         "x": [
          103
         ],
         "xaxis": "x",
         "y": [
          "Abner Lloveras"
         ],
         "yaxis": "y"
        },
        {
         "alignmentgroup": "True",
         "hovertemplate": "Absorbed_STR=%{x}<br>Fighter=%{y}<extra></extra>",
         "legendgroup": "",
         "marker": {
          "color": "rgb(11, 0, 0)",
          "pattern": {
           "shape": ""
          }
         },
         "name": "",
         "offsetgroup": "",
         "orientation": "h",
         "showlegend": false,
         "textposition": "auto",
         "type": "bar",
         "x": [
          104.58333333333333,
          104.66666666666667
         ],
         "xaxis": "x",
         "y": [
          "Calvin Kattar",
          "Rhys McKee"
         ],
         "yaxis": "y"
        },
        {
         "alignmentgroup": "True",
         "hovertemplate": "Absorbed_STR=%{x}<br>Fighter=%{y}<extra></extra>",
         "legendgroup": "",
         "marker": {
          "color": "rgb(16, 0, 0)",
          "pattern": {
           "shape": ""
          }
         },
         "name": "",
         "offsetgroup": "",
         "orientation": "h",
         "showlegend": false,
         "textposition": "auto",
         "type": "bar",
         "x": [
          106
         ],
         "xaxis": "x",
         "y": [
          "Tom Gallicchio"
         ],
         "yaxis": "y"
        },
        {
         "alignmentgroup": "True",
         "hovertemplate": "Absorbed_STR=%{x}<br>Fighter=%{y}<extra></extra>",
         "legendgroup": "",
         "marker": {
          "color": "rgb(26, 0, 0)",
          "pattern": {
           "shape": ""
          }
         },
         "name": "",
         "offsetgroup": "",
         "orientation": "h",
         "showlegend": false,
         "textposition": "auto",
         "type": "bar",
         "x": [
          108.75
         ],
         "xaxis": "x",
         "y": [
          "Nam Phan"
         ],
         "yaxis": "y"
        },
        {
         "alignmentgroup": "True",
         "hovertemplate": "Absorbed_STR=%{x}<br>Fighter=%{y}<extra></extra>",
         "legendgroup": "",
         "marker": {
          "color": "rgb(31, 0, 0)",
          "pattern": {
           "shape": ""
          }
         },
         "name": "",
         "offsetgroup": "",
         "orientation": "h",
         "showlegend": false,
         "textposition": "auto",
         "type": "bar",
         "x": [
          110
         ],
         "xaxis": "x",
         "y": [
          "Yuri Villefort"
         ],
         "yaxis": "y"
        },
        {
         "alignmentgroup": "True",
         "hovertemplate": "Absorbed_STR=%{x}<br>Fighter=%{y}<extra></extra>",
         "legendgroup": "",
         "marker": {
          "color": "rgb(32, 0, 0)",
          "pattern": {
           "shape": ""
          }
         },
         "name": "",
         "offsetgroup": "",
         "orientation": "h",
         "showlegend": false,
         "textposition": "auto",
         "type": "bar",
         "x": [
          110.5
         ],
         "xaxis": "x",
         "y": [
          "Jodie Esquibel"
         ],
         "yaxis": "y"
        },
        {
         "alignmentgroup": "True",
         "hovertemplate": "Absorbed_STR=%{x}<br>Fighter=%{y}<extra></extra>",
         "legendgroup": "",
         "marker": {
          "color": "rgb(38, 0, 0)",
          "pattern": {
           "shape": ""
          }
         },
         "name": "",
         "offsetgroup": "",
         "orientation": "h",
         "showlegend": false,
         "textposition": "auto",
         "type": "bar",
         "x": [
          112
         ],
         "xaxis": "x",
         "y": [
          "Felipe dos Santos"
         ],
         "yaxis": "y"
        },
        {
         "alignmentgroup": "True",
         "hovertemplate": "Absorbed_STR=%{x}<br>Fighter=%{y}<extra></extra>",
         "legendgroup": "",
         "marker": {
          "color": "rgb(42, 0, 0)",
          "pattern": {
           "shape": ""
          }
         },
         "name": "",
         "offsetgroup": "",
         "orientation": "h",
         "showlegend": false,
         "textposition": "auto",
         "type": "bar",
         "x": [
          113
         ],
         "xaxis": "x",
         "y": [
          "Collin Hart"
         ],
         "yaxis": "y"
        },
        {
         "alignmentgroup": "True",
         "hovertemplate": "Absorbed_STR=%{x}<br>Fighter=%{y}<extra></extra>",
         "legendgroup": "",
         "marker": {
          "color": "rgb(47, 0, 0)",
          "pattern": {
           "shape": ""
          }
         },
         "name": "",
         "offsetgroup": "",
         "orientation": "h",
         "showlegend": false,
         "textposition": "auto",
         "type": "bar",
         "x": [
          114.5
         ],
         "xaxis": "x",
         "y": [
          "Jin Soo Son"
         ],
         "yaxis": "y"
        },
        {
         "alignmentgroup": "True",
         "hovertemplate": "Absorbed_STR=%{x}<br>Fighter=%{y}<extra></extra>",
         "legendgroup": "",
         "marker": {
          "color": "rgb(55, 0, 0)",
          "pattern": {
           "shape": ""
          }
         },
         "name": "",
         "offsetgroup": "",
         "orientation": "h",
         "showlegend": false,
         "textposition": "auto",
         "type": "bar",
         "x": [
          116.5
         ],
         "xaxis": "x",
         "y": [
          "Chan-Mi Jeon"
         ],
         "yaxis": "y"
        },
        {
         "alignmentgroup": "True",
         "hovertemplate": "Absorbed_STR=%{x}<br>Fighter=%{y}<extra></extra>",
         "legendgroup": "",
         "marker": {
          "color": "rgb(64, 0, 0)",
          "pattern": {
           "shape": ""
          }
         },
         "name": "",
         "offsetgroup": "",
         "orientation": "h",
         "showlegend": false,
         "textposition": "auto",
         "type": "bar",
         "x": [
          119
         ],
         "xaxis": "x",
         "y": [
          "Nick Fiore"
         ],
         "yaxis": "y"
        },
        {
         "alignmentgroup": "True",
         "hovertemplate": "Absorbed_STR=%{x}<br>Fighter=%{y}<extra></extra>",
         "legendgroup": "",
         "marker": {
          "color": "rgb(67, 0, 0)",
          "pattern": {
           "shape": ""
          }
         },
         "name": "",
         "offsetgroup": "",
         "orientation": "h",
         "showlegend": false,
         "textposition": "auto",
         "type": "bar",
         "x": [
          119.75
         ],
         "xaxis": "x",
         "y": [
          "Emily Ducote"
         ],
         "yaxis": "y"
        },
        {
         "alignmentgroup": "True",
         "hovertemplate": "Absorbed_STR=%{x}<br>Fighter=%{y}<extra></extra>",
         "legendgroup": "",
         "marker": {
          "color": "rgb(78, 0, 0)",
          "pattern": {
           "shape": ""
          }
         },
         "name": "",
         "offsetgroup": "",
         "orientation": "h",
         "showlegend": false,
         "textposition": "auto",
         "type": "bar",
         "x": [
          123
         ],
         "xaxis": "x",
         "y": [
          "Peggy Morgan"
         ],
         "yaxis": "y"
        },
        {
         "alignmentgroup": "True",
         "hovertemplate": "Absorbed_STR=%{x}<br>Fighter=%{y}<extra></extra>",
         "legendgroup": "",
         "marker": {
          "color": "rgb(86, 0, 0)",
          "pattern": {
           "shape": ""
          }
         },
         "name": "",
         "offsetgroup": "",
         "orientation": "h",
         "showlegend": false,
         "textposition": "auto",
         "type": "bar",
         "x": [
          125
         ],
         "xaxis": "x",
         "y": [
          "Rosi Sexton"
         ],
         "yaxis": "y"
        },
        {
         "alignmentgroup": "True",
         "hovertemplate": "Absorbed_STR=%{x}<br>Fighter=%{y}<extra></extra>",
         "legendgroup": "",
         "marker": {
          "color": "rgb(101, 0, 0)",
          "pattern": {
           "shape": ""
          }
         },
         "name": "",
         "offsetgroup": "",
         "orientation": "h",
         "showlegend": false,
         "textposition": "auto",
         "type": "bar",
         "x": [
          129
         ],
         "xaxis": "x",
         "y": [
          "Kris Moutinho"
         ],
         "yaxis": "y"
        },
        {
         "alignmentgroup": "True",
         "hovertemplate": "Absorbed_STR=%{x}<br>Fighter=%{y}<extra></extra>",
         "legendgroup": "",
         "marker": {
          "color": "rgb(200, 0, 0)",
          "pattern": {
           "shape": ""
          }
         },
         "name": "",
         "offsetgroup": "",
         "orientation": "h",
         "showlegend": false,
         "textposition": "auto",
         "type": "bar",
         "x": [
          156
         ],
         "xaxis": "x",
         "y": [
          "Kevin Borjas"
         ],
         "yaxis": "y"
        },
        {
         "alignmentgroup": "True",
         "hovertemplate": "Absorbed_STR=%{x}<br>Fighter=%{y}<extra></extra>",
         "legendgroup": "",
         "marker": {
          "color": "rgb(255, 0, 0)",
          "pattern": {
           "shape": ""
          }
         },
         "name": "",
         "offsetgroup": "",
         "orientation": "h",
         "showlegend": false,
         "textposition": "auto",
         "type": "bar",
         "x": [
          171
         ],
         "xaxis": "x",
         "y": [
          "Landon Quinones"
         ],
         "yaxis": "y"
        }
       ],
       "layout": {
        "barmode": "relative",
        "height": 700,
        "legend": {
         "tracegroupgap": 0
        },
        "showlegend": false,
        "template": {
         "data": {
          "bar": [
           {
            "error_x": {
             "color": "#2a3f5f"
            },
            "error_y": {
             "color": "#2a3f5f"
            },
            "marker": {
             "line": {
              "color": "white",
              "width": 0.5
             },
             "pattern": {
              "fillmode": "overlay",
              "size": 10,
              "solidity": 0.2
             }
            },
            "type": "bar"
           }
          ],
          "barpolar": [
           {
            "marker": {
             "line": {
              "color": "white",
              "width": 0.5
             },
             "pattern": {
              "fillmode": "overlay",
              "size": 10,
              "solidity": 0.2
             }
            },
            "type": "barpolar"
           }
          ],
          "carpet": [
           {
            "aaxis": {
             "endlinecolor": "#2a3f5f",
             "gridcolor": "#C8D4E3",
             "linecolor": "#C8D4E3",
             "minorgridcolor": "#C8D4E3",
             "startlinecolor": "#2a3f5f"
            },
            "baxis": {
             "endlinecolor": "#2a3f5f",
             "gridcolor": "#C8D4E3",
             "linecolor": "#C8D4E3",
             "minorgridcolor": "#C8D4E3",
             "startlinecolor": "#2a3f5f"
            },
            "type": "carpet"
           }
          ],
          "choropleth": [
           {
            "colorbar": {
             "outlinewidth": 0,
             "ticks": ""
            },
            "type": "choropleth"
           }
          ],
          "contour": [
           {
            "colorbar": {
             "outlinewidth": 0,
             "ticks": ""
            },
            "colorscale": [
             [
              0,
              "#0d0887"
             ],
             [
              0.1111111111111111,
              "#46039f"
             ],
             [
              0.2222222222222222,
              "#7201a8"
             ],
             [
              0.3333333333333333,
              "#9c179e"
             ],
             [
              0.4444444444444444,
              "#bd3786"
             ],
             [
              0.5555555555555556,
              "#d8576b"
             ],
             [
              0.6666666666666666,
              "#ed7953"
             ],
             [
              0.7777777777777778,
              "#fb9f3a"
             ],
             [
              0.8888888888888888,
              "#fdca26"
             ],
             [
              1,
              "#f0f921"
             ]
            ],
            "type": "contour"
           }
          ],
          "contourcarpet": [
           {
            "colorbar": {
             "outlinewidth": 0,
             "ticks": ""
            },
            "type": "contourcarpet"
           }
          ],
          "heatmap": [
           {
            "colorbar": {
             "outlinewidth": 0,
             "ticks": ""
            },
            "colorscale": [
             [
              0,
              "#0d0887"
             ],
             [
              0.1111111111111111,
              "#46039f"
             ],
             [
              0.2222222222222222,
              "#7201a8"
             ],
             [
              0.3333333333333333,
              "#9c179e"
             ],
             [
              0.4444444444444444,
              "#bd3786"
             ],
             [
              0.5555555555555556,
              "#d8576b"
             ],
             [
              0.6666666666666666,
              "#ed7953"
             ],
             [
              0.7777777777777778,
              "#fb9f3a"
             ],
             [
              0.8888888888888888,
              "#fdca26"
             ],
             [
              1,
              "#f0f921"
             ]
            ],
            "type": "heatmap"
           }
          ],
          "heatmapgl": [
           {
            "colorbar": {
             "outlinewidth": 0,
             "ticks": ""
            },
            "colorscale": [
             [
              0,
              "#0d0887"
             ],
             [
              0.1111111111111111,
              "#46039f"
             ],
             [
              0.2222222222222222,
              "#7201a8"
             ],
             [
              0.3333333333333333,
              "#9c179e"
             ],
             [
              0.4444444444444444,
              "#bd3786"
             ],
             [
              0.5555555555555556,
              "#d8576b"
             ],
             [
              0.6666666666666666,
              "#ed7953"
             ],
             [
              0.7777777777777778,
              "#fb9f3a"
             ],
             [
              0.8888888888888888,
              "#fdca26"
             ],
             [
              1,
              "#f0f921"
             ]
            ],
            "type": "heatmapgl"
           }
          ],
          "histogram": [
           {
            "marker": {
             "pattern": {
              "fillmode": "overlay",
              "size": 10,
              "solidity": 0.2
             }
            },
            "type": "histogram"
           }
          ],
          "histogram2d": [
           {
            "colorbar": {
             "outlinewidth": 0,
             "ticks": ""
            },
            "colorscale": [
             [
              0,
              "#0d0887"
             ],
             [
              0.1111111111111111,
              "#46039f"
             ],
             [
              0.2222222222222222,
              "#7201a8"
             ],
             [
              0.3333333333333333,
              "#9c179e"
             ],
             [
              0.4444444444444444,
              "#bd3786"
             ],
             [
              0.5555555555555556,
              "#d8576b"
             ],
             [
              0.6666666666666666,
              "#ed7953"
             ],
             [
              0.7777777777777778,
              "#fb9f3a"
             ],
             [
              0.8888888888888888,
              "#fdca26"
             ],
             [
              1,
              "#f0f921"
             ]
            ],
            "type": "histogram2d"
           }
          ],
          "histogram2dcontour": [
           {
            "colorbar": {
             "outlinewidth": 0,
             "ticks": ""
            },
            "colorscale": [
             [
              0,
              "#0d0887"
             ],
             [
              0.1111111111111111,
              "#46039f"
             ],
             [
              0.2222222222222222,
              "#7201a8"
             ],
             [
              0.3333333333333333,
              "#9c179e"
             ],
             [
              0.4444444444444444,
              "#bd3786"
             ],
             [
              0.5555555555555556,
              "#d8576b"
             ],
             [
              0.6666666666666666,
              "#ed7953"
             ],
             [
              0.7777777777777778,
              "#fb9f3a"
             ],
             [
              0.8888888888888888,
              "#fdca26"
             ],
             [
              1,
              "#f0f921"
             ]
            ],
            "type": "histogram2dcontour"
           }
          ],
          "mesh3d": [
           {
            "colorbar": {
             "outlinewidth": 0,
             "ticks": ""
            },
            "type": "mesh3d"
           }
          ],
          "parcoords": [
           {
            "line": {
             "colorbar": {
              "outlinewidth": 0,
              "ticks": ""
             }
            },
            "type": "parcoords"
           }
          ],
          "pie": [
           {
            "automargin": true,
            "type": "pie"
           }
          ],
          "scatter": [
           {
            "fillpattern": {
             "fillmode": "overlay",
             "size": 10,
             "solidity": 0.2
            },
            "type": "scatter"
           }
          ],
          "scatter3d": [
           {
            "line": {
             "colorbar": {
              "outlinewidth": 0,
              "ticks": ""
             }
            },
            "marker": {
             "colorbar": {
              "outlinewidth": 0,
              "ticks": ""
             }
            },
            "type": "scatter3d"
           }
          ],
          "scattercarpet": [
           {
            "marker": {
             "colorbar": {
              "outlinewidth": 0,
              "ticks": ""
             }
            },
            "type": "scattercarpet"
           }
          ],
          "scattergeo": [
           {
            "marker": {
             "colorbar": {
              "outlinewidth": 0,
              "ticks": ""
             }
            },
            "type": "scattergeo"
           }
          ],
          "scattergl": [
           {
            "marker": {
             "colorbar": {
              "outlinewidth": 0,
              "ticks": ""
             }
            },
            "type": "scattergl"
           }
          ],
          "scattermapbox": [
           {
            "marker": {
             "colorbar": {
              "outlinewidth": 0,
              "ticks": ""
             }
            },
            "type": "scattermapbox"
           }
          ],
          "scatterpolar": [
           {
            "marker": {
             "colorbar": {
              "outlinewidth": 0,
              "ticks": ""
             }
            },
            "type": "scatterpolar"
           }
          ],
          "scatterpolargl": [
           {
            "marker": {
             "colorbar": {
              "outlinewidth": 0,
              "ticks": ""
             }
            },
            "type": "scatterpolargl"
           }
          ],
          "scatterternary": [
           {
            "marker": {
             "colorbar": {
              "outlinewidth": 0,
              "ticks": ""
             }
            },
            "type": "scatterternary"
           }
          ],
          "surface": [
           {
            "colorbar": {
             "outlinewidth": 0,
             "ticks": ""
            },
            "colorscale": [
             [
              0,
              "#0d0887"
             ],
             [
              0.1111111111111111,
              "#46039f"
             ],
             [
              0.2222222222222222,
              "#7201a8"
             ],
             [
              0.3333333333333333,
              "#9c179e"
             ],
             [
              0.4444444444444444,
              "#bd3786"
             ],
             [
              0.5555555555555556,
              "#d8576b"
             ],
             [
              0.6666666666666666,
              "#ed7953"
             ],
             [
              0.7777777777777778,
              "#fb9f3a"
             ],
             [
              0.8888888888888888,
              "#fdca26"
             ],
             [
              1,
              "#f0f921"
             ]
            ],
            "type": "surface"
           }
          ],
          "table": [
           {
            "cells": {
             "fill": {
              "color": "#EBF0F8"
             },
             "line": {
              "color": "white"
             }
            },
            "header": {
             "fill": {
              "color": "#C8D4E3"
             },
             "line": {
              "color": "white"
             }
            },
            "type": "table"
           }
          ]
         },
         "layout": {
          "annotationdefaults": {
           "arrowcolor": "#2a3f5f",
           "arrowhead": 0,
           "arrowwidth": 1
          },
          "autotypenumbers": "strict",
          "coloraxis": {
           "colorbar": {
            "outlinewidth": 0,
            "ticks": ""
           }
          },
          "colorscale": {
           "diverging": [
            [
             0,
             "#8e0152"
            ],
            [
             0.1,
             "#c51b7d"
            ],
            [
             0.2,
             "#de77ae"
            ],
            [
             0.3,
             "#f1b6da"
            ],
            [
             0.4,
             "#fde0ef"
            ],
            [
             0.5,
             "#f7f7f7"
            ],
            [
             0.6,
             "#e6f5d0"
            ],
            [
             0.7,
             "#b8e186"
            ],
            [
             0.8,
             "#7fbc41"
            ],
            [
             0.9,
             "#4d9221"
            ],
            [
             1,
             "#276419"
            ]
           ],
           "sequential": [
            [
             0,
             "#0d0887"
            ],
            [
             0.1111111111111111,
             "#46039f"
            ],
            [
             0.2222222222222222,
             "#7201a8"
            ],
            [
             0.3333333333333333,
             "#9c179e"
            ],
            [
             0.4444444444444444,
             "#bd3786"
            ],
            [
             0.5555555555555556,
             "#d8576b"
            ],
            [
             0.6666666666666666,
             "#ed7953"
            ],
            [
             0.7777777777777778,
             "#fb9f3a"
            ],
            [
             0.8888888888888888,
             "#fdca26"
            ],
            [
             1,
             "#f0f921"
            ]
           ],
           "sequentialminus": [
            [
             0,
             "#0d0887"
            ],
            [
             0.1111111111111111,
             "#46039f"
            ],
            [
             0.2222222222222222,
             "#7201a8"
            ],
            [
             0.3333333333333333,
             "#9c179e"
            ],
            [
             0.4444444444444444,
             "#bd3786"
            ],
            [
             0.5555555555555556,
             "#d8576b"
            ],
            [
             0.6666666666666666,
             "#ed7953"
            ],
            [
             0.7777777777777778,
             "#fb9f3a"
            ],
            [
             0.8888888888888888,
             "#fdca26"
            ],
            [
             1,
             "#f0f921"
            ]
           ]
          },
          "colorway": [
           "#636efa",
           "#EF553B",
           "#00cc96",
           "#ab63fa",
           "#FFA15A",
           "#19d3f3",
           "#FF6692",
           "#B6E880",
           "#FF97FF",
           "#FECB52"
          ],
          "font": {
           "color": "#2a3f5f"
          },
          "geo": {
           "bgcolor": "white",
           "lakecolor": "white",
           "landcolor": "white",
           "showlakes": true,
           "showland": true,
           "subunitcolor": "#C8D4E3"
          },
          "hoverlabel": {
           "align": "left"
          },
          "hovermode": "closest",
          "mapbox": {
           "style": "light"
          },
          "paper_bgcolor": "white",
          "plot_bgcolor": "white",
          "polar": {
           "angularaxis": {
            "gridcolor": "#EBF0F8",
            "linecolor": "#EBF0F8",
            "ticks": ""
           },
           "bgcolor": "white",
           "radialaxis": {
            "gridcolor": "#EBF0F8",
            "linecolor": "#EBF0F8",
            "ticks": ""
           }
          },
          "scene": {
           "xaxis": {
            "backgroundcolor": "white",
            "gridcolor": "#DFE8F3",
            "gridwidth": 2,
            "linecolor": "#EBF0F8",
            "showbackground": true,
            "ticks": "",
            "zerolinecolor": "#EBF0F8"
           },
           "yaxis": {
            "backgroundcolor": "white",
            "gridcolor": "#DFE8F3",
            "gridwidth": 2,
            "linecolor": "#EBF0F8",
            "showbackground": true,
            "ticks": "",
            "zerolinecolor": "#EBF0F8"
           },
           "zaxis": {
            "backgroundcolor": "white",
            "gridcolor": "#DFE8F3",
            "gridwidth": 2,
            "linecolor": "#EBF0F8",
            "showbackground": true,
            "ticks": "",
            "zerolinecolor": "#EBF0F8"
           }
          },
          "shapedefaults": {
           "line": {
            "color": "#2a3f5f"
           }
          },
          "ternary": {
           "aaxis": {
            "gridcolor": "#DFE8F3",
            "linecolor": "#A2B1C6",
            "ticks": ""
           },
           "baxis": {
            "gridcolor": "#DFE8F3",
            "linecolor": "#A2B1C6",
            "ticks": ""
           },
           "bgcolor": "white",
           "caxis": {
            "gridcolor": "#DFE8F3",
            "linecolor": "#A2B1C6",
            "ticks": ""
           }
          },
          "title": {
           "x": 0.05
          },
          "xaxis": {
           "automargin": true,
           "gridcolor": "#EBF0F8",
           "linecolor": "#EBF0F8",
           "ticks": "",
           "title": {
            "standoff": 15
           },
           "zerolinecolor": "#EBF0F8",
           "zerolinewidth": 2
          },
          "yaxis": {
           "automargin": true,
           "gridcolor": "#EBF0F8",
           "linecolor": "#EBF0F8",
           "ticks": "",
           "title": {
            "standoff": 15
           },
           "zerolinecolor": "#EBF0F8",
           "zerolinewidth": 2
          }
         }
        },
        "title": {
         "font": {
          "size": 20
         },
         "text": "Top 20 UFC Fighters with the Most Significant Strikes Absorbed on Average",
         "x": 0.5
        },
        "xaxis": {
         "anchor": "y",
         "domain": [
          0,
          1
         ],
         "title": {
          "text": "Average Significant Strikes Absorbed"
         }
        },
        "yaxis": {
         "anchor": "x",
         "domain": [
          0,
          1
         ],
         "title": {
          "text": "Fighter"
         }
        }
       }
      }
     },
     "metadata": {},
     "output_type": "display_data"
    },
    {
     "data": {
      "text/html": [
       "<div>\n",
       "<style scoped>\n",
       "    .dataframe tbody tr th:only-of-type {\n",
       "        vertical-align: middle;\n",
       "    }\n",
       "\n",
       "    .dataframe tbody tr th {\n",
       "        vertical-align: top;\n",
       "    }\n",
       "\n",
       "    .dataframe thead th {\n",
       "        text-align: right;\n",
       "    }\n",
       "</style>\n",
       "<table border=\"1\" class=\"dataframe\">\n",
       "  <thead>\n",
       "    <tr style=\"text-align: right;\">\n",
       "      <th></th>\n",
       "      <th>Fighter</th>\n",
       "      <th>Absorbed_STR</th>\n",
       "      <th>Wins</th>\n",
       "      <th>Losses</th>\n",
       "      <th>Draws</th>\n",
       "    </tr>\n",
       "  </thead>\n",
       "  <tbody>\n",
       "    <tr>\n",
       "      <th>1396</th>\n",
       "      <td>Landon Quinones</td>\n",
       "      <td>171.0</td>\n",
       "      <td>0</td>\n",
       "      <td>1</td>\n",
       "      <td>0</td>\n",
       "    </tr>\n",
       "    <tr>\n",
       "      <th>1340</th>\n",
       "      <td>Kevin Borjas</td>\n",
       "      <td>156.0</td>\n",
       "      <td>0</td>\n",
       "      <td>1</td>\n",
       "      <td>0</td>\n",
       "    </tr>\n",
       "    <tr>\n",
       "      <th>1371</th>\n",
       "      <td>Kris Moutinho</td>\n",
       "      <td>129.0</td>\n",
       "      <td>0</td>\n",
       "      <td>2</td>\n",
       "      <td>0</td>\n",
       "    </tr>\n",
       "    <tr>\n",
       "      <th>2001</th>\n",
       "      <td>Rosi Sexton</td>\n",
       "      <td>125.0</td>\n",
       "      <td>0</td>\n",
       "      <td>2</td>\n",
       "      <td>0</td>\n",
       "    </tr>\n",
       "    <tr>\n",
       "      <th>1832</th>\n",
       "      <td>Peggy Morgan</td>\n",
       "      <td>123.0</td>\n",
       "      <td>0</td>\n",
       "      <td>1</td>\n",
       "      <td>0</td>\n",
       "    </tr>\n",
       "    <tr>\n",
       "      <th>...</th>\n",
       "      <td>...</td>\n",
       "      <td>...</td>\n",
       "      <td>...</td>\n",
       "      <td>...</td>\n",
       "      <td>...</td>\n",
       "    </tr>\n",
       "    <tr>\n",
       "      <th>153</th>\n",
       "      <td>Anthony Macias</td>\n",
       "      <td>0.0</td>\n",
       "      <td>0</td>\n",
       "      <td>3</td>\n",
       "      <td>0</td>\n",
       "    </tr>\n",
       "    <tr>\n",
       "      <th>1733</th>\n",
       "      <td>Neil Grove</td>\n",
       "      <td>0.0</td>\n",
       "      <td>0</td>\n",
       "      <td>1</td>\n",
       "      <td>0</td>\n",
       "    </tr>\n",
       "    <tr>\n",
       "      <th>734</th>\n",
       "      <td>Ernie Verdicia</td>\n",
       "      <td>0.0</td>\n",
       "      <td>0</td>\n",
       "      <td>1</td>\n",
       "      <td>0</td>\n",
       "    </tr>\n",
       "    <tr>\n",
       "      <th>1520</th>\n",
       "      <td>Marcus Bossett</td>\n",
       "      <td>0.0</td>\n",
       "      <td>0</td>\n",
       "      <td>1</td>\n",
       "      <td>0</td>\n",
       "    </tr>\n",
       "    <tr>\n",
       "      <th>2027</th>\n",
       "      <td>Ryan Parker</td>\n",
       "      <td>0.0</td>\n",
       "      <td>0</td>\n",
       "      <td>1</td>\n",
       "      <td>0</td>\n",
       "    </tr>\n",
       "  </tbody>\n",
       "</table>\n",
       "<p>2429 rows × 5 columns</p>\n",
       "</div>"
      ],
      "text/plain": [
       "              Fighter  Absorbed_STR  Wins  Losses  Draws\n",
       "1396  Landon Quinones         171.0     0       1      0\n",
       "1340     Kevin Borjas         156.0     0       1      0\n",
       "1371    Kris Moutinho         129.0     0       2      0\n",
       "2001      Rosi Sexton         125.0     0       2      0\n",
       "1832     Peggy Morgan         123.0     0       1      0\n",
       "...               ...           ...   ...     ...    ...\n",
       "153    Anthony Macias           0.0     0       3      0\n",
       "1733       Neil Grove           0.0     0       1      0\n",
       "734    Ernie Verdicia           0.0     0       1      0\n",
       "1520   Marcus Bossett           0.0     0       1      0\n",
       "2027      Ryan Parker           0.0     0       1      0\n",
       "\n",
       "[2429 rows x 5 columns]"
      ]
     },
     "execution_count": 133,
     "metadata": {},
     "output_type": "execute_result"
    }
   ],
   "source": [
    "# For each fighter, calculate the strikes they absorbed from their opponent\n",
    "fighter_1_absorbed = df[['Fighter 1', 'Fighter_2_STR']].rename(columns={'Fighter 1': 'Fighter', 'Fighter_2_STR': 'Absorbed_STR'})\n",
    "fighter_2_absorbed = df[['Fighter 2', 'Fighter_1_STR']].rename(columns={'Fighter 2': 'Fighter', 'Fighter_1_STR': 'Absorbed_STR'})\n",
    "combined_absorbed_data = pd.concat([fighter_1_absorbed, fighter_2_absorbed], ignore_index=True)\n",
    "\n",
    "# Calculating the average significant strikes absorbed for each fighter\n",
    "average_absorbed = combined_absorbed_data.groupby('Fighter')['Absorbed_STR'].mean()\n",
    "\n",
    "# Creating columns for the fight record (Wins-Losses-Draws)\n",
    "df['Fighter 1 Wins'] = df['Winner'] == df['Fighter 1']\n",
    "df['Fighter 2 Wins'] = df['Winner'] == df['Fighter 2']\n",
    "df['Draw'] = df['Method'] == 'Draw'\n",
    "\n",
    "# Aggregating wins, losses, and draws\n",
    "fighter_1_record = df.groupby('Fighter 1').agg({'Fighter 1 Wins': 'sum', 'Fighter 2 Wins': 'count', 'Draw': 'sum'}).rename(columns={'Fighter 1 Wins': 'Wins', 'Fighter 2 Wins': 'Losses', 'Draw': 'Draws'})\n",
    "fighter_2_record = df.groupby('Fighter 2').agg({'Fighter 2 Wins': 'sum', 'Fighter 1 Wins': 'count', 'Draw': 'sum'}).rename(columns={'Fighter 2 Wins': 'Wins', 'Fighter 1 Wins': 'Losses', 'Draw': 'Draws'})\n",
    "fighter_record = fighter_1_record.add(fighter_2_record, fill_value=0).astype(int)\n",
    "\n",
    "# Calculating the Losses count (subtracting the wins and draws)\n",
    "fighter_record['Losses'] = fighter_record['Losses'] - fighter_record['Wins'] - fighter_record['Draws']\n",
    "\n",
    "# Merging the records and the most absorbed event details\n",
    "fighter_details = average_absorbed.reset_index().merge(fighter_record, left_on='Fighter', right_index=True)\n",
    "\n",
    "# Displaying the updated dataset with the additional columns\n",
    "fighter_details = fighter_details.sort_values(by='Absorbed_STR', ascending=False)\n",
    "\n",
    "# Gathering the top 20 fighters with the most significant strikes absorbed (for the viz)\n",
    "top_20_fighters_details = fighter_details.head(20).sort_values(by='Absorbed_STR', ascending=True)\n",
    "\n",
    "top_20_fighters_details['Color'] = get_gradient_colors(top_20_fighters_details, 'Absorbed_STR', color_start=(0, 1, 0), color_end=(0, 1, 1))\n",
    "\n",
    "# Creating a bar plot with Plotly, setting the colors for each bar\n",
    "fig = px.bar(top_20_fighters_details, \n",
    "             x=top_20_fighters_details['Absorbed_STR'], \n",
    "             y=top_20_fighters_details['Fighter'],\n",
    "             orientation='h',\n",
    "             color='Color',\n",
    "             color_discrete_map=\"identity\",\n",
    "             labels={'x': 'Average Significant Strikes Absorbed', 'index': 'Fighter'},\n",
    "             title='Top 20 UFC Fighters with the Most Significant Strikes Absorbed on Average')\n",
    "\n",
    "\n",
    "# Customize the layout\n",
    "fig.update_layout(showlegend=False, template='plotly_white', title_x=0.5, title_font_size=20, xaxis=dict(title='Average Significant Strikes Absorbed'),\n",
    "    yaxis=dict(title='Fighter'), height=700)\n",
    "\n",
    "# Show the plot\n",
    "fig.show()\n",
    "\n",
    "fighter_details"
   ]
  },
  {
   "cell_type": "markdown",
   "metadata": {},
   "source": [
    "![Top 20 UFC Fighters with the Most Significant Strikes Absorbed](top20.png)"
   ]
  },
  {
   "cell_type": "markdown",
   "metadata": {},
   "source": [
    "## 3. How many strikes does it take to knock fighters out, on average per weight class?"
   ]
  },
  {
   "cell_type": "code",
   "execution_count": 132,
   "metadata": {},
   "outputs": [
    {
     "name": "stderr",
     "output_type": "stream",
     "text": [
      "/Users/jevan/Documents/python_projects/ufc_events/ufc_venv/lib/python3.9/site-packages/plotly/express/_core.py:2065: FutureWarning:\n",
      "\n",
      "When grouping with a length-1 list-like, you will need to pass a length-1 tuple to get_group in a future version of pandas. Pass `(name,)` instead of `name` to silence this warning.\n",
      "\n"
     ]
    },
    {
     "data": {
      "application/vnd.plotly.v1+json": {
       "config": {
        "plotlyServerURL": "https://plot.ly"
       },
       "data": [
        {
         "alignmentgroup": "True",
         "hovertemplate": "Weight_Class=%{x}<br>Total_Strikes_Landed=%{y}<extra></extra>",
         "legendgroup": "",
         "marker": {
          "color": "rgb(255, 128, 128)"
         },
         "name": "",
         "notched": false,
         "offsetgroup": "",
         "orientation": "v",
         "showlegend": false,
         "type": "box",
         "width": 0.5,
         "x": [
          "Lightweight",
          "Lightweight",
          "Lightweight",
          "Lightweight",
          "Lightweight",
          "Lightweight",
          "Lightweight",
          "Lightweight",
          "Lightweight",
          "Lightweight",
          "Lightweight",
          "Lightweight",
          "Lightweight",
          "Lightweight",
          "Lightweight",
          "Lightweight",
          "Lightweight",
          "Lightweight",
          "Lightweight",
          "Lightweight",
          "Lightweight",
          "Lightweight",
          "Lightweight",
          "Lightweight",
          "Lightweight",
          "Lightweight",
          "Lightweight",
          "Lightweight",
          "Lightweight",
          "Lightweight",
          "Lightweight",
          "Lightweight",
          "Lightweight",
          "Lightweight",
          "Lightweight",
          "Lightweight",
          "Lightweight",
          "Lightweight",
          "Lightweight",
          "Lightweight",
          "Lightweight",
          "Lightweight",
          "Lightweight",
          "Lightweight",
          "Lightweight",
          "Lightweight",
          "Lightweight",
          "Lightweight",
          "Lightweight",
          "Lightweight",
          "Lightweight",
          "Lightweight",
          "Lightweight",
          "Lightweight",
          "Lightweight",
          "Lightweight",
          "Lightweight",
          "Lightweight",
          "Lightweight",
          "Lightweight",
          "Lightweight",
          "Lightweight",
          "Lightweight",
          "Lightweight",
          "Lightweight",
          "Lightweight",
          "Lightweight",
          "Lightweight",
          "Lightweight",
          "Lightweight",
          "Lightweight",
          "Lightweight",
          "Lightweight",
          "Lightweight",
          "Lightweight",
          "Lightweight",
          "Lightweight",
          "Lightweight",
          "Lightweight",
          "Lightweight",
          "Lightweight",
          "Lightweight",
          "Lightweight",
          "Lightweight",
          "Lightweight",
          "Lightweight",
          "Lightweight",
          "Lightweight",
          "Lightweight",
          "Lightweight",
          "Lightweight",
          "Lightweight",
          "Lightweight",
          "Lightweight",
          "Lightweight",
          "Lightweight",
          "Lightweight",
          "Lightweight",
          "Lightweight",
          "Lightweight",
          "Lightweight",
          "Lightweight",
          "Lightweight",
          "Lightweight",
          "Lightweight",
          "Lightweight",
          "Lightweight",
          "Lightweight",
          "Lightweight",
          "Lightweight",
          "Lightweight",
          "Lightweight",
          "Lightweight",
          "Lightweight",
          "Lightweight",
          "Lightweight",
          "Lightweight",
          "Lightweight",
          "Lightweight",
          "Lightweight",
          "Lightweight",
          "Lightweight",
          "Lightweight",
          "Lightweight",
          "Lightweight",
          "Lightweight",
          "Lightweight",
          "Lightweight",
          "Lightweight",
          "Lightweight",
          "Lightweight",
          "Lightweight",
          "Lightweight",
          "Lightweight",
          "Lightweight",
          "Lightweight",
          "Lightweight",
          "Lightweight",
          "Lightweight",
          "Lightweight",
          "Lightweight",
          "Lightweight",
          "Lightweight",
          "Lightweight",
          "Lightweight",
          "Lightweight",
          "Lightweight",
          "Lightweight",
          "Lightweight",
          "Lightweight",
          "Lightweight",
          "Lightweight",
          "Lightweight",
          "Lightweight",
          "Lightweight",
          "Lightweight",
          "Lightweight",
          "Lightweight",
          "Lightweight",
          "Lightweight",
          "Lightweight",
          "Lightweight",
          "Lightweight",
          "Lightweight",
          "Lightweight",
          "Lightweight",
          "Lightweight",
          "Lightweight",
          "Lightweight",
          "Lightweight",
          "Lightweight",
          "Lightweight",
          "Lightweight",
          "Lightweight",
          "Lightweight",
          "Lightweight",
          "Lightweight",
          "Lightweight",
          "Lightweight",
          "Lightweight",
          "Lightweight",
          "Lightweight",
          "Lightweight",
          "Lightweight",
          "Lightweight",
          "Lightweight",
          "Lightweight",
          "Lightweight",
          "Lightweight",
          "Lightweight",
          "Lightweight",
          "Lightweight",
          "Lightweight",
          "Lightweight",
          "Lightweight",
          "Lightweight",
          "Lightweight",
          "Lightweight",
          "Lightweight",
          "Lightweight",
          "Lightweight",
          "Lightweight",
          "Lightweight",
          "Lightweight",
          "Lightweight",
          "Lightweight",
          "Lightweight",
          "Lightweight",
          "Lightweight",
          "Lightweight",
          "Lightweight",
          "Lightweight",
          "Lightweight",
          "Lightweight",
          "Lightweight",
          "Lightweight",
          "Lightweight",
          "Lightweight",
          "Lightweight",
          "Lightweight",
          "Lightweight",
          "Lightweight",
          "Lightweight",
          "Lightweight",
          "Lightweight",
          "Lightweight",
          "Lightweight",
          "Lightweight",
          "Lightweight",
          "Lightweight",
          "Lightweight",
          "Lightweight",
          "Lightweight",
          "Lightweight",
          "Lightweight",
          "Lightweight",
          "Lightweight",
          "Lightweight",
          "Lightweight",
          "Lightweight",
          "Lightweight",
          "Lightweight",
          "Lightweight",
          "Lightweight",
          "Lightweight",
          "Lightweight",
          "Lightweight",
          "Lightweight",
          "Lightweight",
          "Lightweight",
          "Lightweight",
          "Lightweight",
          "Lightweight",
          "Lightweight",
          "Lightweight",
          "Lightweight",
          "Lightweight",
          "Lightweight",
          "Lightweight",
          "Lightweight",
          "Lightweight",
          "Lightweight",
          "Lightweight",
          "Lightweight",
          "Lightweight",
          "Lightweight",
          "Lightweight",
          "Lightweight",
          "Lightweight",
          "Lightweight",
          "Lightweight",
          "Lightweight",
          "Lightweight",
          "Lightweight",
          "Lightweight",
          "Lightweight",
          "Lightweight",
          "Lightweight",
          "Lightweight",
          "Lightweight",
          "Lightweight",
          "Lightweight",
          "Lightweight",
          "Lightweight",
          "Lightweight",
          "Lightweight",
          "Lightweight",
          "Lightweight",
          "Lightweight",
          "Lightweight",
          "Lightweight",
          "Lightweight",
          "Lightweight",
          "Lightweight",
          "Lightweight",
          "Lightweight",
          "Lightweight",
          "Lightweight",
          "Lightweight",
          "Lightweight",
          "Lightweight",
          "Lightweight",
          "Lightweight",
          "Lightweight",
          "Lightweight",
          "Lightweight",
          "Lightweight",
          "Lightweight",
          "Lightweight",
          "Lightweight",
          "Lightweight",
          "Lightweight",
          "Lightweight",
          "Lightweight",
          "Lightweight",
          "Lightweight",
          "Lightweight",
          "Lightweight",
          "Lightweight",
          "Lightweight",
          "Lightweight",
          "Lightweight",
          "Lightweight",
          "Lightweight",
          "Lightweight",
          "Lightweight",
          "Lightweight",
          "Lightweight",
          "Lightweight",
          "Lightweight",
          "Lightweight",
          "Lightweight",
          "Lightweight",
          "Lightweight",
          "Lightweight",
          "Lightweight",
          "Lightweight",
          "Lightweight",
          "Lightweight",
          "Lightweight",
          "Lightweight",
          "Lightweight",
          "Lightweight",
          "Lightweight",
          "Lightweight",
          "Lightweight",
          "Lightweight",
          "Lightweight",
          "Lightweight",
          "Lightweight",
          "Lightweight",
          "Lightweight",
          "Lightweight",
          "Lightweight",
          "Lightweight",
          "Lightweight",
          "Lightweight",
          "Lightweight",
          "Lightweight",
          "Lightweight",
          "Lightweight",
          "Lightweight",
          "Lightweight",
          "Lightweight",
          "Lightweight",
          "Lightweight",
          "Lightweight",
          "Lightweight",
          "Lightweight",
          "Lightweight",
          "Lightweight"
         ],
         "x0": " ",
         "xaxis": "x",
         "y": [
          8,
          33,
          2,
          6,
          36,
          24,
          92,
          14,
          7,
          30,
          16,
          43,
          101,
          30,
          41,
          38,
          65,
          54,
          80,
          13,
          26,
          3,
          28,
          30,
          85,
          35,
          9,
          15,
          51,
          17,
          64,
          38,
          34,
          34,
          29,
          11,
          45,
          24,
          42,
          37,
          62,
          64,
          7,
          47,
          34,
          30,
          27,
          76,
          20,
          17,
          52,
          36,
          48,
          60,
          16,
          25,
          66,
          44,
          28,
          24,
          32,
          34,
          20,
          55,
          22,
          86,
          47,
          105,
          36,
          10,
          4,
          24,
          45,
          39,
          6,
          46,
          45,
          48,
          17,
          21,
          38,
          1,
          29,
          13,
          16,
          36,
          30,
          16,
          58,
          61,
          143,
          12,
          55,
          13,
          10,
          21,
          25,
          139,
          22,
          40,
          27,
          21,
          21,
          44,
          22,
          16,
          87,
          104,
          12,
          100,
          19,
          38,
          10,
          20,
          25,
          58,
          19,
          9,
          51,
          80,
          126,
          95,
          54,
          13,
          21,
          114,
          73,
          75,
          28,
          7,
          54,
          12,
          22,
          142,
          24,
          174,
          31,
          128,
          13,
          8,
          29,
          34,
          3,
          18,
          155,
          31,
          53,
          24,
          42,
          13,
          42,
          57,
          26,
          2,
          41,
          15,
          23,
          104,
          69,
          19,
          14,
          20,
          12,
          8,
          6,
          30,
          23,
          10,
          50,
          32,
          56,
          48,
          48,
          32,
          14,
          38,
          20,
          11,
          17,
          26,
          22,
          22,
          8,
          6,
          24,
          45,
          36,
          46,
          135,
          27,
          25,
          20,
          38,
          26,
          32,
          18,
          10,
          62,
          42,
          3,
          21,
          17,
          12,
          15,
          19,
          23,
          18,
          27,
          71,
          31,
          24,
          25,
          15,
          59,
          37,
          59,
          33,
          91,
          63,
          31,
          9,
          10,
          21,
          93,
          25,
          18,
          26,
          34,
          37,
          10,
          25,
          13,
          9,
          34,
          10,
          36,
          46,
          22,
          38,
          24,
          20,
          16,
          34,
          19,
          18,
          16,
          46,
          22,
          43,
          33,
          20,
          16,
          20,
          39,
          49,
          26,
          39,
          3,
          36,
          5,
          26,
          28,
          18,
          54,
          22,
          26,
          13,
          50,
          8,
          52,
          57,
          17,
          4,
          5,
          26,
          54,
          33,
          10,
          20,
          9,
          48,
          68,
          47,
          55,
          22,
          61,
          42,
          31,
          10,
          30,
          17,
          2,
          27,
          13,
          50,
          43,
          26,
          37,
          17,
          25,
          9,
          43,
          44,
          5,
          14,
          22,
          0,
          70,
          59,
          38,
          14,
          28,
          67,
          10,
          30,
          28,
          7,
          5,
          19,
          13,
          12,
          48,
          8,
          22,
          23,
          3,
          10,
          18,
          122,
          35,
          11,
          23,
          30,
          29,
          20,
          3,
          28,
          26,
          20,
          31,
          34,
          12,
          21,
          13,
          25,
          13,
          20,
          9,
          28,
          27,
          10,
          16,
          33,
          11,
          13,
          6,
          39,
          5,
          6,
          8,
          22,
          1,
          54,
          13,
          7,
          6,
          15,
          6,
          1,
          1,
          0
         ],
         "y0": " ",
         "yaxis": "y"
        },
        {
         "alignmentgroup": "True",
         "hovertemplate": "Weight_Class=%{x}<br>Total_Strikes_Landed=%{y}<extra></extra>",
         "legendgroup": "",
         "marker": {
          "color": "rgb(255, 91, 91)"
         },
         "name": "",
         "notched": false,
         "offsetgroup": "",
         "orientation": "v",
         "showlegend": false,
         "type": "box",
         "width": 0.5,
         "x": [
          "Middleweight",
          "Middleweight",
          "Middleweight",
          "Middleweight",
          "Middleweight",
          "Middleweight",
          "Middleweight",
          "Middleweight",
          "Middleweight",
          "Middleweight",
          "Middleweight",
          "Middleweight",
          "Middleweight",
          "Middleweight",
          "Middleweight",
          "Middleweight",
          "Middleweight",
          "Middleweight",
          "Middleweight",
          "Middleweight",
          "Middleweight",
          "Middleweight",
          "Middleweight",
          "Middleweight",
          "Middleweight",
          "Middleweight",
          "Middleweight",
          "Middleweight",
          "Middleweight",
          "Middleweight",
          "Middleweight",
          "Middleweight",
          "Middleweight",
          "Middleweight",
          "Middleweight",
          "Middleweight",
          "Middleweight",
          "Middleweight",
          "Middleweight",
          "Middleweight",
          "Middleweight",
          "Middleweight",
          "Middleweight",
          "Middleweight",
          "Middleweight",
          "Middleweight",
          "Middleweight",
          "Middleweight",
          "Middleweight",
          "Middleweight",
          "Middleweight",
          "Middleweight",
          "Middleweight",
          "Middleweight",
          "Middleweight",
          "Middleweight",
          "Middleweight",
          "Middleweight",
          "Middleweight",
          "Middleweight",
          "Middleweight",
          "Middleweight",
          "Middleweight",
          "Middleweight",
          "Middleweight",
          "Middleweight",
          "Middleweight",
          "Middleweight",
          "Middleweight",
          "Middleweight",
          "Middleweight",
          "Middleweight",
          "Middleweight",
          "Middleweight",
          "Middleweight",
          "Middleweight",
          "Middleweight",
          "Middleweight",
          "Middleweight",
          "Middleweight",
          "Middleweight",
          "Middleweight",
          "Middleweight",
          "Middleweight",
          "Middleweight",
          "Middleweight",
          "Middleweight",
          "Middleweight",
          "Middleweight",
          "Middleweight",
          "Middleweight",
          "Middleweight",
          "Middleweight",
          "Middleweight",
          "Middleweight",
          "Middleweight",
          "Middleweight",
          "Middleweight",
          "Middleweight",
          "Middleweight",
          "Middleweight",
          "Middleweight",
          "Middleweight",
          "Middleweight",
          "Middleweight",
          "Middleweight",
          "Middleweight",
          "Middleweight",
          "Middleweight",
          "Middleweight",
          "Middleweight",
          "Middleweight",
          "Middleweight",
          "Middleweight",
          "Middleweight",
          "Middleweight",
          "Middleweight",
          "Middleweight",
          "Middleweight",
          "Middleweight",
          "Middleweight",
          "Middleweight",
          "Middleweight",
          "Middleweight",
          "Middleweight",
          "Middleweight",
          "Middleweight",
          "Middleweight",
          "Middleweight",
          "Middleweight",
          "Middleweight",
          "Middleweight",
          "Middleweight",
          "Middleweight",
          "Middleweight",
          "Middleweight",
          "Middleweight",
          "Middleweight",
          "Middleweight",
          "Middleweight",
          "Middleweight",
          "Middleweight",
          "Middleweight",
          "Middleweight",
          "Middleweight",
          "Middleweight",
          "Middleweight",
          "Middleweight",
          "Middleweight",
          "Middleweight",
          "Middleweight",
          "Middleweight",
          "Middleweight",
          "Middleweight",
          "Middleweight",
          "Middleweight",
          "Middleweight",
          "Middleweight",
          "Middleweight",
          "Middleweight",
          "Middleweight",
          "Middleweight",
          "Middleweight",
          "Middleweight",
          "Middleweight",
          "Middleweight",
          "Middleweight",
          "Middleweight",
          "Middleweight",
          "Middleweight",
          "Middleweight",
          "Middleweight",
          "Middleweight",
          "Middleweight",
          "Middleweight",
          "Middleweight",
          "Middleweight",
          "Middleweight",
          "Middleweight",
          "Middleweight",
          "Middleweight",
          "Middleweight",
          "Middleweight",
          "Middleweight",
          "Middleweight",
          "Middleweight",
          "Middleweight",
          "Middleweight",
          "Middleweight",
          "Middleweight",
          "Middleweight",
          "Middleweight",
          "Middleweight",
          "Middleweight",
          "Middleweight",
          "Middleweight",
          "Middleweight",
          "Middleweight",
          "Middleweight",
          "Middleweight",
          "Middleweight",
          "Middleweight",
          "Middleweight",
          "Middleweight",
          "Middleweight",
          "Middleweight",
          "Middleweight",
          "Middleweight",
          "Middleweight",
          "Middleweight",
          "Middleweight",
          "Middleweight",
          "Middleweight",
          "Middleweight",
          "Middleweight",
          "Middleweight",
          "Middleweight",
          "Middleweight",
          "Middleweight",
          "Middleweight",
          "Middleweight",
          "Middleweight",
          "Middleweight",
          "Middleweight",
          "Middleweight",
          "Middleweight",
          "Middleweight",
          "Middleweight",
          "Middleweight",
          "Middleweight",
          "Middleweight",
          "Middleweight",
          "Middleweight",
          "Middleweight",
          "Middleweight",
          "Middleweight",
          "Middleweight",
          "Middleweight",
          "Middleweight",
          "Middleweight",
          "Middleweight",
          "Middleweight",
          "Middleweight",
          "Middleweight",
          "Middleweight",
          "Middleweight",
          "Middleweight",
          "Middleweight",
          "Middleweight",
          "Middleweight",
          "Middleweight",
          "Middleweight",
          "Middleweight",
          "Middleweight",
          "Middleweight",
          "Middleweight",
          "Middleweight",
          "Middleweight",
          "Middleweight",
          "Middleweight",
          "Middleweight",
          "Middleweight",
          "Middleweight",
          "Middleweight",
          "Middleweight",
          "Middleweight",
          "Middleweight",
          "Middleweight",
          "Middleweight",
          "Middleweight",
          "Middleweight",
          "Middleweight",
          "Middleweight",
          "Middleweight",
          "Middleweight",
          "Middleweight",
          "Middleweight",
          "Middleweight",
          "Middleweight",
          "Middleweight",
          "Middleweight",
          "Middleweight",
          "Middleweight",
          "Middleweight",
          "Middleweight",
          "Middleweight",
          "Middleweight",
          "Middleweight",
          "Middleweight",
          "Middleweight",
          "Middleweight",
          "Middleweight",
          "Middleweight",
          "Middleweight",
          "Middleweight",
          "Middleweight",
          "Middleweight",
          "Middleweight",
          "Middleweight",
          "Middleweight",
          "Middleweight",
          "Middleweight",
          "Middleweight",
          "Middleweight",
          "Middleweight",
          "Middleweight",
          "Middleweight",
          "Middleweight",
          "Middleweight",
          "Middleweight",
          "Middleweight",
          "Middleweight",
          "Middleweight",
          "Middleweight",
          "Middleweight",
          "Middleweight",
          "Middleweight",
          "Middleweight",
          "Middleweight",
          "Middleweight",
          "Middleweight",
          "Middleweight",
          "Middleweight",
          "Middleweight",
          "Middleweight",
          "Middleweight",
          "Middleweight",
          "Middleweight",
          "Middleweight",
          "Middleweight",
          "Middleweight",
          "Middleweight",
          "Middleweight",
          "Middleweight",
          "Middleweight",
          "Middleweight",
          "Middleweight",
          "Middleweight",
          "Middleweight",
          "Middleweight",
          "Middleweight",
          "Middleweight",
          "Middleweight",
          "Middleweight",
          "Middleweight",
          "Middleweight",
          "Middleweight",
          "Middleweight",
          "Middleweight",
          "Middleweight",
          "Middleweight",
          "Middleweight",
          "Middleweight",
          "Middleweight",
          "Middleweight",
          "Middleweight",
          "Middleweight",
          "Middleweight",
          "Middleweight",
          "Middleweight",
          "Middleweight",
          "Middleweight",
          "Middleweight",
          "Middleweight",
          "Middleweight",
          "Middleweight",
          "Middleweight",
          "Middleweight",
          "Middleweight",
          "Middleweight",
          "Middleweight",
          "Middleweight",
          "Middleweight",
          "Middleweight",
          "Middleweight"
         ],
         "x0": " ",
         "xaxis": "x",
         "y": [
          9,
          65,
          26,
          6,
          49,
          44,
          5,
          32,
          40,
          62,
          7,
          81,
          6,
          63,
          20,
          37,
          23,
          41,
          14,
          9,
          71,
          109,
          22,
          82,
          17,
          15,
          54,
          36,
          25,
          49,
          91,
          18,
          61,
          48,
          14,
          73,
          59,
          7,
          22,
          17,
          15,
          25,
          27,
          49,
          118,
          8,
          14,
          55,
          11,
          19,
          61,
          30,
          11,
          21,
          42,
          68,
          70,
          131,
          41,
          46,
          1,
          39,
          25,
          19,
          26,
          0,
          141,
          79,
          12,
          30,
          15,
          43,
          38,
          60,
          7,
          26,
          17,
          29,
          85,
          55,
          4,
          79,
          28,
          88,
          20,
          29,
          14,
          20,
          26,
          91,
          14,
          40,
          28,
          5,
          17,
          13,
          39,
          74,
          26,
          13,
          48,
          24,
          42,
          75,
          34,
          23,
          11,
          35,
          5,
          46,
          17,
          45,
          52,
          58,
          9,
          6,
          70,
          36,
          159,
          14,
          49,
          10,
          28,
          58,
          35,
          26,
          43,
          38,
          23,
          60,
          41,
          8,
          43,
          23,
          55,
          49,
          49,
          22,
          27,
          62,
          48,
          33,
          20,
          42,
          18,
          14,
          57,
          24,
          4,
          59,
          38,
          18,
          21,
          4,
          21,
          13,
          27,
          39,
          16,
          21,
          37,
          46,
          7,
          23,
          11,
          8,
          54,
          16,
          126,
          29,
          6,
          97,
          18,
          27,
          11,
          57,
          14,
          42,
          3,
          11,
          59,
          12,
          46,
          10,
          8,
          39,
          4,
          11,
          20,
          4,
          27,
          12,
          24,
          14,
          11,
          9,
          49,
          6,
          39,
          18,
          92,
          14,
          22,
          15,
          16,
          73,
          5,
          12,
          7,
          45,
          12,
          60,
          20,
          20,
          27,
          14,
          13,
          50,
          5,
          28,
          20,
          16,
          9,
          12,
          36,
          20,
          66,
          56,
          18,
          28,
          24,
          8,
          26,
          56,
          28,
          23,
          15,
          21,
          68,
          34,
          5,
          20,
          18,
          42,
          6,
          21,
          102,
          43,
          39,
          25,
          43,
          53,
          12,
          9,
          11,
          47,
          4,
          57,
          50,
          6,
          30,
          22,
          13,
          10,
          42,
          24,
          50,
          42,
          3,
          25,
          29,
          50,
          17,
          13,
          21,
          16,
          29,
          66,
          1,
          25,
          29,
          8,
          16,
          16,
          10,
          67,
          9,
          18,
          52,
          29,
          7,
          22,
          19,
          19,
          25,
          28,
          39,
          13,
          29,
          24,
          26,
          14,
          28,
          43,
          39,
          57,
          53,
          64,
          20,
          10,
          30,
          6,
          7,
          49,
          4,
          35,
          29,
          24,
          26,
          31,
          39,
          13,
          9,
          17,
          9,
          11,
          10,
          13,
          13,
          3,
          7,
          97,
          19,
          20,
          14,
          27,
          14,
          36,
          7,
          19,
          17,
          29,
          5,
          35,
          28,
          2,
          16,
          8,
          4,
          60,
          11,
          43,
          20,
          9,
          5,
          7,
          17,
          32,
          33,
          3,
          33,
          2,
          22,
          31,
          13,
          20,
          35,
          21,
          25,
          26,
          23,
          37,
          7,
          31,
          0
         ],
         "y0": " ",
         "yaxis": "y"
        },
        {
         "alignmentgroup": "True",
         "hovertemplate": "Weight_Class=%{x}<br>Total_Strikes_Landed=%{y}<extra></extra>",
         "legendgroup": "",
         "marker": {
          "color": "rgb(255, 73, 73)"
         },
         "name": "",
         "notched": false,
         "offsetgroup": "",
         "orientation": "v",
         "showlegend": false,
         "type": "box",
         "width": 0.5,
         "x": [
          "Light Heavyweight",
          "Light Heavyweight",
          "Light Heavyweight",
          "Light Heavyweight",
          "Light Heavyweight",
          "Light Heavyweight",
          "Light Heavyweight",
          "Light Heavyweight",
          "Light Heavyweight",
          "Light Heavyweight",
          "Light Heavyweight",
          "Light Heavyweight",
          "Light Heavyweight",
          "Light Heavyweight",
          "Light Heavyweight",
          "Light Heavyweight",
          "Light Heavyweight",
          "Light Heavyweight",
          "Light Heavyweight",
          "Light Heavyweight",
          "Light Heavyweight",
          "Light Heavyweight",
          "Light Heavyweight",
          "Light Heavyweight",
          "Light Heavyweight",
          "Light Heavyweight",
          "Light Heavyweight",
          "Light Heavyweight",
          "Light Heavyweight",
          "Light Heavyweight",
          "Light Heavyweight",
          "Light Heavyweight",
          "Light Heavyweight",
          "Light Heavyweight",
          "Light Heavyweight",
          "Light Heavyweight",
          "Light Heavyweight",
          "Light Heavyweight",
          "Light Heavyweight",
          "Light Heavyweight",
          "Light Heavyweight",
          "Light Heavyweight",
          "Light Heavyweight",
          "Light Heavyweight",
          "Light Heavyweight",
          "Light Heavyweight",
          "Light Heavyweight",
          "Light Heavyweight",
          "Light Heavyweight",
          "Light Heavyweight",
          "Light Heavyweight",
          "Light Heavyweight",
          "Light Heavyweight",
          "Light Heavyweight",
          "Light Heavyweight",
          "Light Heavyweight",
          "Light Heavyweight",
          "Light Heavyweight",
          "Light Heavyweight",
          "Light Heavyweight",
          "Light Heavyweight",
          "Light Heavyweight",
          "Light Heavyweight",
          "Light Heavyweight",
          "Light Heavyweight",
          "Light Heavyweight",
          "Light Heavyweight",
          "Light Heavyweight",
          "Light Heavyweight",
          "Light Heavyweight",
          "Light Heavyweight",
          "Light Heavyweight",
          "Light Heavyweight",
          "Light Heavyweight",
          "Light Heavyweight",
          "Light Heavyweight",
          "Light Heavyweight",
          "Light Heavyweight",
          "Light Heavyweight",
          "Light Heavyweight",
          "Light Heavyweight",
          "Light Heavyweight",
          "Light Heavyweight",
          "Light Heavyweight",
          "Light Heavyweight",
          "Light Heavyweight",
          "Light Heavyweight",
          "Light Heavyweight",
          "Light Heavyweight",
          "Light Heavyweight",
          "Light Heavyweight",
          "Light Heavyweight",
          "Light Heavyweight",
          "Light Heavyweight",
          "Light Heavyweight",
          "Light Heavyweight",
          "Light Heavyweight",
          "Light Heavyweight",
          "Light Heavyweight",
          "Light Heavyweight",
          "Light Heavyweight",
          "Light Heavyweight",
          "Light Heavyweight",
          "Light Heavyweight",
          "Light Heavyweight",
          "Light Heavyweight",
          "Light Heavyweight",
          "Light Heavyweight",
          "Light Heavyweight",
          "Light Heavyweight",
          "Light Heavyweight",
          "Light Heavyweight",
          "Light Heavyweight",
          "Light Heavyweight",
          "Light Heavyweight",
          "Light Heavyweight",
          "Light Heavyweight",
          "Light Heavyweight",
          "Light Heavyweight",
          "Light Heavyweight",
          "Light Heavyweight",
          "Light Heavyweight",
          "Light Heavyweight",
          "Light Heavyweight",
          "Light Heavyweight",
          "Light Heavyweight",
          "Light Heavyweight",
          "Light Heavyweight",
          "Light Heavyweight",
          "Light Heavyweight",
          "Light Heavyweight",
          "Light Heavyweight",
          "Light Heavyweight",
          "Light Heavyweight",
          "Light Heavyweight",
          "Light Heavyweight",
          "Light Heavyweight",
          "Light Heavyweight",
          "Light Heavyweight",
          "Light Heavyweight",
          "Light Heavyweight",
          "Light Heavyweight",
          "Light Heavyweight",
          "Light Heavyweight",
          "Light Heavyweight",
          "Light Heavyweight",
          "Light Heavyweight",
          "Light Heavyweight",
          "Light Heavyweight",
          "Light Heavyweight",
          "Light Heavyweight",
          "Light Heavyweight",
          "Light Heavyweight",
          "Light Heavyweight",
          "Light Heavyweight",
          "Light Heavyweight",
          "Light Heavyweight",
          "Light Heavyweight",
          "Light Heavyweight",
          "Light Heavyweight",
          "Light Heavyweight",
          "Light Heavyweight",
          "Light Heavyweight",
          "Light Heavyweight",
          "Light Heavyweight",
          "Light Heavyweight",
          "Light Heavyweight",
          "Light Heavyweight",
          "Light Heavyweight",
          "Light Heavyweight",
          "Light Heavyweight",
          "Light Heavyweight",
          "Light Heavyweight",
          "Light Heavyweight",
          "Light Heavyweight",
          "Light Heavyweight",
          "Light Heavyweight",
          "Light Heavyweight",
          "Light Heavyweight",
          "Light Heavyweight",
          "Light Heavyweight",
          "Light Heavyweight",
          "Light Heavyweight",
          "Light Heavyweight",
          "Light Heavyweight",
          "Light Heavyweight",
          "Light Heavyweight",
          "Light Heavyweight",
          "Light Heavyweight",
          "Light Heavyweight",
          "Light Heavyweight",
          "Light Heavyweight",
          "Light Heavyweight",
          "Light Heavyweight",
          "Light Heavyweight",
          "Light Heavyweight",
          "Light Heavyweight",
          "Light Heavyweight",
          "Light Heavyweight",
          "Light Heavyweight",
          "Light Heavyweight",
          "Light Heavyweight",
          "Light Heavyweight",
          "Light Heavyweight",
          "Light Heavyweight",
          "Light Heavyweight",
          "Light Heavyweight",
          "Light Heavyweight",
          "Light Heavyweight",
          "Light Heavyweight",
          "Light Heavyweight",
          "Light Heavyweight",
          "Light Heavyweight",
          "Light Heavyweight",
          "Light Heavyweight",
          "Light Heavyweight",
          "Light Heavyweight",
          "Light Heavyweight",
          "Light Heavyweight",
          "Light Heavyweight",
          "Light Heavyweight",
          "Light Heavyweight",
          "Light Heavyweight",
          "Light Heavyweight",
          "Light Heavyweight",
          "Light Heavyweight",
          "Light Heavyweight",
          "Light Heavyweight",
          "Light Heavyweight",
          "Light Heavyweight",
          "Light Heavyweight",
          "Light Heavyweight",
          "Light Heavyweight",
          "Light Heavyweight",
          "Light Heavyweight",
          "Light Heavyweight",
          "Light Heavyweight",
          "Light Heavyweight",
          "Light Heavyweight",
          "Light Heavyweight",
          "Light Heavyweight",
          "Light Heavyweight",
          "Light Heavyweight",
          "Light Heavyweight",
          "Light Heavyweight",
          "Light Heavyweight",
          "Light Heavyweight",
          "Light Heavyweight",
          "Light Heavyweight",
          "Light Heavyweight",
          "Light Heavyweight",
          "Light Heavyweight",
          "Light Heavyweight",
          "Light Heavyweight",
          "Light Heavyweight",
          "Light Heavyweight",
          "Light Heavyweight",
          "Light Heavyweight",
          "Light Heavyweight",
          "Light Heavyweight",
          "Light Heavyweight",
          "Light Heavyweight",
          "Light Heavyweight",
          "Light Heavyweight",
          "Light Heavyweight",
          "Light Heavyweight",
          "Light Heavyweight",
          "Light Heavyweight",
          "Light Heavyweight",
          "Light Heavyweight",
          "Light Heavyweight",
          "Light Heavyweight",
          "Light Heavyweight",
          "Light Heavyweight",
          "Light Heavyweight",
          "Light Heavyweight",
          "Light Heavyweight",
          "Light Heavyweight",
          "Light Heavyweight",
          "Light Heavyweight",
          "Light Heavyweight",
          "Light Heavyweight",
          "Light Heavyweight",
          "Light Heavyweight",
          "Light Heavyweight",
          "Light Heavyweight",
          "Light Heavyweight",
          "Light Heavyweight",
          "Light Heavyweight",
          "Light Heavyweight"
         ],
         "x0": " ",
         "xaxis": "x",
         "y": [
          80,
          38,
          8,
          16,
          16,
          10,
          13,
          30,
          100,
          18,
          16,
          21,
          24,
          8,
          14,
          8,
          6,
          79,
          89,
          46,
          51,
          26,
          14,
          20,
          15,
          19,
          31,
          22,
          26,
          28,
          6,
          30,
          4,
          16,
          32,
          11,
          38,
          37,
          14,
          31,
          59,
          23,
          77,
          26,
          16,
          82,
          24,
          68,
          29,
          22,
          21,
          17,
          34,
          41,
          26,
          33,
          21,
          15,
          19,
          18,
          33,
          138,
          8,
          13,
          5,
          44,
          22,
          8,
          15,
          64,
          30,
          8,
          11,
          32,
          2,
          11,
          13,
          8,
          4,
          52,
          14,
          14,
          7,
          33,
          59,
          35,
          42,
          31,
          30,
          10,
          100,
          26,
          12,
          40,
          23,
          9,
          9,
          6,
          20,
          10,
          32,
          13,
          23,
          40,
          77,
          12,
          15,
          41,
          84,
          13,
          17,
          15,
          97,
          5,
          6,
          94,
          23,
          3,
          12,
          41,
          66,
          60,
          86,
          32,
          13,
          4,
          60,
          81,
          30,
          6,
          5,
          11,
          47,
          2,
          19,
          54,
          25,
          24,
          4,
          49,
          22,
          7,
          20,
          18,
          70,
          30,
          66,
          18,
          9,
          28,
          13,
          8,
          16,
          42,
          24,
          14,
          32,
          20,
          23,
          21,
          18,
          9,
          20,
          43,
          12,
          16,
          48,
          14,
          6,
          8,
          37,
          20,
          43,
          18,
          19,
          19,
          85,
          53,
          68,
          21,
          2,
          22,
          25,
          10,
          54,
          21,
          6,
          5,
          16,
          29,
          48,
          37,
          15,
          8,
          75,
          29,
          17,
          9,
          19,
          18,
          89,
          15,
          48,
          24,
          17,
          17,
          11,
          29,
          48,
          22,
          14,
          6,
          5,
          13,
          27,
          28,
          18,
          24,
          23,
          32,
          24,
          62,
          22,
          14,
          49,
          11,
          40,
          15,
          41,
          34,
          13,
          71,
          15,
          13,
          15,
          11,
          33,
          19,
          26,
          31,
          3,
          42,
          5,
          8,
          22,
          30,
          18,
          48,
          6,
          17,
          1,
          36,
          6,
          19,
          29,
          45,
          13,
          49,
          36,
          19,
          30,
          17,
          18,
          25,
          17,
          11,
          44,
          41,
          33,
          31,
          19,
          30,
          64,
          6,
          13,
          23,
          1,
          50,
          31,
          23,
          1,
          37,
          46,
          9,
          16,
          74,
          13,
          7,
          35,
          3
         ],
         "y0": " ",
         "yaxis": "y"
        },
        {
         "alignmentgroup": "True",
         "hovertemplate": "Weight_Class=%{x}<br>Total_Strikes_Landed=%{y}<extra></extra>",
         "legendgroup": "",
         "marker": {
          "color": "rgb(255, 255, 255)"
         },
         "name": "",
         "notched": false,
         "offsetgroup": "",
         "orientation": "v",
         "showlegend": false,
         "type": "box",
         "width": 0.5,
         "x": [
          "Women's Strawweight",
          "Women's Strawweight",
          "Women's Strawweight",
          "Women's Strawweight",
          "Women's Strawweight",
          "Women's Strawweight",
          "Women's Strawweight",
          "Women's Strawweight",
          "Women's Strawweight",
          "Women's Strawweight",
          "Women's Strawweight",
          "Women's Strawweight",
          "Women's Strawweight",
          "Women's Strawweight",
          "Women's Strawweight",
          "Women's Strawweight",
          "Women's Strawweight",
          "Women's Strawweight",
          "Women's Strawweight",
          "Women's Strawweight",
          "Women's Strawweight",
          "Women's Strawweight",
          "Women's Strawweight",
          "Women's Strawweight",
          "Women's Strawweight",
          "Women's Strawweight",
          "Women's Strawweight",
          "Women's Strawweight",
          "Women's Strawweight",
          "Women's Strawweight",
          "Women's Strawweight",
          "Women's Strawweight",
          "Women's Strawweight",
          "Women's Strawweight",
          "Women's Strawweight",
          "Women's Strawweight",
          "Women's Strawweight",
          "Women's Strawweight",
          "Women's Strawweight",
          "Women's Strawweight"
         ],
         "x0": " ",
         "xaxis": "x",
         "y": [
          87,
          53,
          57,
          70,
          86,
          3,
          17,
          26,
          54,
          67,
          29,
          11,
          69,
          8,
          43,
          11,
          7,
          36,
          27,
          5,
          24,
          29,
          15,
          52,
          70,
          92,
          29,
          47,
          68,
          38,
          82,
          9,
          40,
          15,
          25,
          19,
          117,
          126,
          53,
          61
         ],
         "y0": " ",
         "yaxis": "y"
        },
        {
         "alignmentgroup": "True",
         "hovertemplate": "Weight_Class=%{x}<br>Total_Strikes_Landed=%{y}<extra></extra>",
         "legendgroup": "",
         "marker": {
          "color": "rgb(255, 146, 146)"
         },
         "name": "",
         "notched": false,
         "offsetgroup": "",
         "orientation": "v",
         "showlegend": false,
         "type": "box",
         "width": 0.5,
         "x": [
          "Featherweight",
          "Featherweight",
          "Featherweight",
          "Featherweight",
          "Featherweight",
          "Featherweight",
          "Featherweight",
          "Featherweight",
          "Featherweight",
          "Featherweight",
          "Featherweight",
          "Featherweight",
          "Featherweight",
          "Featherweight",
          "Featherweight",
          "Featherweight",
          "Featherweight",
          "Featherweight",
          "Featherweight",
          "Featherweight",
          "Featherweight",
          "Featherweight",
          "Featherweight",
          "Featherweight",
          "Featherweight",
          "Featherweight",
          "Featherweight",
          "Featherweight",
          "Featherweight",
          "Featherweight",
          "Featherweight",
          "Featherweight",
          "Featherweight",
          "Featherweight",
          "Featherweight",
          "Featherweight",
          "Featherweight",
          "Featherweight",
          "Featherweight",
          "Featherweight",
          "Featherweight",
          "Featherweight",
          "Featherweight",
          "Featherweight",
          "Featherweight",
          "Featherweight",
          "Featherweight",
          "Featherweight",
          "Featherweight",
          "Featherweight",
          "Featherweight",
          "Featherweight",
          "Featherweight",
          "Featherweight",
          "Featherweight",
          "Featherweight",
          "Featherweight",
          "Featherweight",
          "Featherweight",
          "Featherweight",
          "Featherweight",
          "Featherweight",
          "Featherweight",
          "Featherweight",
          "Featherweight",
          "Featherweight",
          "Featherweight",
          "Featherweight",
          "Featherweight",
          "Featherweight",
          "Featherweight",
          "Featherweight",
          "Featherweight",
          "Featherweight",
          "Featherweight",
          "Featherweight",
          "Featherweight",
          "Featherweight",
          "Featherweight",
          "Featherweight",
          "Featherweight",
          "Featherweight",
          "Featherweight",
          "Featherweight",
          "Featherweight",
          "Featherweight",
          "Featherweight",
          "Featherweight",
          "Featherweight",
          "Featherweight",
          "Featherweight",
          "Featherweight",
          "Featherweight",
          "Featherweight",
          "Featherweight",
          "Featherweight",
          "Featherweight",
          "Featherweight",
          "Featherweight",
          "Featherweight",
          "Featherweight",
          "Featherweight",
          "Featherweight",
          "Featherweight",
          "Featherweight",
          "Featherweight",
          "Featherweight",
          "Featherweight",
          "Featherweight",
          "Featherweight",
          "Featherweight",
          "Featherweight",
          "Featherweight",
          "Featherweight",
          "Featherweight",
          "Featherweight",
          "Featherweight",
          "Featherweight",
          "Featherweight",
          "Featherweight",
          "Featherweight",
          "Featherweight",
          "Featherweight",
          "Featherweight",
          "Featherweight",
          "Featherweight",
          "Featherweight",
          "Featherweight",
          "Featherweight",
          "Featherweight",
          "Featherweight",
          "Featherweight",
          "Featherweight",
          "Featherweight",
          "Featherweight",
          "Featherweight",
          "Featherweight",
          "Featherweight",
          "Featherweight",
          "Featherweight",
          "Featherweight",
          "Featherweight",
          "Featherweight",
          "Featherweight",
          "Featherweight",
          "Featherweight",
          "Featherweight",
          "Featherweight",
          "Featherweight",
          "Featherweight",
          "Featherweight",
          "Featherweight",
          "Featherweight",
          "Featherweight",
          "Featherweight",
          "Featherweight",
          "Featherweight",
          "Featherweight",
          "Featherweight",
          "Featherweight",
          "Featherweight",
          "Featherweight",
          "Featherweight",
          "Featherweight",
          "Featherweight",
          "Featherweight",
          "Featherweight",
          "Featherweight",
          "Featherweight",
          "Featherweight",
          "Featherweight",
          "Featherweight",
          "Featherweight",
          "Featherweight",
          "Featherweight",
          "Featherweight",
          "Featherweight",
          "Featherweight",
          "Featherweight",
          "Featherweight",
          "Featherweight",
          "Featherweight",
          "Featherweight",
          "Featherweight",
          "Featherweight",
          "Featherweight",
          "Featherweight",
          "Featherweight",
          "Featherweight",
          "Featherweight",
          "Featherweight"
         ],
         "x0": " ",
         "xaxis": "x",
         "y": [
          4,
          13,
          14,
          38,
          52,
          26,
          75,
          35,
          66,
          22,
          53,
          20,
          21,
          17,
          34,
          16,
          87,
          23,
          32,
          19,
          28,
          29,
          11,
          90,
          23,
          28,
          4,
          75,
          60,
          14,
          138,
          49,
          36,
          14,
          18,
          50,
          4,
          60,
          44,
          20,
          100,
          18,
          13,
          98,
          12,
          1,
          106,
          15,
          5,
          46,
          31,
          51,
          8,
          9,
          79,
          57,
          22,
          60,
          29,
          52,
          20,
          28,
          7,
          46,
          64,
          20,
          105,
          49,
          12,
          34,
          80,
          27,
          19,
          16,
          22,
          74,
          22,
          33,
          26,
          54,
          290,
          23,
          70,
          119,
          24,
          29,
          17,
          82,
          104,
          25,
          9,
          25,
          24,
          73,
          12,
          80,
          85,
          49,
          10,
          174,
          5,
          42,
          67,
          51,
          104,
          72,
          59,
          36,
          77,
          28,
          17,
          55,
          94,
          13,
          4,
          62,
          25,
          27,
          5,
          5,
          13,
          18,
          16,
          14,
          14,
          20,
          4,
          46,
          38,
          41,
          39,
          21,
          12,
          27,
          5,
          16,
          42,
          10,
          6,
          64,
          10,
          31,
          6,
          40,
          9,
          18,
          53,
          90,
          12,
          79,
          20,
          45,
          3,
          5,
          55,
          74,
          44,
          34,
          3,
          11,
          55,
          32,
          6,
          32,
          43,
          27,
          7,
          21,
          14,
          32,
          10,
          46,
          7,
          9,
          29,
          33,
          10,
          8,
          28,
          45,
          15,
          18,
          43,
          11,
          6,
          17,
          16,
          91,
          4,
          9,
          3
         ],
         "y0": " ",
         "yaxis": "y"
        },
        {
         "alignmentgroup": "True",
         "hovertemplate": "Weight_Class=%{x}<br>Total_Strikes_Landed=%{y}<extra></extra>",
         "legendgroup": "",
         "marker": {
          "color": "rgb(255, 55, 55)"
         },
         "name": "",
         "notched": false,
         "offsetgroup": "",
         "orientation": "v",
         "showlegend": false,
         "type": "box",
         "width": 0.5,
         "x": [
          "Heavyweight",
          "Heavyweight",
          "Heavyweight",
          "Heavyweight",
          "Heavyweight",
          "Heavyweight",
          "Heavyweight",
          "Heavyweight",
          "Heavyweight",
          "Heavyweight",
          "Heavyweight",
          "Heavyweight",
          "Heavyweight",
          "Heavyweight",
          "Heavyweight",
          "Heavyweight",
          "Heavyweight",
          "Heavyweight",
          "Heavyweight",
          "Heavyweight",
          "Heavyweight",
          "Heavyweight",
          "Heavyweight",
          "Heavyweight",
          "Heavyweight",
          "Heavyweight",
          "Heavyweight",
          "Heavyweight",
          "Heavyweight",
          "Heavyweight",
          "Heavyweight",
          "Heavyweight",
          "Heavyweight",
          "Heavyweight",
          "Heavyweight",
          "Heavyweight",
          "Heavyweight",
          "Heavyweight",
          "Heavyweight",
          "Heavyweight",
          "Heavyweight",
          "Heavyweight",
          "Heavyweight",
          "Heavyweight",
          "Heavyweight",
          "Heavyweight",
          "Heavyweight",
          "Heavyweight",
          "Heavyweight",
          "Heavyweight",
          "Heavyweight",
          "Heavyweight",
          "Heavyweight",
          "Heavyweight",
          "Heavyweight",
          "Heavyweight",
          "Heavyweight",
          "Heavyweight",
          "Heavyweight",
          "Heavyweight",
          "Heavyweight",
          "Heavyweight",
          "Heavyweight",
          "Heavyweight",
          "Heavyweight",
          "Heavyweight",
          "Heavyweight",
          "Heavyweight",
          "Heavyweight",
          "Heavyweight",
          "Heavyweight",
          "Heavyweight",
          "Heavyweight",
          "Heavyweight",
          "Heavyweight",
          "Heavyweight",
          "Heavyweight",
          "Heavyweight",
          "Heavyweight",
          "Heavyweight",
          "Heavyweight",
          "Heavyweight",
          "Heavyweight",
          "Heavyweight",
          "Heavyweight",
          "Heavyweight",
          "Heavyweight",
          "Heavyweight",
          "Heavyweight",
          "Heavyweight",
          "Heavyweight",
          "Heavyweight",
          "Heavyweight",
          "Heavyweight",
          "Heavyweight",
          "Heavyweight",
          "Heavyweight",
          "Heavyweight",
          "Heavyweight",
          "Heavyweight",
          "Heavyweight",
          "Heavyweight",
          "Heavyweight",
          "Heavyweight",
          "Heavyweight",
          "Heavyweight",
          "Heavyweight",
          "Heavyweight",
          "Heavyweight",
          "Heavyweight",
          "Heavyweight",
          "Heavyweight",
          "Heavyweight",
          "Heavyweight",
          "Heavyweight",
          "Heavyweight",
          "Heavyweight",
          "Heavyweight",
          "Heavyweight",
          "Heavyweight",
          "Heavyweight",
          "Heavyweight",
          "Heavyweight",
          "Heavyweight",
          "Heavyweight",
          "Heavyweight",
          "Heavyweight",
          "Heavyweight",
          "Heavyweight",
          "Heavyweight",
          "Heavyweight",
          "Heavyweight",
          "Heavyweight",
          "Heavyweight",
          "Heavyweight",
          "Heavyweight",
          "Heavyweight",
          "Heavyweight",
          "Heavyweight",
          "Heavyweight",
          "Heavyweight",
          "Heavyweight",
          "Heavyweight",
          "Heavyweight",
          "Heavyweight",
          "Heavyweight",
          "Heavyweight",
          "Heavyweight",
          "Heavyweight",
          "Heavyweight",
          "Heavyweight",
          "Heavyweight",
          "Heavyweight",
          "Heavyweight",
          "Heavyweight",
          "Heavyweight",
          "Heavyweight",
          "Heavyweight",
          "Heavyweight",
          "Heavyweight",
          "Heavyweight",
          "Heavyweight",
          "Heavyweight",
          "Heavyweight",
          "Heavyweight",
          "Heavyweight",
          "Heavyweight",
          "Heavyweight",
          "Heavyweight",
          "Heavyweight",
          "Heavyweight",
          "Heavyweight",
          "Heavyweight",
          "Heavyweight",
          "Heavyweight",
          "Heavyweight",
          "Heavyweight",
          "Heavyweight",
          "Heavyweight",
          "Heavyweight",
          "Heavyweight",
          "Heavyweight",
          "Heavyweight",
          "Heavyweight",
          "Heavyweight",
          "Heavyweight",
          "Heavyweight",
          "Heavyweight",
          "Heavyweight",
          "Heavyweight",
          "Heavyweight",
          "Heavyweight",
          "Heavyweight",
          "Heavyweight",
          "Heavyweight",
          "Heavyweight",
          "Heavyweight",
          "Heavyweight",
          "Heavyweight",
          "Heavyweight",
          "Heavyweight",
          "Heavyweight",
          "Heavyweight",
          "Heavyweight",
          "Heavyweight",
          "Heavyweight",
          "Heavyweight",
          "Heavyweight",
          "Heavyweight",
          "Heavyweight",
          "Heavyweight",
          "Heavyweight",
          "Heavyweight",
          "Heavyweight",
          "Heavyweight",
          "Heavyweight",
          "Heavyweight",
          "Heavyweight",
          "Heavyweight",
          "Heavyweight",
          "Heavyweight",
          "Heavyweight",
          "Heavyweight",
          "Heavyweight",
          "Heavyweight",
          "Heavyweight",
          "Heavyweight",
          "Heavyweight",
          "Heavyweight",
          "Heavyweight",
          "Heavyweight",
          "Heavyweight",
          "Heavyweight",
          "Heavyweight",
          "Heavyweight",
          "Heavyweight",
          "Heavyweight",
          "Heavyweight",
          "Heavyweight",
          "Heavyweight",
          "Heavyweight",
          "Heavyweight",
          "Heavyweight",
          "Heavyweight",
          "Heavyweight",
          "Heavyweight",
          "Heavyweight",
          "Heavyweight",
          "Heavyweight",
          "Heavyweight",
          "Heavyweight",
          "Heavyweight",
          "Heavyweight",
          "Heavyweight",
          "Heavyweight",
          "Heavyweight",
          "Heavyweight",
          "Heavyweight",
          "Heavyweight",
          "Heavyweight",
          "Heavyweight",
          "Heavyweight",
          "Heavyweight",
          "Heavyweight",
          "Heavyweight",
          "Heavyweight",
          "Heavyweight",
          "Heavyweight",
          "Heavyweight",
          "Heavyweight",
          "Heavyweight",
          "Heavyweight",
          "Heavyweight",
          "Heavyweight",
          "Heavyweight",
          "Heavyweight",
          "Heavyweight",
          "Heavyweight",
          "Heavyweight",
          "Heavyweight",
          "Heavyweight",
          "Heavyweight",
          "Heavyweight",
          "Heavyweight",
          "Heavyweight",
          "Heavyweight",
          "Heavyweight",
          "Heavyweight",
          "Heavyweight",
          "Heavyweight",
          "Heavyweight",
          "Heavyweight",
          "Heavyweight",
          "Heavyweight",
          "Heavyweight",
          "Heavyweight",
          "Heavyweight",
          "Heavyweight",
          "Heavyweight",
          "Heavyweight",
          "Heavyweight",
          "Heavyweight",
          "Heavyweight",
          "Heavyweight",
          "Heavyweight",
          "Heavyweight",
          "Heavyweight",
          "Heavyweight",
          "Heavyweight",
          "Heavyweight",
          "Heavyweight",
          "Heavyweight",
          "Heavyweight",
          "Heavyweight",
          "Heavyweight",
          "Heavyweight",
          "Heavyweight",
          "Heavyweight",
          "Heavyweight",
          "Heavyweight",
          "Heavyweight",
          "Heavyweight",
          "Heavyweight",
          "Heavyweight",
          "Heavyweight",
          "Heavyweight",
          "Heavyweight",
          "Heavyweight",
          "Heavyweight",
          "Heavyweight",
          "Heavyweight",
          "Heavyweight",
          "Heavyweight",
          "Heavyweight",
          "Heavyweight",
          "Heavyweight",
          "Heavyweight",
          "Heavyweight",
          "Heavyweight",
          "Heavyweight",
          "Heavyweight",
          "Heavyweight",
          "Heavyweight",
          "Heavyweight",
          "Heavyweight",
          "Heavyweight",
          "Heavyweight",
          "Heavyweight",
          "Heavyweight",
          "Heavyweight",
          "Heavyweight",
          "Heavyweight",
          "Heavyweight",
          "Heavyweight",
          "Heavyweight",
          "Heavyweight",
          "Heavyweight",
          "Heavyweight",
          "Heavyweight",
          "Heavyweight",
          "Heavyweight",
          "Heavyweight"
         ],
         "x0": " ",
         "xaxis": "x",
         "y": [
          10,
          11,
          109,
          8,
          15,
          17,
          13,
          25,
          25,
          36,
          12,
          8,
          45,
          12,
          23,
          54,
          110,
          12,
          33,
          15,
          4,
          137,
          42,
          21,
          34,
          30,
          21,
          14,
          24,
          14,
          5,
          25,
          34,
          14,
          38,
          56,
          38,
          16,
          98,
          11,
          33,
          16,
          4,
          10,
          36,
          14,
          7,
          34,
          51,
          54,
          51,
          59,
          46,
          45,
          27,
          16,
          13,
          92,
          42,
          37,
          35,
          10,
          43,
          15,
          68,
          51,
          6,
          19,
          10,
          28,
          89,
          58,
          5,
          20,
          4,
          15,
          25,
          123,
          4,
          36,
          9,
          37,
          4,
          17,
          14,
          29,
          17,
          36,
          29,
          6,
          19,
          86,
          26,
          13,
          22,
          39,
          111,
          25,
          37,
          40,
          29,
          48,
          30,
          38,
          6,
          22,
          6,
          22,
          39,
          5,
          135,
          21,
          21,
          59,
          26,
          103,
          55,
          50,
          39,
          15,
          8,
          32,
          19,
          39,
          52,
          36,
          34,
          15,
          9,
          8,
          50,
          58,
          20,
          23,
          13,
          31,
          17,
          36,
          27,
          8,
          14,
          51,
          11,
          32,
          25,
          12,
          41,
          16,
          15,
          16,
          23,
          51,
          113,
          21,
          22,
          22,
          53,
          10,
          12,
          17,
          12,
          25,
          8,
          13,
          21,
          24,
          32,
          13,
          17,
          7,
          60,
          32,
          6,
          8,
          7,
          5,
          22,
          19,
          24,
          11,
          12,
          12,
          123,
          8,
          49,
          26,
          56,
          29,
          14,
          3,
          10,
          18,
          74,
          2,
          9,
          7,
          47,
          21,
          42,
          20,
          23,
          11,
          15,
          57,
          31,
          59,
          28,
          2,
          32,
          39,
          8,
          64,
          10,
          47,
          8,
          65,
          12,
          19,
          8,
          32,
          15,
          10,
          37,
          55,
          88,
          17,
          14,
          40,
          14,
          16,
          11,
          31,
          18,
          25,
          11,
          10,
          19,
          14,
          44,
          9,
          49,
          20,
          53,
          25,
          23,
          29,
          22,
          14,
          8,
          14,
          58,
          62,
          29,
          70,
          22,
          4,
          47,
          16,
          53,
          4,
          12,
          88,
          37,
          34,
          46,
          6,
          31,
          12,
          7,
          13,
          23,
          24,
          15,
          48,
          5,
          36,
          14,
          46,
          5,
          52,
          63,
          41,
          19,
          20,
          7,
          15,
          10,
          10,
          17,
          25,
          18,
          24,
          16,
          13,
          30,
          7,
          31,
          49,
          23,
          41,
          2,
          27,
          28,
          31,
          33,
          22,
          10,
          4,
          12,
          51,
          13,
          10,
          28,
          13,
          9,
          10,
          40,
          22,
          12,
          9,
          14,
          24,
          39,
          138,
          17,
          34,
          19,
          44,
          27,
          42,
          41,
          26,
          17,
          30,
          15,
          31,
          28,
          2,
          16,
          9,
          14,
          3,
          4,
          11,
          10,
          9,
          6,
          8,
          9,
          31,
          24,
          22,
          11,
          6,
          0,
          1,
          1,
          2,
          0,
          0,
          1,
          3
         ],
         "y0": " ",
         "yaxis": "y"
        },
        {
         "alignmentgroup": "True",
         "hovertemplate": "Weight_Class=%{x}<br>Total_Strikes_Landed=%{y}<extra></extra>",
         "legendgroup": "",
         "marker": {
          "color": "rgb(255, 109, 109)"
         },
         "name": "",
         "notched": false,
         "offsetgroup": "",
         "orientation": "v",
         "showlegend": false,
         "type": "box",
         "width": 0.5,
         "x": [
          "Welterweight",
          "Welterweight",
          "Welterweight",
          "Welterweight",
          "Welterweight",
          "Welterweight",
          "Welterweight",
          "Welterweight",
          "Welterweight",
          "Welterweight",
          "Welterweight",
          "Welterweight",
          "Welterweight",
          "Welterweight",
          "Welterweight",
          "Welterweight",
          "Welterweight",
          "Welterweight",
          "Welterweight",
          "Welterweight",
          "Welterweight",
          "Welterweight",
          "Welterweight",
          "Welterweight",
          "Welterweight",
          "Welterweight",
          "Welterweight",
          "Welterweight",
          "Welterweight",
          "Welterweight",
          "Welterweight",
          "Welterweight",
          "Welterweight",
          "Welterweight",
          "Welterweight",
          "Welterweight",
          "Welterweight",
          "Welterweight",
          "Welterweight",
          "Welterweight",
          "Welterweight",
          "Welterweight",
          "Welterweight",
          "Welterweight",
          "Welterweight",
          "Welterweight",
          "Welterweight",
          "Welterweight",
          "Welterweight",
          "Welterweight",
          "Welterweight",
          "Welterweight",
          "Welterweight",
          "Welterweight",
          "Welterweight",
          "Welterweight",
          "Welterweight",
          "Welterweight",
          "Welterweight",
          "Welterweight",
          "Welterweight",
          "Welterweight",
          "Welterweight",
          "Welterweight",
          "Welterweight",
          "Welterweight",
          "Welterweight",
          "Welterweight",
          "Welterweight",
          "Welterweight",
          "Welterweight",
          "Welterweight",
          "Welterweight",
          "Welterweight",
          "Welterweight",
          "Welterweight",
          "Welterweight",
          "Welterweight",
          "Welterweight",
          "Welterweight",
          "Welterweight",
          "Welterweight",
          "Welterweight",
          "Welterweight",
          "Welterweight",
          "Welterweight",
          "Welterweight",
          "Welterweight",
          "Welterweight",
          "Welterweight",
          "Welterweight",
          "Welterweight",
          "Welterweight",
          "Welterweight",
          "Welterweight",
          "Welterweight",
          "Welterweight",
          "Welterweight",
          "Welterweight",
          "Welterweight",
          "Welterweight",
          "Welterweight",
          "Welterweight",
          "Welterweight",
          "Welterweight",
          "Welterweight",
          "Welterweight",
          "Welterweight",
          "Welterweight",
          "Welterweight",
          "Welterweight",
          "Welterweight",
          "Welterweight",
          "Welterweight",
          "Welterweight",
          "Welterweight",
          "Welterweight",
          "Welterweight",
          "Welterweight",
          "Welterweight",
          "Welterweight",
          "Welterweight",
          "Welterweight",
          "Welterweight",
          "Welterweight",
          "Welterweight",
          "Welterweight",
          "Welterweight",
          "Welterweight",
          "Welterweight",
          "Welterweight",
          "Welterweight",
          "Welterweight",
          "Welterweight",
          "Welterweight",
          "Welterweight",
          "Welterweight",
          "Welterweight",
          "Welterweight",
          "Welterweight",
          "Welterweight",
          "Welterweight",
          "Welterweight",
          "Welterweight",
          "Welterweight",
          "Welterweight",
          "Welterweight",
          "Welterweight",
          "Welterweight",
          "Welterweight",
          "Welterweight",
          "Welterweight",
          "Welterweight",
          "Welterweight",
          "Welterweight",
          "Welterweight",
          "Welterweight",
          "Welterweight",
          "Welterweight",
          "Welterweight",
          "Welterweight",
          "Welterweight",
          "Welterweight",
          "Welterweight",
          "Welterweight",
          "Welterweight",
          "Welterweight",
          "Welterweight",
          "Welterweight",
          "Welterweight",
          "Welterweight",
          "Welterweight",
          "Welterweight",
          "Welterweight",
          "Welterweight",
          "Welterweight",
          "Welterweight",
          "Welterweight",
          "Welterweight",
          "Welterweight",
          "Welterweight",
          "Welterweight",
          "Welterweight",
          "Welterweight",
          "Welterweight",
          "Welterweight",
          "Welterweight",
          "Welterweight",
          "Welterweight",
          "Welterweight",
          "Welterweight",
          "Welterweight",
          "Welterweight",
          "Welterweight",
          "Welterweight",
          "Welterweight",
          "Welterweight",
          "Welterweight",
          "Welterweight",
          "Welterweight",
          "Welterweight",
          "Welterweight",
          "Welterweight",
          "Welterweight",
          "Welterweight",
          "Welterweight",
          "Welterweight",
          "Welterweight",
          "Welterweight",
          "Welterweight",
          "Welterweight",
          "Welterweight",
          "Welterweight",
          "Welterweight",
          "Welterweight",
          "Welterweight",
          "Welterweight",
          "Welterweight",
          "Welterweight",
          "Welterweight",
          "Welterweight",
          "Welterweight",
          "Welterweight",
          "Welterweight",
          "Welterweight",
          "Welterweight",
          "Welterweight",
          "Welterweight",
          "Welterweight",
          "Welterweight",
          "Welterweight",
          "Welterweight",
          "Welterweight",
          "Welterweight",
          "Welterweight",
          "Welterweight",
          "Welterweight",
          "Welterweight",
          "Welterweight",
          "Welterweight",
          "Welterweight",
          "Welterweight",
          "Welterweight",
          "Welterweight",
          "Welterweight",
          "Welterweight",
          "Welterweight",
          "Welterweight",
          "Welterweight",
          "Welterweight",
          "Welterweight",
          "Welterweight",
          "Welterweight",
          "Welterweight",
          "Welterweight",
          "Welterweight",
          "Welterweight",
          "Welterweight",
          "Welterweight",
          "Welterweight",
          "Welterweight",
          "Welterweight",
          "Welterweight",
          "Welterweight",
          "Welterweight",
          "Welterweight",
          "Welterweight",
          "Welterweight",
          "Welterweight",
          "Welterweight",
          "Welterweight",
          "Welterweight",
          "Welterweight",
          "Welterweight",
          "Welterweight",
          "Welterweight",
          "Welterweight",
          "Welterweight",
          "Welterweight",
          "Welterweight",
          "Welterweight",
          "Welterweight",
          "Welterweight",
          "Welterweight",
          "Welterweight",
          "Welterweight",
          "Welterweight",
          "Welterweight",
          "Welterweight",
          "Welterweight",
          "Welterweight",
          "Welterweight",
          "Welterweight",
          "Welterweight",
          "Welterweight",
          "Welterweight",
          "Welterweight",
          "Welterweight",
          "Welterweight",
          "Welterweight",
          "Welterweight",
          "Welterweight",
          "Welterweight",
          "Welterweight",
          "Welterweight",
          "Welterweight",
          "Welterweight",
          "Welterweight",
          "Welterweight",
          "Welterweight",
          "Welterweight",
          "Welterweight",
          "Welterweight",
          "Welterweight",
          "Welterweight",
          "Welterweight",
          "Welterweight",
          "Welterweight",
          "Welterweight",
          "Welterweight",
          "Welterweight",
          "Welterweight",
          "Welterweight",
          "Welterweight",
          "Welterweight",
          "Welterweight",
          "Welterweight",
          "Welterweight",
          "Welterweight",
          "Welterweight",
          "Welterweight",
          "Welterweight",
          "Welterweight",
          "Welterweight",
          "Welterweight",
          "Welterweight",
          "Welterweight",
          "Welterweight",
          "Welterweight",
          "Welterweight",
          "Welterweight",
          "Welterweight",
          "Welterweight",
          "Welterweight",
          "Welterweight",
          "Welterweight",
          "Welterweight",
          "Welterweight",
          "Welterweight",
          "Welterweight",
          "Welterweight",
          "Welterweight",
          "Welterweight",
          "Welterweight",
          "Welterweight",
          "Welterweight",
          "Welterweight",
          "Welterweight",
          "Welterweight",
          "Welterweight",
          "Welterweight",
          "Welterweight",
          "Welterweight",
          "Welterweight",
          "Welterweight",
          "Welterweight",
          "Welterweight",
          "Welterweight",
          "Welterweight",
          "Welterweight",
          "Welterweight",
          "Welterweight",
          "Welterweight",
          "Welterweight",
          "Welterweight",
          "Welterweight",
          "Welterweight",
          "Welterweight",
          "Welterweight",
          "Welterweight",
          "Welterweight",
          "Welterweight",
          "Welterweight",
          "Welterweight",
          "Welterweight",
          "Welterweight",
          "Welterweight",
          "Welterweight",
          "Welterweight",
          "Welterweight",
          "Welterweight",
          "Welterweight",
          "Welterweight",
          "Welterweight",
          "Welterweight",
          "Welterweight",
          "Welterweight",
          "Welterweight",
          "Welterweight",
          "Welterweight",
          "Welterweight",
          "Welterweight"
         ],
         "x0": " ",
         "xaxis": "x",
         "y": [
          53,
          104,
          40,
          69,
          63,
          8,
          26,
          51,
          23,
          11,
          3,
          66,
          127,
          21,
          163,
          63,
          56,
          33,
          80,
          22,
          55,
          121,
          7,
          83,
          38,
          147,
          7,
          47,
          18,
          17,
          48,
          49,
          32,
          28,
          50,
          13,
          8,
          26,
          43,
          49,
          18,
          3,
          24,
          14,
          46,
          45,
          21,
          27,
          35,
          21,
          17,
          3,
          83,
          17,
          21,
          125,
          5,
          74,
          78,
          15,
          64,
          40,
          18,
          10,
          37,
          130,
          13,
          17,
          10,
          19,
          175,
          15,
          30,
          102,
          37,
          112,
          68,
          11,
          35,
          10,
          59,
          41,
          3,
          89,
          18,
          6,
          72,
          28,
          32,
          35,
          32,
          25,
          56,
          20,
          163,
          5,
          19,
          89,
          79,
          14,
          65,
          41,
          36,
          7,
          15,
          15,
          59,
          19,
          59,
          24,
          12,
          32,
          10,
          18,
          14,
          15,
          29,
          33,
          25,
          42,
          4,
          22,
          78,
          28,
          47,
          13,
          20,
          5,
          75,
          27,
          26,
          14,
          18,
          24,
          11,
          16,
          10,
          8,
          7,
          24,
          10,
          76,
          33,
          46,
          53,
          26,
          28,
          58,
          37,
          14,
          63,
          42,
          44,
          12,
          9,
          15,
          90,
          11,
          66,
          45,
          31,
          71,
          32,
          26,
          8,
          21,
          6,
          16,
          73,
          38,
          72,
          148,
          32,
          26,
          84,
          24,
          75,
          15,
          42,
          33,
          37,
          21,
          48,
          6,
          36,
          4,
          23,
          11,
          23,
          19,
          23,
          60,
          55,
          20,
          12,
          70,
          64,
          10,
          15,
          75,
          25,
          26,
          43,
          13,
          3,
          12,
          23,
          13,
          23,
          14,
          29,
          30,
          25,
          65,
          47,
          4,
          10,
          10,
          43,
          10,
          13,
          34,
          11,
          25,
          15,
          30,
          68,
          118,
          6,
          7,
          14,
          27,
          13,
          56,
          38,
          18,
          9,
          22,
          12,
          10,
          15,
          11,
          23,
          26,
          100,
          17,
          10,
          12,
          28,
          24,
          17,
          53,
          40,
          13,
          29,
          20,
          62,
          9,
          15,
          9,
          16,
          25,
          3,
          10,
          8,
          15,
          7,
          19,
          1,
          52,
          18,
          13,
          18,
          47,
          3,
          48,
          22,
          11,
          2,
          33,
          6,
          11,
          16,
          93,
          26,
          9,
          4,
          19,
          24,
          8,
          21,
          9,
          62,
          7,
          19,
          7,
          10,
          26,
          17,
          75,
          28,
          38,
          42,
          72,
          11,
          70,
          34,
          34,
          6,
          12,
          8,
          15,
          28,
          14,
          22,
          28,
          45,
          46,
          10,
          27,
          9,
          7,
          37,
          10,
          24,
          12,
          5,
          7,
          21,
          92,
          18,
          33,
          35,
          6,
          42,
          37,
          6,
          53,
          51,
          32,
          10,
          77,
          42,
          31,
          17,
          21,
          15,
          24,
          24,
          12,
          5,
          24,
          29,
          30,
          39,
          6,
          48,
          38,
          9,
          3,
          78,
          20,
          38,
          26,
          6,
          23,
          45,
          24,
          35,
          23,
          51,
          18,
          11,
          1,
          25,
          58,
          8,
          4,
          19,
          15,
          14,
          35,
          38,
          25,
          6,
          13,
          33,
          20,
          24,
          22,
          22,
          5,
          6,
          58,
          28,
          36,
          8,
          8,
          10,
          18,
          8,
          18
         ],
         "y0": " ",
         "yaxis": "y"
        },
        {
         "alignmentgroup": "True",
         "hovertemplate": "Weight_Class=%{x}<br>Total_Strikes_Landed=%{y}<extra></extra>",
         "legendgroup": "",
         "marker": {
          "color": "rgb(255, 18, 18)"
         },
         "name": "",
         "notched": false,
         "offsetgroup": "",
         "orientation": "v",
         "showlegend": false,
         "type": "box",
         "width": 0.5,
         "x": [
          "Catch Weight",
          "Catch Weight",
          "Catch Weight",
          "Catch Weight",
          "Catch Weight",
          "Catch Weight",
          "Catch Weight",
          "Catch Weight",
          "Catch Weight",
          "Catch Weight",
          "Catch Weight",
          "Catch Weight",
          "Catch Weight",
          "Catch Weight",
          "Catch Weight",
          "Catch Weight",
          "Catch Weight",
          "Catch Weight",
          "Catch Weight"
         ],
         "x0": " ",
         "xaxis": "x",
         "y": [
          16,
          66,
          69,
          38,
          37,
          3,
          14,
          34,
          94,
          67,
          84,
          26,
          75,
          11,
          47,
          124,
          21,
          9,
          32
         ],
         "y0": " ",
         "yaxis": "y"
        },
        {
         "alignmentgroup": "True",
         "hovertemplate": "Weight_Class=%{x}<br>Total_Strikes_Landed=%{y}<extra></extra>",
         "legendgroup": "",
         "marker": {
          "color": "rgb(255, 182, 182)"
         },
         "name": "",
         "notched": false,
         "offsetgroup": "",
         "orientation": "v",
         "showlegend": false,
         "type": "box",
         "width": 0.5,
         "x": [
          "Bantamweight",
          "Bantamweight",
          "Bantamweight",
          "Bantamweight",
          "Bantamweight",
          "Bantamweight",
          "Bantamweight",
          "Bantamweight",
          "Bantamweight",
          "Bantamweight",
          "Bantamweight",
          "Bantamweight",
          "Bantamweight",
          "Bantamweight",
          "Bantamweight",
          "Bantamweight",
          "Bantamweight",
          "Bantamweight",
          "Bantamweight",
          "Bantamweight",
          "Bantamweight",
          "Bantamweight",
          "Bantamweight",
          "Bantamweight",
          "Bantamweight",
          "Bantamweight",
          "Bantamweight",
          "Bantamweight",
          "Bantamweight",
          "Bantamweight",
          "Bantamweight",
          "Bantamweight",
          "Bantamweight",
          "Bantamweight",
          "Bantamweight",
          "Bantamweight",
          "Bantamweight",
          "Bantamweight",
          "Bantamweight",
          "Bantamweight",
          "Bantamweight",
          "Bantamweight",
          "Bantamweight",
          "Bantamweight",
          "Bantamweight",
          "Bantamweight",
          "Bantamweight",
          "Bantamweight",
          "Bantamweight",
          "Bantamweight",
          "Bantamweight",
          "Bantamweight",
          "Bantamweight",
          "Bantamweight",
          "Bantamweight",
          "Bantamweight",
          "Bantamweight",
          "Bantamweight",
          "Bantamweight",
          "Bantamweight",
          "Bantamweight",
          "Bantamweight",
          "Bantamweight",
          "Bantamweight",
          "Bantamweight",
          "Bantamweight",
          "Bantamweight",
          "Bantamweight",
          "Bantamweight",
          "Bantamweight",
          "Bantamweight",
          "Bantamweight",
          "Bantamweight",
          "Bantamweight",
          "Bantamweight",
          "Bantamweight",
          "Bantamweight",
          "Bantamweight",
          "Bantamweight",
          "Bantamweight",
          "Bantamweight",
          "Bantamweight",
          "Bantamweight",
          "Bantamweight",
          "Bantamweight",
          "Bantamweight",
          "Bantamweight",
          "Bantamweight",
          "Bantamweight",
          "Bantamweight",
          "Bantamweight",
          "Bantamweight",
          "Bantamweight",
          "Bantamweight",
          "Bantamweight",
          "Bantamweight",
          "Bantamweight",
          "Bantamweight",
          "Bantamweight",
          "Bantamweight",
          "Bantamweight",
          "Bantamweight",
          "Bantamweight",
          "Bantamweight",
          "Bantamweight",
          "Bantamweight",
          "Bantamweight",
          "Bantamweight",
          "Bantamweight",
          "Bantamweight",
          "Bantamweight",
          "Bantamweight",
          "Bantamweight",
          "Bantamweight",
          "Bantamweight",
          "Bantamweight",
          "Bantamweight",
          "Bantamweight",
          "Bantamweight",
          "Bantamweight",
          "Bantamweight",
          "Bantamweight",
          "Bantamweight",
          "Bantamweight",
          "Bantamweight",
          "Bantamweight",
          "Bantamweight",
          "Bantamweight",
          "Bantamweight",
          "Bantamweight",
          "Bantamweight",
          "Bantamweight",
          "Bantamweight",
          "Bantamweight",
          "Bantamweight",
          "Bantamweight",
          "Bantamweight",
          "Bantamweight",
          "Bantamweight",
          "Bantamweight",
          "Bantamweight",
          "Bantamweight",
          "Bantamweight",
          "Bantamweight",
          "Bantamweight",
          "Bantamweight",
          "Bantamweight",
          "Bantamweight",
          "Bantamweight",
          "Bantamweight",
          "Bantamweight",
          "Bantamweight",
          "Bantamweight",
          "Bantamweight",
          "Bantamweight",
          "Bantamweight",
          "Bantamweight",
          "Bantamweight",
          "Bantamweight",
          "Bantamweight",
          "Bantamweight",
          "Bantamweight",
          "Bantamweight",
          "Bantamweight",
          "Bantamweight",
          "Bantamweight",
          "Bantamweight",
          "Bantamweight",
          "Bantamweight",
          "Bantamweight",
          "Bantamweight",
          "Bantamweight",
          "Bantamweight",
          "Bantamweight",
          "Bantamweight",
          "Bantamweight",
          "Bantamweight"
         ],
         "x0": " ",
         "xaxis": "x",
         "y": [
          36,
          18,
          45,
          25,
          7,
          18,
          5,
          66,
          105,
          9,
          45,
          33,
          11,
          53,
          36,
          53,
          10,
          72,
          62,
          94,
          19,
          61,
          35,
          27,
          5,
          81,
          37,
          9,
          41,
          14,
          28,
          67,
          18,
          39,
          82,
          27,
          30,
          88,
          22,
          10,
          69,
          31,
          80,
          64,
          42,
          230,
          7,
          39,
          86,
          41,
          15,
          48,
          23,
          77,
          42,
          9,
          2,
          30,
          59,
          17,
          48,
          18,
          38,
          32,
          4,
          36,
          18,
          79,
          194,
          74,
          2,
          19,
          13,
          53,
          18,
          17,
          39,
          18,
          54,
          22,
          80,
          59,
          11,
          32,
          8,
          90,
          74,
          59,
          5,
          12,
          25,
          39,
          17,
          76,
          35,
          66,
          45,
          45,
          25,
          39,
          7,
          102,
          44,
          17,
          41,
          7,
          20,
          46,
          20,
          42,
          79,
          17,
          43,
          36,
          9,
          26,
          41,
          26,
          72,
          12,
          42,
          26,
          21,
          16,
          48,
          52,
          39,
          24,
          117,
          15,
          24,
          31,
          16,
          5,
          46,
          31,
          49,
          5,
          26,
          151,
          62,
          12,
          3,
          24,
          5,
          140,
          11,
          19,
          17,
          54,
          27,
          30,
          28,
          44,
          19,
          21,
          30,
          51,
          40,
          34,
          22,
          14,
          9,
          39,
          61,
          16,
          11,
          7,
          82,
          21,
          12,
          31,
          9,
          70,
          23,
          15,
          8
         ],
         "y0": " ",
         "yaxis": "y"
        },
        {
         "alignmentgroup": "True",
         "hovertemplate": "Weight_Class=%{x}<br>Total_Strikes_Landed=%{y}<extra></extra>",
         "legendgroup": "",
         "marker": {
          "color": "rgb(255, 219, 219)"
         },
         "name": "",
         "notched": false,
         "offsetgroup": "",
         "orientation": "v",
         "showlegend": false,
         "type": "box",
         "width": 0.5,
         "x": [
          "Flyweight",
          "Flyweight",
          "Flyweight",
          "Flyweight",
          "Flyweight",
          "Flyweight",
          "Flyweight",
          "Flyweight",
          "Flyweight",
          "Flyweight",
          "Flyweight",
          "Flyweight",
          "Flyweight",
          "Flyweight",
          "Flyweight",
          "Flyweight",
          "Flyweight",
          "Flyweight",
          "Flyweight",
          "Flyweight",
          "Flyweight",
          "Flyweight",
          "Flyweight",
          "Flyweight",
          "Flyweight",
          "Flyweight",
          "Flyweight",
          "Flyweight",
          "Flyweight",
          "Flyweight",
          "Flyweight",
          "Flyweight",
          "Flyweight",
          "Flyweight",
          "Flyweight",
          "Flyweight",
          "Flyweight",
          "Flyweight",
          "Flyweight",
          "Flyweight",
          "Flyweight",
          "Flyweight",
          "Flyweight",
          "Flyweight",
          "Flyweight",
          "Flyweight",
          "Flyweight",
          "Flyweight",
          "Flyweight",
          "Flyweight",
          "Flyweight",
          "Flyweight",
          "Flyweight",
          "Flyweight",
          "Flyweight",
          "Flyweight",
          "Flyweight",
          "Flyweight",
          "Flyweight",
          "Flyweight",
          "Flyweight",
          "Flyweight",
          "Flyweight",
          "Flyweight",
          "Flyweight",
          "Flyweight",
          "Flyweight",
          "Flyweight",
          "Flyweight",
          "Flyweight",
          "Flyweight",
          "Flyweight",
          "Flyweight"
         ],
         "x0": " ",
         "xaxis": "x",
         "y": [
          29,
          2,
          65,
          13,
          83,
          10,
          14,
          48,
          34,
          37,
          32,
          58,
          13,
          58,
          23,
          7,
          3,
          23,
          53,
          47,
          19,
          6,
          37,
          13,
          9,
          16,
          29,
          25,
          54,
          34,
          8,
          50,
          23,
          18,
          35,
          29,
          84,
          8,
          22,
          31,
          45,
          8,
          34,
          8,
          17,
          32,
          82,
          21,
          40,
          3,
          92,
          19,
          27,
          20,
          28,
          67,
          31,
          133,
          27,
          7,
          27,
          55,
          31,
          28,
          54,
          20,
          38,
          22,
          36,
          57,
          33,
          34,
          18
         ],
         "y0": " ",
         "yaxis": "y"
        },
        {
         "alignmentgroup": "True",
         "hovertemplate": "Weight_Class=%{x}<br>Total_Strikes_Landed=%{y}<extra></extra>",
         "legendgroup": "",
         "marker": {
          "color": "rgb(255, 237, 237)"
         },
         "name": "",
         "notched": false,
         "offsetgroup": "",
         "orientation": "v",
         "showlegend": false,
         "type": "box",
         "width": 0.5,
         "x": [
          "Women's Flyweight",
          "Women's Flyweight",
          "Women's Flyweight",
          "Women's Flyweight",
          "Women's Flyweight",
          "Women's Flyweight",
          "Women's Flyweight",
          "Women's Flyweight",
          "Women's Flyweight",
          "Women's Flyweight",
          "Women's Flyweight",
          "Women's Flyweight",
          "Women's Flyweight",
          "Women's Flyweight",
          "Women's Flyweight",
          "Women's Flyweight",
          "Women's Flyweight",
          "Women's Flyweight",
          "Women's Flyweight",
          "Women's Flyweight",
          "Women's Flyweight",
          "Women's Flyweight",
          "Women's Flyweight",
          "Women's Flyweight",
          "Women's Flyweight",
          "Women's Flyweight",
          "Women's Flyweight",
          "Women's Flyweight",
          "Women's Flyweight",
          "Women's Flyweight",
          "Women's Flyweight",
          "Women's Flyweight",
          "Women's Flyweight",
          "Women's Flyweight",
          "Women's Flyweight",
          "Women's Flyweight",
          "Women's Flyweight",
          "Women's Flyweight"
         ],
         "x0": " ",
         "xaxis": "x",
         "y": [
          47,
          63,
          81,
          20,
          45,
          54,
          24,
          49,
          85,
          17,
          84,
          52,
          98,
          48,
          70,
          22,
          29,
          84,
          36,
          32,
          49,
          53,
          72,
          39,
          49,
          28,
          24,
          8,
          40,
          34,
          80,
          24,
          29,
          8,
          55,
          51,
          34,
          115
         ],
         "y0": " ",
         "yaxis": "y"
        },
        {
         "alignmentgroup": "True",
         "hovertemplate": "Weight_Class=%{x}<br>Total_Strikes_Landed=%{y}<extra></extra>",
         "legendgroup": "",
         "marker": {
          "color": "rgb(255, 200, 200)"
         },
         "name": "",
         "notched": false,
         "offsetgroup": "",
         "orientation": "v",
         "showlegend": false,
         "type": "box",
         "width": 0.5,
         "x": [
          "Women's Bantamweight",
          "Women's Bantamweight",
          "Women's Bantamweight",
          "Women's Bantamweight",
          "Women's Bantamweight",
          "Women's Bantamweight",
          "Women's Bantamweight",
          "Women's Bantamweight",
          "Women's Bantamweight",
          "Women's Bantamweight",
          "Women's Bantamweight",
          "Women's Bantamweight",
          "Women's Bantamweight",
          "Women's Bantamweight",
          "Women's Bantamweight",
          "Women's Bantamweight",
          "Women's Bantamweight",
          "Women's Bantamweight",
          "Women's Bantamweight",
          "Women's Bantamweight",
          "Women's Bantamweight",
          "Women's Bantamweight",
          "Women's Bantamweight",
          "Women's Bantamweight",
          "Women's Bantamweight",
          "Women's Bantamweight",
          "Women's Bantamweight",
          "Women's Bantamweight",
          "Women's Bantamweight",
          "Women's Bantamweight",
          "Women's Bantamweight",
          "Women's Bantamweight",
          "Women's Bantamweight",
          "Women's Bantamweight",
          "Women's Bantamweight",
          "Women's Bantamweight",
          "Women's Bantamweight",
          "Women's Bantamweight",
          "Women's Bantamweight",
          "Women's Bantamweight",
          "Women's Bantamweight",
          "Women's Bantamweight",
          "Women's Bantamweight",
          "Women's Bantamweight",
          "Women's Bantamweight"
         ],
         "x0": " ",
         "xaxis": "x",
         "y": [
          17,
          39,
          20,
          29,
          52,
          65,
          37,
          76,
          11,
          26,
          47,
          44,
          4,
          17,
          61,
          43,
          25,
          50,
          124,
          26,
          57,
          101,
          25,
          27,
          48,
          73,
          18,
          95,
          38,
          19,
          37,
          15,
          29,
          80,
          40,
          68,
          36,
          14,
          14,
          33,
          14,
          10,
          50,
          8,
          35
         ],
         "y0": " ",
         "yaxis": "y"
        },
        {
         "alignmentgroup": "True",
         "hovertemplate": "Weight_Class=%{x}<br>Total_Strikes_Landed=%{y}<extra></extra>",
         "legendgroup": "",
         "marker": {
          "color": "rgb(255, 164, 164)"
         },
         "name": "",
         "notched": false,
         "offsetgroup": "",
         "orientation": "v",
         "showlegend": false,
         "type": "box",
         "width": 0.5,
         "x": [
          "Women's Featherweight",
          "Women's Featherweight",
          "Women's Featherweight",
          "Women's Featherweight",
          "Women's Featherweight",
          "Women's Featherweight",
          "Women's Featherweight"
         ],
         "x0": " ",
         "xaxis": "x",
         "y": [
          56,
          40,
          7,
          13,
          3,
          33,
          74
         ],
         "y0": " ",
         "yaxis": "y"
        },
        {
         "alignmentgroup": "True",
         "hovertemplate": "Weight_Class=%{x}<br>Total_Strikes_Landed=%{y}<extra></extra>",
         "legendgroup": "",
         "marker": {
          "color": "rgb(255, 36, 36)"
         },
         "name": "",
         "notched": false,
         "offsetgroup": "",
         "orientation": "v",
         "showlegend": false,
         "type": "box",
         "width": 0.5,
         "x": [
          "Super Heavyweight"
         ],
         "x0": " ",
         "xaxis": "x",
         "y": [
          17
         ],
         "y0": " ",
         "yaxis": "y"
        },
        {
         "alignmentgroup": "True",
         "hovertemplate": "Weight_Class=%{x}<br>Total_Strikes_Landed=%{y}<extra></extra>",
         "legendgroup": "",
         "marker": {
          "color": "rgb(255, 0, 0)"
         },
         "name": "",
         "notched": false,
         "offsetgroup": "",
         "orientation": "v",
         "showlegend": false,
         "type": "box",
         "width": 0.5,
         "x": [
          "Open Weight",
          "Open Weight",
          "Open Weight",
          "Open Weight",
          "Open Weight",
          "Open Weight",
          "Open Weight",
          "Open Weight",
          "Open Weight",
          "Open Weight",
          "Open Weight",
          "Open Weight",
          "Open Weight",
          "Open Weight",
          "Open Weight",
          "Open Weight",
          "Open Weight",
          "Open Weight",
          "Open Weight",
          "Open Weight",
          "Open Weight",
          "Open Weight",
          "Open Weight",
          "Open Weight",
          "Open Weight",
          "Open Weight",
          "Open Weight",
          "Open Weight",
          "Open Weight",
          "Open Weight",
          "Open Weight",
          "Open Weight",
          "Open Weight",
          "Open Weight",
          "Open Weight",
          "Open Weight",
          "Open Weight",
          "Open Weight",
          "Open Weight",
          "Open Weight",
          "Open Weight",
          "Open Weight",
          "Open Weight",
          "Open Weight",
          "Open Weight"
         ],
         "x0": " ",
         "xaxis": "x",
         "y": [
          18,
          2,
          21,
          5,
          3,
          0,
          1,
          11,
          5,
          25,
          3,
          2,
          3,
          2,
          1,
          1,
          0,
          1,
          4,
          2,
          1,
          0,
          8,
          1,
          10,
          4,
          0,
          1,
          9,
          0,
          0,
          0,
          2,
          0,
          0,
          9,
          2,
          3,
          1,
          34,
          1,
          7,
          0,
          2,
          4
         ],
         "y0": " ",
         "yaxis": "y"
        }
       ],
       "layout": {
        "boxgap": 0.00001,
        "boxmode": "group",
        "height": 700,
        "legend": {
         "tracegroupgap": 0
        },
        "margin": {
         "t": 60
        },
        "template": {
         "data": {
          "bar": [
           {
            "error_x": {
             "color": "#f2f5fa"
            },
            "error_y": {
             "color": "#f2f5fa"
            },
            "marker": {
             "line": {
              "color": "rgb(17,17,17)",
              "width": 0.5
             },
             "pattern": {
              "fillmode": "overlay",
              "size": 10,
              "solidity": 0.2
             }
            },
            "type": "bar"
           }
          ],
          "barpolar": [
           {
            "marker": {
             "line": {
              "color": "rgb(17,17,17)",
              "width": 0.5
             },
             "pattern": {
              "fillmode": "overlay",
              "size": 10,
              "solidity": 0.2
             }
            },
            "type": "barpolar"
           }
          ],
          "carpet": [
           {
            "aaxis": {
             "endlinecolor": "#A2B1C6",
             "gridcolor": "#506784",
             "linecolor": "#506784",
             "minorgridcolor": "#506784",
             "startlinecolor": "#A2B1C6"
            },
            "baxis": {
             "endlinecolor": "#A2B1C6",
             "gridcolor": "#506784",
             "linecolor": "#506784",
             "minorgridcolor": "#506784",
             "startlinecolor": "#A2B1C6"
            },
            "type": "carpet"
           }
          ],
          "choropleth": [
           {
            "colorbar": {
             "outlinewidth": 0,
             "ticks": ""
            },
            "type": "choropleth"
           }
          ],
          "contour": [
           {
            "colorbar": {
             "outlinewidth": 0,
             "ticks": ""
            },
            "colorscale": [
             [
              0,
              "#0d0887"
             ],
             [
              0.1111111111111111,
              "#46039f"
             ],
             [
              0.2222222222222222,
              "#7201a8"
             ],
             [
              0.3333333333333333,
              "#9c179e"
             ],
             [
              0.4444444444444444,
              "#bd3786"
             ],
             [
              0.5555555555555556,
              "#d8576b"
             ],
             [
              0.6666666666666666,
              "#ed7953"
             ],
             [
              0.7777777777777778,
              "#fb9f3a"
             ],
             [
              0.8888888888888888,
              "#fdca26"
             ],
             [
              1,
              "#f0f921"
             ]
            ],
            "type": "contour"
           }
          ],
          "contourcarpet": [
           {
            "colorbar": {
             "outlinewidth": 0,
             "ticks": ""
            },
            "type": "contourcarpet"
           }
          ],
          "heatmap": [
           {
            "colorbar": {
             "outlinewidth": 0,
             "ticks": ""
            },
            "colorscale": [
             [
              0,
              "#0d0887"
             ],
             [
              0.1111111111111111,
              "#46039f"
             ],
             [
              0.2222222222222222,
              "#7201a8"
             ],
             [
              0.3333333333333333,
              "#9c179e"
             ],
             [
              0.4444444444444444,
              "#bd3786"
             ],
             [
              0.5555555555555556,
              "#d8576b"
             ],
             [
              0.6666666666666666,
              "#ed7953"
             ],
             [
              0.7777777777777778,
              "#fb9f3a"
             ],
             [
              0.8888888888888888,
              "#fdca26"
             ],
             [
              1,
              "#f0f921"
             ]
            ],
            "type": "heatmap"
           }
          ],
          "heatmapgl": [
           {
            "colorbar": {
             "outlinewidth": 0,
             "ticks": ""
            },
            "colorscale": [
             [
              0,
              "#0d0887"
             ],
             [
              0.1111111111111111,
              "#46039f"
             ],
             [
              0.2222222222222222,
              "#7201a8"
             ],
             [
              0.3333333333333333,
              "#9c179e"
             ],
             [
              0.4444444444444444,
              "#bd3786"
             ],
             [
              0.5555555555555556,
              "#d8576b"
             ],
             [
              0.6666666666666666,
              "#ed7953"
             ],
             [
              0.7777777777777778,
              "#fb9f3a"
             ],
             [
              0.8888888888888888,
              "#fdca26"
             ],
             [
              1,
              "#f0f921"
             ]
            ],
            "type": "heatmapgl"
           }
          ],
          "histogram": [
           {
            "marker": {
             "pattern": {
              "fillmode": "overlay",
              "size": 10,
              "solidity": 0.2
             }
            },
            "type": "histogram"
           }
          ],
          "histogram2d": [
           {
            "colorbar": {
             "outlinewidth": 0,
             "ticks": ""
            },
            "colorscale": [
             [
              0,
              "#0d0887"
             ],
             [
              0.1111111111111111,
              "#46039f"
             ],
             [
              0.2222222222222222,
              "#7201a8"
             ],
             [
              0.3333333333333333,
              "#9c179e"
             ],
             [
              0.4444444444444444,
              "#bd3786"
             ],
             [
              0.5555555555555556,
              "#d8576b"
             ],
             [
              0.6666666666666666,
              "#ed7953"
             ],
             [
              0.7777777777777778,
              "#fb9f3a"
             ],
             [
              0.8888888888888888,
              "#fdca26"
             ],
             [
              1,
              "#f0f921"
             ]
            ],
            "type": "histogram2d"
           }
          ],
          "histogram2dcontour": [
           {
            "colorbar": {
             "outlinewidth": 0,
             "ticks": ""
            },
            "colorscale": [
             [
              0,
              "#0d0887"
             ],
             [
              0.1111111111111111,
              "#46039f"
             ],
             [
              0.2222222222222222,
              "#7201a8"
             ],
             [
              0.3333333333333333,
              "#9c179e"
             ],
             [
              0.4444444444444444,
              "#bd3786"
             ],
             [
              0.5555555555555556,
              "#d8576b"
             ],
             [
              0.6666666666666666,
              "#ed7953"
             ],
             [
              0.7777777777777778,
              "#fb9f3a"
             ],
             [
              0.8888888888888888,
              "#fdca26"
             ],
             [
              1,
              "#f0f921"
             ]
            ],
            "type": "histogram2dcontour"
           }
          ],
          "mesh3d": [
           {
            "colorbar": {
             "outlinewidth": 0,
             "ticks": ""
            },
            "type": "mesh3d"
           }
          ],
          "parcoords": [
           {
            "line": {
             "colorbar": {
              "outlinewidth": 0,
              "ticks": ""
             }
            },
            "type": "parcoords"
           }
          ],
          "pie": [
           {
            "automargin": true,
            "type": "pie"
           }
          ],
          "scatter": [
           {
            "marker": {
             "line": {
              "color": "#283442"
             }
            },
            "type": "scatter"
           }
          ],
          "scatter3d": [
           {
            "line": {
             "colorbar": {
              "outlinewidth": 0,
              "ticks": ""
             }
            },
            "marker": {
             "colorbar": {
              "outlinewidth": 0,
              "ticks": ""
             }
            },
            "type": "scatter3d"
           }
          ],
          "scattercarpet": [
           {
            "marker": {
             "colorbar": {
              "outlinewidth": 0,
              "ticks": ""
             }
            },
            "type": "scattercarpet"
           }
          ],
          "scattergeo": [
           {
            "marker": {
             "colorbar": {
              "outlinewidth": 0,
              "ticks": ""
             }
            },
            "type": "scattergeo"
           }
          ],
          "scattergl": [
           {
            "marker": {
             "line": {
              "color": "#283442"
             }
            },
            "type": "scattergl"
           }
          ],
          "scattermapbox": [
           {
            "marker": {
             "colorbar": {
              "outlinewidth": 0,
              "ticks": ""
             }
            },
            "type": "scattermapbox"
           }
          ],
          "scatterpolar": [
           {
            "marker": {
             "colorbar": {
              "outlinewidth": 0,
              "ticks": ""
             }
            },
            "type": "scatterpolar"
           }
          ],
          "scatterpolargl": [
           {
            "marker": {
             "colorbar": {
              "outlinewidth": 0,
              "ticks": ""
             }
            },
            "type": "scatterpolargl"
           }
          ],
          "scatterternary": [
           {
            "marker": {
             "colorbar": {
              "outlinewidth": 0,
              "ticks": ""
             }
            },
            "type": "scatterternary"
           }
          ],
          "surface": [
           {
            "colorbar": {
             "outlinewidth": 0,
             "ticks": ""
            },
            "colorscale": [
             [
              0,
              "#0d0887"
             ],
             [
              0.1111111111111111,
              "#46039f"
             ],
             [
              0.2222222222222222,
              "#7201a8"
             ],
             [
              0.3333333333333333,
              "#9c179e"
             ],
             [
              0.4444444444444444,
              "#bd3786"
             ],
             [
              0.5555555555555556,
              "#d8576b"
             ],
             [
              0.6666666666666666,
              "#ed7953"
             ],
             [
              0.7777777777777778,
              "#fb9f3a"
             ],
             [
              0.8888888888888888,
              "#fdca26"
             ],
             [
              1,
              "#f0f921"
             ]
            ],
            "type": "surface"
           }
          ],
          "table": [
           {
            "cells": {
             "fill": {
              "color": "#506784"
             },
             "line": {
              "color": "rgb(17,17,17)"
             }
            },
            "header": {
             "fill": {
              "color": "#2a3f5f"
             },
             "line": {
              "color": "rgb(17,17,17)"
             }
            },
            "type": "table"
           }
          ]
         },
         "layout": {
          "annotationdefaults": {
           "arrowcolor": "#f2f5fa",
           "arrowhead": 0,
           "arrowwidth": 1
          },
          "autotypenumbers": "strict",
          "coloraxis": {
           "colorbar": {
            "outlinewidth": 0,
            "ticks": ""
           }
          },
          "colorscale": {
           "diverging": [
            [
             0,
             "#8e0152"
            ],
            [
             0.1,
             "#c51b7d"
            ],
            [
             0.2,
             "#de77ae"
            ],
            [
             0.3,
             "#f1b6da"
            ],
            [
             0.4,
             "#fde0ef"
            ],
            [
             0.5,
             "#f7f7f7"
            ],
            [
             0.6,
             "#e6f5d0"
            ],
            [
             0.7,
             "#b8e186"
            ],
            [
             0.8,
             "#7fbc41"
            ],
            [
             0.9,
             "#4d9221"
            ],
            [
             1,
             "#276419"
            ]
           ],
           "sequential": [
            [
             0,
             "#0d0887"
            ],
            [
             0.1111111111111111,
             "#46039f"
            ],
            [
             0.2222222222222222,
             "#7201a8"
            ],
            [
             0.3333333333333333,
             "#9c179e"
            ],
            [
             0.4444444444444444,
             "#bd3786"
            ],
            [
             0.5555555555555556,
             "#d8576b"
            ],
            [
             0.6666666666666666,
             "#ed7953"
            ],
            [
             0.7777777777777778,
             "#fb9f3a"
            ],
            [
             0.8888888888888888,
             "#fdca26"
            ],
            [
             1,
             "#f0f921"
            ]
           ],
           "sequentialminus": [
            [
             0,
             "#0d0887"
            ],
            [
             0.1111111111111111,
             "#46039f"
            ],
            [
             0.2222222222222222,
             "#7201a8"
            ],
            [
             0.3333333333333333,
             "#9c179e"
            ],
            [
             0.4444444444444444,
             "#bd3786"
            ],
            [
             0.5555555555555556,
             "#d8576b"
            ],
            [
             0.6666666666666666,
             "#ed7953"
            ],
            [
             0.7777777777777778,
             "#fb9f3a"
            ],
            [
             0.8888888888888888,
             "#fdca26"
            ],
            [
             1,
             "#f0f921"
            ]
           ]
          },
          "colorway": [
           "#636efa",
           "#EF553B",
           "#00cc96",
           "#ab63fa",
           "#FFA15A",
           "#19d3f3",
           "#FF6692",
           "#B6E880",
           "#FF97FF",
           "#FECB52"
          ],
          "font": {
           "color": "#f2f5fa"
          },
          "geo": {
           "bgcolor": "rgb(17,17,17)",
           "lakecolor": "rgb(17,17,17)",
           "landcolor": "rgb(17,17,17)",
           "showlakes": true,
           "showland": true,
           "subunitcolor": "#506784"
          },
          "hoverlabel": {
           "align": "left"
          },
          "hovermode": "closest",
          "mapbox": {
           "style": "dark"
          },
          "paper_bgcolor": "rgb(17,17,17)",
          "plot_bgcolor": "rgb(17,17,17)",
          "polar": {
           "angularaxis": {
            "gridcolor": "#506784",
            "linecolor": "#506784",
            "ticks": ""
           },
           "bgcolor": "rgb(17,17,17)",
           "radialaxis": {
            "gridcolor": "#506784",
            "linecolor": "#506784",
            "ticks": ""
           }
          },
          "scene": {
           "xaxis": {
            "backgroundcolor": "rgb(17,17,17)",
            "gridcolor": "#506784",
            "gridwidth": 2,
            "linecolor": "#506784",
            "showbackground": true,
            "ticks": "",
            "zerolinecolor": "#C8D4E3"
           },
           "yaxis": {
            "backgroundcolor": "rgb(17,17,17)",
            "gridcolor": "#506784",
            "gridwidth": 2,
            "linecolor": "#506784",
            "showbackground": true,
            "ticks": "",
            "zerolinecolor": "#C8D4E3"
           },
           "zaxis": {
            "backgroundcolor": "rgb(17,17,17)",
            "gridcolor": "#506784",
            "gridwidth": 2,
            "linecolor": "#506784",
            "showbackground": true,
            "ticks": "",
            "zerolinecolor": "#C8D4E3"
           }
          },
          "shapedefaults": {
           "line": {
            "color": "#f2f5fa"
           }
          },
          "sliderdefaults": {
           "bgcolor": "#C8D4E3",
           "bordercolor": "rgb(17,17,17)",
           "borderwidth": 1,
           "tickwidth": 0
          },
          "ternary": {
           "aaxis": {
            "gridcolor": "#506784",
            "linecolor": "#506784",
            "ticks": ""
           },
           "baxis": {
            "gridcolor": "#506784",
            "linecolor": "#506784",
            "ticks": ""
           },
           "bgcolor": "rgb(17,17,17)",
           "caxis": {
            "gridcolor": "#506784",
            "linecolor": "#506784",
            "ticks": ""
           }
          },
          "title": {
           "x": 0.05
          },
          "updatemenudefaults": {
           "bgcolor": "#506784",
           "borderwidth": 0
          },
          "xaxis": {
           "automargin": true,
           "gridcolor": "#283442",
           "linecolor": "#506784",
           "ticks": "",
           "title": {
            "standoff": 15
           },
           "zerolinecolor": "#283442",
           "zerolinewidth": 2
          },
          "yaxis": {
           "automargin": true,
           "gridcolor": "#283442",
           "linecolor": "#506784",
           "ticks": "",
           "title": {
            "standoff": 15
           },
           "zerolinecolor": "#283442",
           "zerolinewidth": 2
          }
         }
        },
        "title": {
         "text": "Distribution of Strikes Leading to Knockouts in Each Weight Class",
         "x": 0.5
        },
        "xaxis": {
         "anchor": "y",
         "categoryarray": [
          "Women's Strawweight",
          "Women's Flyweight",
          "Flyweight",
          "Women's Bantamweight",
          "Bantamweight",
          "Women's Featherweight",
          "Featherweight",
          "Lightweight",
          "Welterweight",
          "Middleweight",
          "Light Heavyweight",
          "Heavyweight",
          "Super Heavyweight",
          "Catch Weight",
          "Open Weight"
         ],
         "categoryorder": "array",
         "domain": [
          0,
          1
         ],
         "tickangle": 45,
         "title": {
          "text": "Weight Class"
         }
        },
        "yaxis": {
         "anchor": "x",
         "domain": [
          0,
          1
         ],
         "title": {
          "text": "Total Strikes Landed (for KO/TKO)"
         }
        }
       }
      }
     },
     "metadata": {},
     "output_type": "display_data"
    }
   ],
   "source": [
    "# Ensuring that the weight classes are in the correct order\n",
    "weight_class_order = [\n",
    "    \"Women's Strawweight\",\n",
    "    \"Women's Flyweight\", \n",
    "    \"Flyweight\",\n",
    "    \"Women's Bantamweight\",  \n",
    "    \"Bantamweight\",\n",
    "    \"Women's Featherweight\", \n",
    "    \"Featherweight\", \n",
    "    \"Lightweight\", \n",
    "    \"Welterweight\", \n",
    "    \"Middleweight\", \n",
    "    \"Light Heavyweight\", \n",
    "    \"Heavyweight\", \n",
    "    \"Super Heavyweight\",\n",
    "    \"Catch Weight\",\n",
    "    \"Open Weight\"\n",
    "]\n",
    "\n",
    "# Filtering dataset for fights that ended in a knockout\n",
    "ko_fights = df.copy()[df['Method'].str.contains('KO/TKO')]\n",
    "\n",
    "# For knockouts, consider the total strikes landed by the winner until the knockout\n",
    "ko_fights['Total_Strikes_Landed'] = ko_fights.apply(lambda row: row['Fighter_1_STR'] if row['Winner'] == row['Fighter 1'] else row['Fighter_2_STR'], axis=1)\n",
    "\n",
    "# Create a numerical column for weight classes\n",
    "weight_class_mapping = {wc: i for i, wc in enumerate(weight_class_order)}\n",
    "ko_fights['Weight_Class_Num'] = ko_fights['Weight_Class'].map(weight_class_mapping)\n",
    "\n",
    "# Generate gradient colors based on the weight classes\n",
    "ko_fights['Color'] = get_gradient_colors(ko_fights, 'Weight_Class_Num', color_start=(0, 0, 1), color_end=(0, 1, 1))  # Red to Gold gradient\n",
    "\n",
    "# Creating a box plot with Plotly\n",
    "fig = px.box(ko_fights, \n",
    "             x='Weight_Class', \n",
    "             y='Total_Strikes_Landed', \n",
    "             color='Color',\n",
    "             color_discrete_map=\"identity\",  # Use the colors as they are in the gradient\n",
    "             category_orders={'Weight_Class': weight_class_order})  # Ordering the weight classes\n",
    "\n",
    "# Customizing the layout\n",
    "fig.update_layout(title='Distribution of Strikes Leading to Knockouts in Each Weight Class',\n",
    "                  xaxis_title='Weight Class',\n",
    "                  yaxis_title='Total Strikes Landed (for KO/TKO)', template='plotly_dark', title_x=0.5, height=700,\n",
    "                  #boxmode='group',  # Group boxes of the same location\n",
    "                  boxgap=0.00001  # Smaller gap between boxes for thicker appearance)\n",
    ")\n",
    "\n",
    "# Rotating the x-axis labels for better readability\n",
    "fig.update_xaxes(tickangle=45)\n",
    "fig.update_traces(width=0.5)\n",
    "\n",
    "# Show the plot\n",
    "fig.show()"
   ]
  },
  {
   "cell_type": "markdown",
   "metadata": {},
   "source": [
    "![Distribution of Strikes Leading to Knockouts in Each Weight Class](weight_class_knockouts.png)\n"
   ]
  },
  {
   "cell_type": "markdown",
   "metadata": {},
   "source": [
    "## 4. Do fighters strike more now than they did in the past?"
   ]
  },
  {
   "cell_type": "code",
   "execution_count": 27,
   "metadata": {},
   "outputs": [
    {
     "data": {
      "application/vnd.plotly.v1+json": {
       "config": {
        "plotlyServerURL": "https://plot.ly"
       },
       "data": [
        {
         "hovertemplate": "Year=%{x}<br>Average Strikes=%{y}<extra></extra>",
         "legendgroup": "",
         "line": {
          "color": "#FF0000",
          "dash": "solid",
          "width": 2
         },
         "marker": {
          "symbol": "circle"
         },
         "mode": "lines",
         "name": "",
         "orientation": "v",
         "showlegend": false,
         "type": "scatter",
         "x": [
          1994,
          1995,
          1996,
          1997,
          1998,
          1999,
          2000,
          2001,
          2002,
          2003,
          2004,
          2005,
          2006,
          2007,
          2008,
          2009,
          2010,
          2011,
          2012,
          2013,
          2014,
          2015,
          2016,
          2017,
          2018,
          2019,
          2020,
          2021,
          2022,
          2023
         ],
         "xaxis": "x",
         "y": [
          8.931034482758621,
          11.5,
          18,
          13.76923076923077,
          31.61904761904762,
          28.318181818181817,
          25.232558139534884,
          32.125,
          38.60377358490566,
          41.09756097560975,
          31.41025641025641,
          34.4625,
          43.5253164556962,
          45.538011695906434,
          47.89,
          50.17209302325581,
          58.1699604743083,
          61.99666666666667,
          68.55718475073314,
          65.70725388601036,
          65.90258449304174,
          66.90486257928119,
          74.40973630831643,
          82.07002188183807,
          82.59493670886076,
          84.9922480620155,
          88.10087719298245,
          93.89587426326129,
          89.73189823874755,
          89.74647887323944
         ],
         "yaxis": "y"
        }
       ],
       "layout": {
        "height": 1000,
        "legend": {
         "tracegroupgap": 0
        },
        "template": {
         "data": {
          "bar": [
           {
            "error_x": {
             "color": "#f2f5fa"
            },
            "error_y": {
             "color": "#f2f5fa"
            },
            "marker": {
             "line": {
              "color": "rgb(17,17,17)",
              "width": 0.5
             },
             "pattern": {
              "fillmode": "overlay",
              "size": 10,
              "solidity": 0.2
             }
            },
            "type": "bar"
           }
          ],
          "barpolar": [
           {
            "marker": {
             "line": {
              "color": "rgb(17,17,17)",
              "width": 0.5
             },
             "pattern": {
              "fillmode": "overlay",
              "size": 10,
              "solidity": 0.2
             }
            },
            "type": "barpolar"
           }
          ],
          "carpet": [
           {
            "aaxis": {
             "endlinecolor": "#A2B1C6",
             "gridcolor": "#506784",
             "linecolor": "#506784",
             "minorgridcolor": "#506784",
             "startlinecolor": "#A2B1C6"
            },
            "baxis": {
             "endlinecolor": "#A2B1C6",
             "gridcolor": "#506784",
             "linecolor": "#506784",
             "minorgridcolor": "#506784",
             "startlinecolor": "#A2B1C6"
            },
            "type": "carpet"
           }
          ],
          "choropleth": [
           {
            "colorbar": {
             "outlinewidth": 0,
             "ticks": ""
            },
            "type": "choropleth"
           }
          ],
          "contour": [
           {
            "colorbar": {
             "outlinewidth": 0,
             "ticks": ""
            },
            "colorscale": [
             [
              0,
              "#0d0887"
             ],
             [
              0.1111111111111111,
              "#46039f"
             ],
             [
              0.2222222222222222,
              "#7201a8"
             ],
             [
              0.3333333333333333,
              "#9c179e"
             ],
             [
              0.4444444444444444,
              "#bd3786"
             ],
             [
              0.5555555555555556,
              "#d8576b"
             ],
             [
              0.6666666666666666,
              "#ed7953"
             ],
             [
              0.7777777777777778,
              "#fb9f3a"
             ],
             [
              0.8888888888888888,
              "#fdca26"
             ],
             [
              1,
              "#f0f921"
             ]
            ],
            "type": "contour"
           }
          ],
          "contourcarpet": [
           {
            "colorbar": {
             "outlinewidth": 0,
             "ticks": ""
            },
            "type": "contourcarpet"
           }
          ],
          "heatmap": [
           {
            "colorbar": {
             "outlinewidth": 0,
             "ticks": ""
            },
            "colorscale": [
             [
              0,
              "#0d0887"
             ],
             [
              0.1111111111111111,
              "#46039f"
             ],
             [
              0.2222222222222222,
              "#7201a8"
             ],
             [
              0.3333333333333333,
              "#9c179e"
             ],
             [
              0.4444444444444444,
              "#bd3786"
             ],
             [
              0.5555555555555556,
              "#d8576b"
             ],
             [
              0.6666666666666666,
              "#ed7953"
             ],
             [
              0.7777777777777778,
              "#fb9f3a"
             ],
             [
              0.8888888888888888,
              "#fdca26"
             ],
             [
              1,
              "#f0f921"
             ]
            ],
            "type": "heatmap"
           }
          ],
          "heatmapgl": [
           {
            "colorbar": {
             "outlinewidth": 0,
             "ticks": ""
            },
            "colorscale": [
             [
              0,
              "#0d0887"
             ],
             [
              0.1111111111111111,
              "#46039f"
             ],
             [
              0.2222222222222222,
              "#7201a8"
             ],
             [
              0.3333333333333333,
              "#9c179e"
             ],
             [
              0.4444444444444444,
              "#bd3786"
             ],
             [
              0.5555555555555556,
              "#d8576b"
             ],
             [
              0.6666666666666666,
              "#ed7953"
             ],
             [
              0.7777777777777778,
              "#fb9f3a"
             ],
             [
              0.8888888888888888,
              "#fdca26"
             ],
             [
              1,
              "#f0f921"
             ]
            ],
            "type": "heatmapgl"
           }
          ],
          "histogram": [
           {
            "marker": {
             "pattern": {
              "fillmode": "overlay",
              "size": 10,
              "solidity": 0.2
             }
            },
            "type": "histogram"
           }
          ],
          "histogram2d": [
           {
            "colorbar": {
             "outlinewidth": 0,
             "ticks": ""
            },
            "colorscale": [
             [
              0,
              "#0d0887"
             ],
             [
              0.1111111111111111,
              "#46039f"
             ],
             [
              0.2222222222222222,
              "#7201a8"
             ],
             [
              0.3333333333333333,
              "#9c179e"
             ],
             [
              0.4444444444444444,
              "#bd3786"
             ],
             [
              0.5555555555555556,
              "#d8576b"
             ],
             [
              0.6666666666666666,
              "#ed7953"
             ],
             [
              0.7777777777777778,
              "#fb9f3a"
             ],
             [
              0.8888888888888888,
              "#fdca26"
             ],
             [
              1,
              "#f0f921"
             ]
            ],
            "type": "histogram2d"
           }
          ],
          "histogram2dcontour": [
           {
            "colorbar": {
             "outlinewidth": 0,
             "ticks": ""
            },
            "colorscale": [
             [
              0,
              "#0d0887"
             ],
             [
              0.1111111111111111,
              "#46039f"
             ],
             [
              0.2222222222222222,
              "#7201a8"
             ],
             [
              0.3333333333333333,
              "#9c179e"
             ],
             [
              0.4444444444444444,
              "#bd3786"
             ],
             [
              0.5555555555555556,
              "#d8576b"
             ],
             [
              0.6666666666666666,
              "#ed7953"
             ],
             [
              0.7777777777777778,
              "#fb9f3a"
             ],
             [
              0.8888888888888888,
              "#fdca26"
             ],
             [
              1,
              "#f0f921"
             ]
            ],
            "type": "histogram2dcontour"
           }
          ],
          "mesh3d": [
           {
            "colorbar": {
             "outlinewidth": 0,
             "ticks": ""
            },
            "type": "mesh3d"
           }
          ],
          "parcoords": [
           {
            "line": {
             "colorbar": {
              "outlinewidth": 0,
              "ticks": ""
             }
            },
            "type": "parcoords"
           }
          ],
          "pie": [
           {
            "automargin": true,
            "type": "pie"
           }
          ],
          "scatter": [
           {
            "marker": {
             "line": {
              "color": "#283442"
             }
            },
            "type": "scatter"
           }
          ],
          "scatter3d": [
           {
            "line": {
             "colorbar": {
              "outlinewidth": 0,
              "ticks": ""
             }
            },
            "marker": {
             "colorbar": {
              "outlinewidth": 0,
              "ticks": ""
             }
            },
            "type": "scatter3d"
           }
          ],
          "scattercarpet": [
           {
            "marker": {
             "colorbar": {
              "outlinewidth": 0,
              "ticks": ""
             }
            },
            "type": "scattercarpet"
           }
          ],
          "scattergeo": [
           {
            "marker": {
             "colorbar": {
              "outlinewidth": 0,
              "ticks": ""
             }
            },
            "type": "scattergeo"
           }
          ],
          "scattergl": [
           {
            "marker": {
             "line": {
              "color": "#283442"
             }
            },
            "type": "scattergl"
           }
          ],
          "scattermapbox": [
           {
            "marker": {
             "colorbar": {
              "outlinewidth": 0,
              "ticks": ""
             }
            },
            "type": "scattermapbox"
           }
          ],
          "scatterpolar": [
           {
            "marker": {
             "colorbar": {
              "outlinewidth": 0,
              "ticks": ""
             }
            },
            "type": "scatterpolar"
           }
          ],
          "scatterpolargl": [
           {
            "marker": {
             "colorbar": {
              "outlinewidth": 0,
              "ticks": ""
             }
            },
            "type": "scatterpolargl"
           }
          ],
          "scatterternary": [
           {
            "marker": {
             "colorbar": {
              "outlinewidth": 0,
              "ticks": ""
             }
            },
            "type": "scatterternary"
           }
          ],
          "surface": [
           {
            "colorbar": {
             "outlinewidth": 0,
             "ticks": ""
            },
            "colorscale": [
             [
              0,
              "#0d0887"
             ],
             [
              0.1111111111111111,
              "#46039f"
             ],
             [
              0.2222222222222222,
              "#7201a8"
             ],
             [
              0.3333333333333333,
              "#9c179e"
             ],
             [
              0.4444444444444444,
              "#bd3786"
             ],
             [
              0.5555555555555556,
              "#d8576b"
             ],
             [
              0.6666666666666666,
              "#ed7953"
             ],
             [
              0.7777777777777778,
              "#fb9f3a"
             ],
             [
              0.8888888888888888,
              "#fdca26"
             ],
             [
              1,
              "#f0f921"
             ]
            ],
            "type": "surface"
           }
          ],
          "table": [
           {
            "cells": {
             "fill": {
              "color": "#506784"
             },
             "line": {
              "color": "rgb(17,17,17)"
             }
            },
            "header": {
             "fill": {
              "color": "#2a3f5f"
             },
             "line": {
              "color": "rgb(17,17,17)"
             }
            },
            "type": "table"
           }
          ]
         },
         "layout": {
          "annotationdefaults": {
           "arrowcolor": "#f2f5fa",
           "arrowhead": 0,
           "arrowwidth": 1
          },
          "autotypenumbers": "strict",
          "coloraxis": {
           "colorbar": {
            "outlinewidth": 0,
            "ticks": ""
           }
          },
          "colorscale": {
           "diverging": [
            [
             0,
             "#8e0152"
            ],
            [
             0.1,
             "#c51b7d"
            ],
            [
             0.2,
             "#de77ae"
            ],
            [
             0.3,
             "#f1b6da"
            ],
            [
             0.4,
             "#fde0ef"
            ],
            [
             0.5,
             "#f7f7f7"
            ],
            [
             0.6,
             "#e6f5d0"
            ],
            [
             0.7,
             "#b8e186"
            ],
            [
             0.8,
             "#7fbc41"
            ],
            [
             0.9,
             "#4d9221"
            ],
            [
             1,
             "#276419"
            ]
           ],
           "sequential": [
            [
             0,
             "#0d0887"
            ],
            [
             0.1111111111111111,
             "#46039f"
            ],
            [
             0.2222222222222222,
             "#7201a8"
            ],
            [
             0.3333333333333333,
             "#9c179e"
            ],
            [
             0.4444444444444444,
             "#bd3786"
            ],
            [
             0.5555555555555556,
             "#d8576b"
            ],
            [
             0.6666666666666666,
             "#ed7953"
            ],
            [
             0.7777777777777778,
             "#fb9f3a"
            ],
            [
             0.8888888888888888,
             "#fdca26"
            ],
            [
             1,
             "#f0f921"
            ]
           ],
           "sequentialminus": [
            [
             0,
             "#0d0887"
            ],
            [
             0.1111111111111111,
             "#46039f"
            ],
            [
             0.2222222222222222,
             "#7201a8"
            ],
            [
             0.3333333333333333,
             "#9c179e"
            ],
            [
             0.4444444444444444,
             "#bd3786"
            ],
            [
             0.5555555555555556,
             "#d8576b"
            ],
            [
             0.6666666666666666,
             "#ed7953"
            ],
            [
             0.7777777777777778,
             "#fb9f3a"
            ],
            [
             0.8888888888888888,
             "#fdca26"
            ],
            [
             1,
             "#f0f921"
            ]
           ]
          },
          "colorway": [
           "#636efa",
           "#EF553B",
           "#00cc96",
           "#ab63fa",
           "#FFA15A",
           "#19d3f3",
           "#FF6692",
           "#B6E880",
           "#FF97FF",
           "#FECB52"
          ],
          "font": {
           "color": "#f2f5fa"
          },
          "geo": {
           "bgcolor": "rgb(17,17,17)",
           "lakecolor": "rgb(17,17,17)",
           "landcolor": "rgb(17,17,17)",
           "showlakes": true,
           "showland": true,
           "subunitcolor": "#506784"
          },
          "hoverlabel": {
           "align": "left"
          },
          "hovermode": "closest",
          "mapbox": {
           "style": "dark"
          },
          "paper_bgcolor": "rgb(17,17,17)",
          "plot_bgcolor": "rgb(17,17,17)",
          "polar": {
           "angularaxis": {
            "gridcolor": "#506784",
            "linecolor": "#506784",
            "ticks": ""
           },
           "bgcolor": "rgb(17,17,17)",
           "radialaxis": {
            "gridcolor": "#506784",
            "linecolor": "#506784",
            "ticks": ""
           }
          },
          "scene": {
           "xaxis": {
            "backgroundcolor": "rgb(17,17,17)",
            "gridcolor": "#506784",
            "gridwidth": 2,
            "linecolor": "#506784",
            "showbackground": true,
            "ticks": "",
            "zerolinecolor": "#C8D4E3"
           },
           "yaxis": {
            "backgroundcolor": "rgb(17,17,17)",
            "gridcolor": "#506784",
            "gridwidth": 2,
            "linecolor": "#506784",
            "showbackground": true,
            "ticks": "",
            "zerolinecolor": "#C8D4E3"
           },
           "zaxis": {
            "backgroundcolor": "rgb(17,17,17)",
            "gridcolor": "#506784",
            "gridwidth": 2,
            "linecolor": "#506784",
            "showbackground": true,
            "ticks": "",
            "zerolinecolor": "#C8D4E3"
           }
          },
          "shapedefaults": {
           "line": {
            "color": "#f2f5fa"
           }
          },
          "sliderdefaults": {
           "bgcolor": "#C8D4E3",
           "bordercolor": "rgb(17,17,17)",
           "borderwidth": 1,
           "tickwidth": 0
          },
          "ternary": {
           "aaxis": {
            "gridcolor": "#506784",
            "linecolor": "#506784",
            "ticks": ""
           },
           "baxis": {
            "gridcolor": "#506784",
            "linecolor": "#506784",
            "ticks": ""
           },
           "bgcolor": "rgb(17,17,17)",
           "caxis": {
            "gridcolor": "#506784",
            "linecolor": "#506784",
            "ticks": ""
           }
          },
          "title": {
           "x": 0.05
          },
          "updatemenudefaults": {
           "bgcolor": "#506784",
           "borderwidth": 0
          },
          "xaxis": {
           "automargin": true,
           "gridcolor": "#283442",
           "linecolor": "#506784",
           "ticks": "",
           "title": {
            "standoff": 15
           },
           "zerolinecolor": "#283442",
           "zerolinewidth": 2
          },
          "yaxis": {
           "automargin": true,
           "gridcolor": "#283442",
           "linecolor": "#506784",
           "ticks": "",
           "title": {
            "standoff": 15
           },
           "zerolinecolor": "#283442",
           "zerolinewidth": 2
          }
         }
        },
        "title": {
         "text": "Average Strikes Per Year by Weight Class"
        },
        "width": 1200,
        "xaxis": {
         "anchor": "y",
         "domain": [
          0,
          1
         ],
         "title": {
          "text": "Year"
         }
        },
        "yaxis": {
         "anchor": "x",
         "domain": [
          0,
          1
         ],
         "title": {
          "text": "Average Strikes"
         }
        }
       }
      }
     },
     "metadata": {},
     "output_type": "display_data"
    }
   ],
   "source": [
    "# Convert 'Date' to datetime and extract the year\n",
    "df['Date'] = pd.to_datetime(df['Date'])\n",
    "df['Year'] = df['Date'].dt.year\n",
    "df['Total_Strikes_Landed'] = df['Fighter_1_STR'] + df['Fighter_2_STR']\n",
    "\n",
    "# Calculate average strikes per year for each weight class\n",
    "average_strikes = df.groupby(['Year']).agg({'Total_Strikes_Landed': 'mean'}).reset_index()\n",
    "\n",
    "# Create the line plot\n",
    "fig = px.line(average_strikes, x='Year', y='Total_Strikes_Landed',\n",
    "              title='Average Strikes Per Year by Weight Class',\n",
    "              labels={'Total_Strikes_Landed': 'Average Strikes'})\n",
    "\n",
    "# Customize with UFC colors\n",
    "fig.update_layout(height=1000, width=1200, template='plotly_dark')\n",
    "fig.update_traces(line=dict(color='#FF0000', width=2))\n",
    "\n",
    "# Show the plot\n",
    "fig.show()\n"
   ]
  },
  {
   "cell_type": "markdown",
   "metadata": {},
   "source": [
    "![Strikes Over Time](strikes_over_time.png)\n"
   ]
  },
  {
   "cell_type": "markdown",
   "metadata": {},
   "source": [
    "Thanks for reading!"
   ]
  }
 ],
 "metadata": {
  "kernelspec": {
   "display_name": "ufc_venv",
   "language": "python",
   "name": "python3"
  },
  "language_info": {
   "codemirror_mode": {
    "name": "ipython",
    "version": 3
   },
   "file_extension": ".py",
   "mimetype": "text/x-python",
   "name": "python",
   "nbconvert_exporter": "python",
   "pygments_lexer": "ipython3",
   "version": "3.9.12"
  }
 },
 "nbformat": 4,
 "nbformat_minor": 2
}
